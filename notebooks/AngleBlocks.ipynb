{
 "cells": [
  {
   "cell_type": "code",
   "execution_count": 15,
   "id": "f4cf18dd-9252-4d3b-95c0-1127e26675b5",
   "metadata": {},
   "outputs": [
    {
     "name": "stderr",
     "output_type": "stream",
     "text": [
      "WARNING: replacing module PowerSensitivities.\n"
     ]
    }
   ],
   "source": [
    "include(\"/home/sam/github/PowerSensitivities.jl/src/PowerSensitivities.jl\")\n",
    "#import .PowerSensitivities\n",
    "using .PowerSensitivities"
   ]
  },
  {
   "cell_type": "code",
   "execution_count": 9,
   "id": "61402d2d-632c-4176-8ddb-5a1530d807bc",
   "metadata": {},
   "outputs": [
    {
     "ename": "LoadError",
     "evalue": "UndefVarError: parse_file not defined",
     "output_type": "error",
     "traceback": [
      "UndefVarError: parse_file not defined",
      "",
      "Stacktrace:",
      " [1] top-level scope",
      "   @ In[9]:1",
      " [2] eval",
      "   @ ./boot.jl:373 [inlined]",
      " [3] include_string(mapexpr::typeof(REPL.softscope), mod::Module, code::String, filename::String)",
      "   @ Base ./loading.jl:1196"
     ]
    }
   ],
   "source": [
    "network = make_basic_network(parse_file(\"/home/sam/github/PowerSensitivities.jl/data/matpower/case14.m\"))\n",
    "Y = calc_admittance_matrix(network)\n",
    "J = calc_jacobian_matrix(network,1)\n",
    "vm,q = abs.(calc_basic_bus_voltage(network)),imag(calc_basic_bus_injection(network))"
   ]
  },
  {
   "cell_type": "code",
   "execution_count": null,
   "id": "8865523b-57ed-48f7-95da-ca381aca8951",
   "metadata": {},
   "outputs": [],
   "source": []
  },
  {
   "cell_type": "code",
   "execution_count": null,
   "id": "834a5714-c6b9-4b3b-9d03-af21d9dddc79",
   "metadata": {},
   "outputs": [],
   "source": []
  }
 ],
 "metadata": {
  "kernelspec": {
   "display_name": "Julia 1.7.2",
   "language": "julia",
   "name": "julia-1.7"
  },
  "language_info": {
   "file_extension": ".jl",
   "mimetype": "application/julia",
   "name": "julia",
   "version": "1.7.2"
  }
 },
 "nbformat": 4,
 "nbformat_minor": 5
}
