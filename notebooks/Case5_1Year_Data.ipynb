{
 "cells": [
  {
   "cell_type": "code",
   "execution_count": 1,
   "id": "b0f5ace6",
   "metadata": {},
   "outputs": [],
   "source": [
    "using PowerSystems\n",
    "using PowerModels\n",
    "using PowerModelsInterface\n",
    "using Ipopt\n",
    "using Dates\n",
    "using DataFrames\n",
    "using Gadfly\n",
    "using PowerSystemCaseBuilder"
   ]
  },
  {
   "cell_type": "code",
   "execution_count": 7,
   "id": "682fa416",
   "metadata": {},
   "outputs": [
    {
     "name": "stderr",
     "output_type": "stream",
     "text": [
      "┌ Info: Loaded time series from storage file existing=5_bus_matpower_DA_time_series_storage.h5 new=/tmp/jl_DjI8Q0 compression=CompressionSettings(false, CompressionTypes.DEFLATE = 1, 3, true)\n",
      "└ @ InfrastructureSystems /home/sam/.julia/packages/InfrastructureSystems/7AXsY/src/hdf5_time_series_storage.jl:98\n",
      "┌ Warning: Rate 1000.0 MW for bus1-bus5-i_3 is larger than the max expected in the range of (min = 134.0, max = 145.0).\n",
      "└ @ PowerSystems /home/sam/.julia/packages/PowerSystems/a9ndT/src/utils/IO/branchdata_checks.jl:148\n",
      "┌ Warning: Rate 200.0 MW for bus1-bus4-i_2 is larger than the max expected in the range of (min = 134.0, max = 145.0).\n",
      "└ @ PowerSystems /home/sam/.julia/packages/PowerSystems/a9ndT/src/utils/IO/branchdata_checks.jl:148\n",
      "┌ Warning: Rate 200.0 MW for bus1-bus2-i_1 is larger than the max expected in the range of (min = 134.0, max = 145.0).\n",
      "└ @ PowerSystems /home/sam/.julia/packages/PowerSystems/a9ndT/src/utils/IO/branchdata_checks.jl:148\n",
      "┌ Warning: Rate 200.0 MW for bus4-bus5-i_7 is larger than the max expected in the range of (min = 134.0, max = 145.0).\n",
      "└ @ PowerSystems /home/sam/.julia/packages/PowerSystems/a9ndT/src/utils/IO/branchdata_checks.jl:148\n",
      "┌ Warning: Rate 1200.0 MW for bus2-bus3-i_4 is larger than the max expected in the range of (min = 134.0, max = 145.0).\n",
      "└ @ PowerSystems /home/sam/.julia/packages/PowerSystems/a9ndT/src/utils/IO/branchdata_checks.jl:148\n"
     ]
    },
    {
     "data": {
      "text/plain": [
       "Dict{String, Dict} with 7 entries:\n",
       "  \"dcline\"  => Dict{Any, Any}()\n",
       "  \"branch\"  => Dict{String, ACBranch}(\"4\"=>Line(bus1-bus4-i_2, true, 0.0, 0.0, …\n",
       "  \"gen\"     => Dict{String, Generator}(\"4\"=>ThermalStandard(Park City, true, tr…\n",
       "  \"shunt\"   => Dict{Any, Any}()\n",
       "  \"storage\" => Dict{Any, Any}()\n",
       "  \"load\"    => Dict{String, PowerLoad}(\"1\"=>PowerLoad(bus4, true, Bus(4, bus4, …\n",
       "  \"bus\"     => Dict{String, Bus}(\"4\"=>Bus(4, bus4, BusTypes.REF = 4, 0.0, 1.0, …"
      ]
     },
     "execution_count": 7,
     "metadata": {},
     "output_type": "execute_result"
    }
   ],
   "source": [
    "sys = build_system(SIIPExampleSystems, \"5_bus_matpower_DA\")\n",
    "pm_map = PowerModelsInterface.get_pm_map(sys)"
   ]
  },
  {
   "cell_type": "code",
   "execution_count": 8,
   "id": "77b4bd96",
   "metadata": {},
   "outputs": [
    {
     "data": {
      "text/plain": [
       "5-element Vector{Bus}:\n",
       " Bus(1, bus1, BusTypes.PV = 3, 0.048935017968641414, 1.0, (min = 0.9, max = 1.1), 230.0, Area(1, 0.0, 0.0, 0.0), LoadZone(1, 10.0, 3.2869), Dict{String, Any}())\n",
       " Bus(4, bus4, BusTypes.REF = 4, 0.0, 1.0, (min = 0.9, max = 1.1), 230.0, Area(1, 0.0, 0.0, 0.0), LoadZone(1, 10.0, 3.2869), Dict{String, Any}())\n",
       " Bus(10, bus5, BusTypes.PV = 3, 0.06266307973312801, 1.0, (min = 0.9, max = 1.1), 230.0, Area(1, 0.0, 0.0, 0.0), LoadZone(1, 10.0, 3.2869), Dict{String, Any}())\n",
       " Bus(2, bus2, BusTypes.PQ = 2, -0.012822061349776342, 1.08407, (min = 0.9, max = 1.1), 230.0, Area(1, 0.0, 0.0, 0.0), LoadZone(1, 10.0, 3.2869), Dict{String, Any}())\n",
       " Bus(3, bus3, BusTypes.PV = 3, -0.00976895688926266, 1.0, (min = 0.9, max = 1.1), 230.0, Area(1, 0.0, 0.0, 0.0), LoadZone(1, 10.0, 3.2869), Dict{String, Any}())"
      ]
     },
     "execution_count": 8,
     "metadata": {},
     "output_type": "execute_result"
    }
   ],
   "source": [
    "buses = collect(get_components(Bus,sys))"
   ]
  },
  {
   "cell_type": "code",
   "execution_count": 9,
   "id": "230c990a",
   "metadata": {},
   "outputs": [
    {
     "name": "stdout",
     "output_type": "stream",
     "text": [
      "Forecast horizon: 48\n"
     ]
    }
   ],
   "source": [
    "T = get_forecast_horizon(sys) \n",
    "println(\"Forecast horizon: \",T)"
   ]
  },
  {
   "cell_type": "markdown",
   "id": "6e594788",
   "metadata": {},
   "source": [
    "## Make the Case 5 Jacobian with PowerModels NR Model"
   ]
  },
  {
   "cell_type": "code",
   "execution_count": 10,
   "id": "b3b2a3f4",
   "metadata": {},
   "outputs": [
    {
     "ename": "LoadError",
     "evalue": "MethodError: no method matching get(::ThermalStandard, ::String, ::Int64)\n\u001b[0mClosest candidates are:\n\u001b[0m  get(\u001b[91m::DataStructures.Trie\u001b[39m, ::AbstractString, ::Any) at /home/sam/.julia/packages/DataStructures/nBjdy/src/trie.jl:74\n\u001b[0m  get(\u001b[91m::Base.Iterators.Pairs\u001b[39m, ::Any, ::Any) at iterators.jl:272\n\u001b[0m  get(\u001b[91m::MathOptInterface.Utilities.CleverDicts.CleverDict\u001b[39m, ::Any, ::Any) at /home/sam/.julia/packages/MathOptInterface/YDdD3/src/Utilities/CleverDicts.jl:168\n\u001b[0m  ...",
     "output_type": "error",
     "traceback": [
      "MethodError: no method matching get(::ThermalStandard, ::String, ::Int64)\n\u001b[0mClosest candidates are:\n\u001b[0m  get(\u001b[91m::DataStructures.Trie\u001b[39m, ::AbstractString, ::Any) at /home/sam/.julia/packages/DataStructures/nBjdy/src/trie.jl:74\n\u001b[0m  get(\u001b[91m::Base.Iterators.Pairs\u001b[39m, ::Any, ::Any) at iterators.jl:272\n\u001b[0m  get(\u001b[91m::MathOptInterface.Utilities.CleverDicts.CleverDict\u001b[39m, ::Any, ::Any) at /home/sam/.julia/packages/MathOptInterface/YDdD3/src/Utilities/CleverDicts.jl:168\n\u001b[0m  ...",
      "",
      "Stacktrace:",
      " [1] make_basic_network(data::Dict{String, Dict})",
      "   @ PowerModels ~/.julia/packages/PowerModels/KfWfN/src/core/data_basic.jl:33",
      " [2] top-level scope",
      "   @ In[10]:1",
      " [3] eval",
      "   @ ./boot.jl:360 [inlined]",
      " [4] include_string(mapexpr::typeof(REPL.softscope), mod::Module, code::String, filename::String)",
      "   @ Base ./loading.jl:1116"
     ]
    }
   ],
   "source": [
    "pm_basic_network = make_basic_network(pm_map)\n",
    "jac_full = calc_basic_jacobian_matrix(pm_basic_network)\n",
    "jac_full"
   ]
  },
  {
   "cell_type": "code",
   "execution_count": 11,
   "id": "7d58fcb3",
   "metadata": {},
   "outputs": [
    {
     "name": "stderr",
     "output_type": "stream",
     "text": [
      "┌ Info: Unit System changed to UnitSystem.SYSTEM_BASE = 0\n",
      "└ @ PowerSystems /home/sam/.julia/packages/PowerSystems/a9ndT/src/base.jl:339\n"
     ]
    },
    {
     "ename": "LoadError",
     "evalue": "MethodError: no method matching add_pm_cost!(::Dict{String, Any}, ::TwoPartCost)\n\u001b[0mClosest candidates are:\n\u001b[0m  add_pm_cost!(::Dict{String, Any}, ::T, \u001b[91m::Float64\u001b[39m) where T<:TwoPartCost at /home/sam/.julia/packages/PowerModelsInterface/OedyI/src/devices/gen.jl:13\n\u001b[0m  add_pm_cost!(::Dict{String, Any}, \u001b[91m::T\u001b[39m, \u001b[91m::Float64\u001b[39m) where T<:ThreePartCost at /home/sam/.julia/packages/PowerModelsInterface/OedyI/src/devices/gen.jl:2",
     "output_type": "error",
     "traceback": [
      "MethodError: no method matching add_pm_cost!(::Dict{String, Any}, ::TwoPartCost)\n\u001b[0mClosest candidates are:\n\u001b[0m  add_pm_cost!(::Dict{String, Any}, ::T, \u001b[91m::Float64\u001b[39m) where T<:TwoPartCost at /home/sam/.julia/packages/PowerModelsInterface/OedyI/src/devices/gen.jl:13\n\u001b[0m  add_pm_cost!(::Dict{String, Any}, \u001b[91m::T\u001b[39m, \u001b[91m::Float64\u001b[39m) where T<:ThreePartCost at /home/sam/.julia/packages/PowerModelsInterface/OedyI/src/devices/gen.jl:2",
      "",
      "Stacktrace:",
      " [1] get_component_to_pm(ix::Int64, gen::RenewableDispatch)",
      "   @ PowerModelsInterface ~/.julia/packages/PowerModelsInterface/OedyI/src/devices/gen.jl:117",
      " [2] get_components_to_pm(sys::System, device_type::Type{Generator})",
      "   @ PowerModelsInterface ~/.julia/packages/PowerModelsInterface/OedyI/src/pm_data_translator.jl:26",
      " [3] get_pm_data(sys::System; kwargs::Base.Iterators.Pairs{Symbol, Any, Tuple{Symbol, Symbol}, NamedTuple{(:start_time, :period), Tuple{DateTime, Int64}}})",
      "   @ PowerModelsInterface ~/.julia/packages/PowerModelsInterface/OedyI/src/pm_data_translator.jl:52",
      " [4] run_pf(system::System, model_type::Type, optimizer::Type; kwargs::Base.Iterators.Pairs{Symbol, Any, Tuple{Symbol, Symbol}, NamedTuple{(:start_time, :period), Tuple{DateTime, Int64}}})",
      "   @ PowerModelsInterface ~/.julia/packages/PowerModelsInterface/OedyI/src/pm_wrapper.jl:23",
      " [5] top-level scope",
      "   @ ./In[11]:14",
      " [6] eval",
      "   @ ./boot.jl:360 [inlined]",
      " [7] include_string(mapexpr::typeof(REPL.softscope), mod::Module, code::String, filename::String)",
      "   @ Base ./loading.jl:1116"
     ]
    }
   ],
   "source": [
    "\n",
    "buses = get_components(Bus, sys)\n",
    "T = get_forecast_horizon(sys)\n",
    "results = Dict(\n",
    "    zip(\n",
    "        get_name.(buses),\n",
    "        [\n",
    "            Dict(\"va\" => zeros(T), \"vm\" => zeros(T), \"pg\" => zeros(T), \"qg\" => zeros(T)) for b = 1:length(buses)\n",
    "        ],\n",
    "    ),\n",
    ")\n",
    "for t = 1:get_forecast_horizon(sys)\n",
    "    #run the PF\n",
    "    soln = run_pf(\n",
    "        sys,\n",
    "        ACPPowerModel,\n",
    "        Ipopt.Optimizer,\n",
    "        start_time = get_forecast_initial_timestamp(sys),\n",
    "        period = t,\n",
    "    )\n",
    "    #extract the results\n",
    "    for (id, b) in results\n",
    "        b[\"va\"][t] += soln[\"solution\"][\"bus\"][id][\"va\"]\n",
    "        b[\"vm\"][t] += soln[\"solution\"][\"bus\"][id][\"vm\"]\n",
    "        for (gid, g) in pm_map[\"gen\"]\n",
    "            if get_name(get_bus(g)) == id\n",
    "                b[\"pg\"][t] += soln[\"solution\"][\"gen\"][gid][\"pg\"]\n",
    "                b[\"qg\"][t] += soln[\"solution\"][\"gen\"][gid][\"qg\"]\n",
    "            end\n",
    "        end\n",
    "    end\n",
    "end\n",
    "\n",
    "#convert results into a dataframe\n",
    "results_dfs = Dict()\n",
    "for (b, r) in results\n",
    "    results_dfs[b] = DataFrame(r)\n",
    "end\n",
    "\n",
    "results_dfs[\"1\"]\n"
   ]
  },
  {
   "cell_type": "code",
   "execution_count": null,
   "id": "5dcfe4d1",
   "metadata": {},
   "outputs": [],
   "source": [
    "\n",
    "# for the OPF approach, we can just run one multi network OPF\n",
    "mn_soln = run_mn_opf(\n",
    "    sys,\n",
    "    ACPPowerModel,\n",
    "    Ipopt.Optimizer,\n",
    "    start_time = get_forecast_initial_timestamp(sys),\n",
    "    time_periods = 1:T,\n",
    ")\n",
    "\n",
    "#TODO: extract the data from mn_solution\n"
   ]
  },
  {
   "cell_type": "code",
   "execution_count": 12,
   "id": "1a9dfe5b",
   "metadata": {},
   "outputs": [
    {
     "data": {
      "text/plain": [
       "0"
      ]
     },
     "execution_count": 12,
     "metadata": {},
     "output_type": "execute_result"
    }
   ],
   "source": [
    "get_forecast_horizon(sys)"
   ]
  },
  {
   "cell_type": "code",
   "execution_count": 11,
   "id": "ecd76fb0",
   "metadata": {},
   "outputs": [
    {
     "data": {
      "text/plain": [
       "Dict{Any, Any} with 5 entries:\n",
       "  \"4\"  => \u001b[1m0×4 DataFrame\u001b[0m\n",
       "  \"1\"  => \u001b[1m0×4 DataFrame\u001b[0m\n",
       "  \"10\" => \u001b[1m0×4 DataFrame\u001b[0m\n",
       "  \"2\"  => \u001b[1m0×4 DataFrame\u001b[0m\n",
       "  \"3\"  => \u001b[1m0×4 DataFrame\u001b[0m"
      ]
     },
     "execution_count": 11,
     "metadata": {},
     "output_type": "execute_result"
    }
   ],
   "source": [
    "results_dfs"
   ]
  },
  {
   "cell_type": "code",
   "execution_count": null,
   "id": "0197cdfa",
   "metadata": {},
   "outputs": [],
   "source": []
  }
 ],
 "metadata": {
  "kernelspec": {
   "display_name": "Julia 1.6.0",
   "language": "julia",
   "name": "julia-1.6"
  },
  "language_info": {
   "file_extension": ".jl",
   "mimetype": "application/julia",
   "name": "julia",
   "version": "1.6.2"
  }
 },
 "nbformat": 4,
 "nbformat_minor": 5
}
