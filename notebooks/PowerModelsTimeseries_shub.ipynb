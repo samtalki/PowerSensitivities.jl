{
 "cells": [
  {
   "cell_type": "code",
   "execution_count": 1,
   "metadata": {},
   "outputs": [
    {
     "data": {
      "text/plain": [
       "create_ref_indexes"
      ]
     },
     "execution_count": 1,
     "metadata": {},
     "output_type": "execute_result"
    }
   ],
   "source": [
    "\"\"\"\n",
    "create_ref_indexes(ref)\n",
    "\n",
    "Returns the dictionary \"ref\" with the added keys \":bus_name_to_index\", \":bus_index_to_name\",\n",
    "\":branch_name_to_index\", \":branch_index_to_name\", \":ref_bus_index\", and \":ref_bus_name\".\n",
    "\n",
    "The branch and bus names are identified via the inputed network data.\n",
    "The branch and bus indexes are integer numbers in [1, L] and [1, N], respectively,\n",
    "which identify the positions of the assocatied branches/buses in the SF and PTDF matrices.\n",
    "\n",
    "\"\"\"\n",
    "function create_ref_indexes(ref)\n",
    "\n",
    "    #create vector of sorted bus names\n",
    "    sorted_bus_names = collect(keys(sort(ref[:bus])))\n",
    "    #create dictionary of bus indexes\n",
    "    #key is the bus name, value is the index of that bus\n",
    "    bus_name_to_index = Dict(i => findfirst(x->x==i, sorted_bus_names) for i in keys(ref[:bus]))\n",
    "    #key is the bus index in the SF and PTDF matrices, value is the bus name\n",
    "    bus_index_to_name = Dict(index => sorted_bus_names[index] for index in 1:length(sorted_bus_names))\n",
    "    #add dictionary to ref\n",
    "    push!(ref, :bus_name_to_index => bus_name_to_index)\n",
    "    push!(ref, :bus_index_to_name => bus_index_to_name)\n",
    "\n",
    "    #create vector of sorted branch numbers\n",
    "    sorted_branch_names = collect(keys(sort(ref[:branch])))\n",
    "    #create dictionary of branch indexes\n",
    "    #key is the branch id, value is the index of that branch\n",
    "    branch_name_to_index = Dict(i => findfirst(x->x==i, sorted_branch_names) for i in keys(ref[:branch]))\n",
    "    #key is the branch index in the SF and PTDF matrices, value is the bus id\n",
    "    branch_index_to_name = Dict(index => sorted_branch_names[index] for index in 1:length(sorted_branch_names))\n",
    "    #add dictionary to ref\n",
    "    push!(ref, :branch_name_to_index => branch_name_to_index);\n",
    "    push!(ref, :branch_index_to_name => branch_index_to_name);\n",
    "\n",
    "    #find the reference bus name and index\n",
    "    ref_bus_index = Int64\n",
    "    ref_bus_name = Int64\n",
    "    for (i,bus) in ref[:bus]\n",
    "        if ref[:bus][i][\"bus_type\"]==3\n",
    "            ref_bus_index = ref[:bus_name_to_index][i]\n",
    "            ref_bus_name = i\n",
    "        end  \n",
    "    end\n",
    "    #add dictionary to ref\n",
    "    push!(ref, :ref_bus_index => ref_bus_index);\n",
    "    push!(ref, :ref_bus_name => ref_bus_name);\n",
    "    \n",
    "    return ref\n",
    "\n",
    "end\n"
   ]
  },
  {
   "cell_type": "code",
   "execution_count": 6,
   "metadata": {},
   "outputs": [
    {
     "name": "stdout",
     "output_type": "stream",
     "text": [
      "\u001b[32m[info | PowerModels]: Suppressing information and warning messages for the rest of this session.  Use the Memento package for more fine-grained control of logging.\u001b[39m\n"
     ]
    }
   ],
   "source": [
    "#load packages\n",
    "using PowerModels\n",
    "#turn off notifications in PowerModels\n",
    "PowerModels.silence()\n",
    "#Add data\n",
    "data = PowerModels.parse_file(\"/Users/shubhamtandon/Desktop/Research/2/tutorial-grid-science-2019-master/data/RTS_GMLC.m\")\n",
    "#Use build_ref to reference active components in system\n",
    "ref = PowerModels.build_ref(data)[:nw][0];\n",
    "ref = create_ref_indexes(ref);"
   ]
  },
  {
   "cell_type": "code",
   "execution_count": 7,
   "metadata": {},
   "outputs": [
    {
     "data": {
      "text/plain": [
       "Dict{Symbol,Any} with 38 entries:\n",
       "  :areas                => Dict{Int64,Any}(2=>Dict{String,Any}(\"source_id\"=>Any…\n",
       "  :arcs_to              => [(68, 224, 215), (2, 103, 101), (89, 310, 306), (11,…\n",
       "  :arcs_dc              => [(1, 113, 316), (1, 316, 113)]\n",
       "  :switch               => Dict{Int64,Any}()\n",
       "  :bus_gens             => Dict(124=>[],210=>[],306=>[],215=>[85, 83, 84, 37, 3…\n",
       "  :bus_arcs             => Dict(124=>[(29, 124, 115), (7, 124, 103)],210=>[(58,…\n",
       "  :bus                  => Dict{Int64,Any}(124=>Dict{String,Any}(\"zone\"=>16,\"bu…\n",
       "  :dcline               => Dict{Int64,Any}(1=>Dict{String,Any}(\"loss1\"=>0.0,\"mp…\n",
       "  :buspairs             => Dict{Tuple{Int64,Int64},Dict{String,Real}}((115, 124…\n",
       "  :branch_name_to_index => Dict(68=>68,2=>2,89=>89,11=>11,39=>39,46=>46,85=>85,…\n",
       "  :arcs_to_dc           => [(1, 316, 113)]\n",
       "  :arcs_to_sw           => Tuple{Int64,Any,Any}[]\n",
       "  :storage              => Dict{Int64,Any}()\n",
       "  :bus_name_to_index    => Dict(124=>24,210=>34,306=>54,215=>39,207=>31,209=>33…\n",
       "  :bus_loads            => Dict(124=>[],210=>[27],306=>[40],215=>[30],207=>[24]…\n",
       "  :bus_index_to_name    => Dict(68=>320,2=>102,11=>111,39=>215,46=>222,25=>201,…\n",
       "  :branch               => Dict{Int64,Any}(68=>Dict{String,Any}(\"br_r\"=>0.007,\"…\n",
       "  :gen                  => Dict{Int64,Any}(68=>Dict{String,Any}(\"ncost\"=>4,\"qc1…\n",
       "  :source_type          => \"matpower\"\n",
       "  :name                 => \"RTS_GMLC\"\n",
       "  :branch_index_to_name => Dict(68=>68,2=>2,89=>89,11=>11,39=>39,46=>46,85=>85,…\n",
       "  :shunt                => Dict{Int64,Any}(2=>Dict{String,Any}(\"source_id\"=>Any…\n",
       "  :load                 => Dict{Int64,Any}(2=>Dict{String,Any}(\"source_id\"=>Any…\n",
       "  :arcs_from_sw         => Tuple{Int64,Any,Any}[]\n",
       "  :arcs                 => [(68, 215, 224), (2, 101, 103), (89, 306, 310), (11,…\n",
       "  ⋮                     => ⋮"
      ]
     },
     "execution_count": 7,
     "metadata": {},
     "output_type": "execute_result"
    }
   ],
   "source": [
    "ref"
   ]
  },
  {
   "cell_type": "code",
   "execution_count": null,
   "metadata": {},
   "outputs": [],
   "source": []
  }
 ],
 "metadata": {
  "kernelspec": {
   "display_name": "Julia 1.5.2",
   "language": "julia",
   "name": "julia-1.5"
  },
  "language_info": {
   "file_extension": ".jl",
   "mimetype": "application/julia",
   "name": "julia",
   "version": "1.5.2"
  }
 },
 "nbformat": 4,
 "nbformat_minor": 4
}
