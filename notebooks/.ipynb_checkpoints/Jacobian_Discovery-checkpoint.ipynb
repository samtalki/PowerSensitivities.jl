{
 "cells": [
  {
   "cell_type": "code",
   "execution_count": 8,
   "id": "c689d6b1",
   "metadata": {},
   "outputs": [],
   "source": [
    "using Revise\n",
    "using PowerSensitivities\n",
    "using Gadfly\n",
    "using DataFrames\n",
    "using LinearAlgebra"
   ]
  },
  {
   "cell_type": "markdown",
   "id": "58649960",
   "metadata": {},
   "source": [
    "# Load the IEEE 14 Bus Case and Calculate the Analytical Jacobian"
   ]
  },
  {
   "cell_type": "code",
   "execution_count": 9,
   "id": "99970af1",
   "metadata": {},
   "outputs": [],
   "source": [
    "set_system_model()"
   ]
  },
  {
   "cell_type": "code",
   "execution_count": 11,
   "id": "d0ee2c8a",
   "metadata": {
    "collapsed": true,
    "jupyter": {
     "outputs_hidden": true
    }
   },
   "outputs": [
    {
     "name": "stdout",
     "output_type": "stream",
     "text": [
      "\u001b[35m[warn | PowerModels]: this code only supports angmin values in -90 deg. to 90 deg., tightening the value on branch 4 from -90.0 to -60.0 deg.\u001b[39m\n",
      "\u001b[35m[warn | PowerModels]: this code only supports angmax values in -90 deg. to 90 deg., tightening the value on branch 4 from 90.0 to 60.0 deg.\u001b[39m\n",
      "\u001b[35m[warn | PowerModels]: this code only supports angmin values in -90 deg. to 90 deg., tightening the value on branch 1 from -90.0 to -60.0 deg.\u001b[39m\n",
      "\u001b[35m[warn | PowerModels]: this code only supports angmax values in -90 deg. to 90 deg., tightening the value on branch 1 from 90.0 to 60.0 deg.\u001b[39m\n",
      "\u001b[35m[warn | PowerModels]: this code only supports angmin values in -90 deg. to 90 deg., tightening the value on branch 12 from -90.0 to -60.0 deg.\u001b[39m\n",
      "\u001b[35m[warn | PowerModels]: this code only supports angmax values in -90 deg. to 90 deg., tightening the value on branch 12 from 90.0 to 60.0 deg.\u001b[39m\n",
      "\u001b[35m[warn | PowerModels]: this code only supports angmin values in -90 deg. to 90 deg., tightening the value on branch 20 from -90.0 to -60.0 deg.\u001b[39m\n",
      "\u001b[35m[warn | PowerModels]: this code only supports angmax values in -90 deg. to 90 deg., tightening the value on branch 20 from 90.0 to 60.0 deg.\u001b[39m\n",
      "\u001b[35m[warn | PowerModels]: this code only supports angmin values in -90 deg. to 90 deg., tightening the value on branch 2 from -90.0 to -60.0 deg.\u001b[39m\n",
      "\u001b[35m[warn | PowerModels]: this code only supports angmax values in -90 deg. to 90 deg., tightening the value on branch 2 from 90.0 to 60.0 deg.\u001b[39m\n",
      "\u001b[35m[warn | PowerModels]: this code only supports angmin values in -90 deg. to 90 deg., tightening the value on branch 6 from -90.0 to -60.0 deg.\u001b[39m\n",
      "\u001b[35m[warn | PowerModels]: this code only supports angmax values in -90 deg. to 90 deg., tightening the value on branch 6 from 90.0 to 60.0 deg.\u001b[39m\n",
      "\u001b[35m[warn | PowerModels]: this code only supports angmin values in -90 deg. to 90 deg., tightening the value on branch 11 from -90.0 to -60.0 deg.\u001b[39m\n",
      "\u001b[35m[warn | PowerModels]: this code only supports angmax values in -90 deg. to 90 deg., tightening the value on branch 11 from 90.0 to 60.0 deg.\u001b[39m\n",
      "\u001b[35m[warn | PowerModels]: this code only supports angmin values in -90 deg. to 90 deg., tightening the value on branch 13 from -90.0 to -60.0 deg.\u001b[39m\n",
      "\u001b[35m[warn | PowerModels]: this code only supports angmax values in -90 deg. to 90 deg., tightening the value on branch 13 from 90.0 to 60.0 deg.\u001b[39m\n",
      "\u001b[35m[warn | PowerModels]: this code only supports angmin values in -90 deg. to 90 deg., tightening the value on branch 5 from -90.0 to -60.0 deg.\u001b[39m\n",
      "\u001b[35m[warn | PowerModels]: this code only supports angmax values in -90 deg. to 90 deg., tightening the value on branch 5 from 90.0 to 60.0 deg.\u001b[39m\n",
      "\u001b[35m[warn | PowerModels]: this code only supports angmin values in -90 deg. to 90 deg., tightening the value on branch 15 from -90.0 to -60.0 deg.\u001b[39m\n",
      "\u001b[35m[warn | PowerModels]: this code only supports angmax values in -90 deg. to 90 deg., tightening the value on branch 15 from 90.0 to 60.0 deg.\u001b[39m\n",
      "\u001b[35m[warn | PowerModels]: this code only supports angmin values in -90 deg. to 90 deg., tightening the value on branch 16 from -90.0 to -60.0 deg.\u001b[39m\n",
      "\u001b[35m[warn | PowerModels]: this code only supports angmax values in -90 deg. to 90 deg., tightening the value on branch 16 from 90.0 to 60.0 deg.\u001b[39m\n",
      "\u001b[35m[warn | PowerModels]: this code only supports angmin values in -90 deg. to 90 deg., tightening the value on branch 14 from -90.0 to -60.0 deg.\u001b[39m\n",
      "\u001b[35m[warn | PowerModels]: this code only supports angmax values in -90 deg. to 90 deg., tightening the value on branch 14 from 90.0 to 60.0 deg.\u001b[39m\n",
      "\u001b[35m[warn | PowerModels]: this code only supports angmin values in -90 deg. to 90 deg., tightening the value on branch 7 from -90.0 to -60.0 deg.\u001b[39m\n",
      "\u001b[35m[warn | PowerModels]: this code only supports angmax values in -90 deg. to 90 deg., tightening the value on branch 7 from 90.0 to 60.0 deg.\u001b[39m\n",
      "\u001b[35m[warn | PowerModels]: this code only supports angmin values in -90 deg. to 90 deg., tightening the value on branch 8 from -90.0 to -60.0 deg.\u001b[39m\n",
      "\u001b[35m[warn | PowerModels]: this code only supports angmax values in -90 deg. to 90 deg., tightening the value on branch 8 from 90.0 to 60.0 deg.\u001b[39m\n",
      "\u001b[35m[warn | PowerModels]: this code only supports angmin values in -90 deg. to 90 deg., tightening the value on branch 17 from -90.0 to -60.0 deg.\u001b[39m\n",
      "\u001b[35m[warn | PowerModels]: this code only supports angmax values in -90 deg. to 90 deg., tightening the value on branch 17 from 90.0 to 60.0 deg.\u001b[39m\n",
      "\u001b[35m[warn | PowerModels]: this code only supports angmin values in -90 deg. to 90 deg., tightening the value on branch 10 from -90.0 to -60.0 deg.\u001b[39m\n",
      "\u001b[35m[warn | PowerModels]: this code only supports angmax values in -90 deg. to 90 deg., tightening the value on branch 10 from 90.0 to 60.0 deg.\u001b[39m\n",
      "\u001b[35m[warn | PowerModels]: this code only supports angmin values in -90 deg. to 90 deg., tightening the value on branch 19 from -90.0 to -60.0 deg.\u001b[39m\n",
      "\u001b[35m[warn | PowerModels]: this code only supports angmax values in -90 deg. to 90 deg., tightening the value on branch 19 from 90.0 to 60.0 deg.\u001b[39m\n",
      "\u001b[35m[warn | PowerModels]: this code only supports angmin values in -90 deg. to 90 deg., tightening the value on branch 9 from -90.0 to -60.0 deg.\u001b[39m\n",
      "\u001b[35m[warn | PowerModels]: this code only supports angmax values in -90 deg. to 90 deg., tightening the value on branch 9 from 90.0 to 60.0 deg.\u001b[39m\n",
      "\u001b[35m[warn | PowerModels]: this code only supports angmin values in -90 deg. to 90 deg., tightening the value on branch 18 from -90.0 to -60.0 deg.\u001b[39m\n",
      "\u001b[35m[warn | PowerModels]: this code only supports angmax values in -90 deg. to 90 deg., tightening the value on branch 18 from 90.0 to 60.0 deg.\u001b[39m\n",
      "\u001b[35m[warn | PowerModels]: this code only supports angmin values in -90 deg. to 90 deg., tightening the value on branch 3 from -90.0 to -60.0 deg.\u001b[39m\n",
      "\u001b[35m[warn | PowerModels]: this code only supports angmax values in -90 deg. to 90 deg., tightening the value on branch 3 from 90.0 to 60.0 deg.\u001b[39m\n",
      "\u001b[35m[warn | PowerModels]: active generators found at bus 8, updating to bus type from 1 to 2\u001b[39m\n",
      "\u001b[32m[info | PowerModels]: removing 2 cost terms from generator 4: [100.0, 4000.0, 0.0]\u001b[39m\n",
      "\u001b[32m[info | PowerModels]: removing 2 cost terms from generator 1: [430.292599, 2000.0, 0.0]\u001b[39m\n",
      "\u001b[32m[info | PowerModels]: removing 2 cost terms from generator 5: [100.0, 4000.0, 0.0]\u001b[39m\n",
      "\u001b[32m[info | PowerModels]: removing 2 cost terms from generator 2: [2500.0, 2000.0, 0.0]\u001b[39m\n",
      "\u001b[32m[info | PowerModels]: removing 2 cost terms from generator 3: [100.0, 4000.0, 0.0]\u001b[39m\n",
      "\u001b[35m[warn | PowerModels]: this code only supports positive rate_a values, changing the value on branch 4 to 605.2298\u001b[39m\n",
      "\u001b[35m[warn | PowerModels]: this code only supports positive rate_a values, changing the value on branch 1 to 1804.6087\u001b[39m\n",
      "\u001b[35m[warn | PowerModels]: this code only supports positive rate_a values, changing the value on branch 12 to 395.9056\u001b[39m\n",
      "\u001b[35m[warn | PowerModels]: this code only supports positive rate_a values, changing the value on branch 20 to 289.7895\u001b[39m\n",
      "\u001b[35m[warn | PowerModels]: this code only supports positive rate_a values, changing the value on branch 2 to 489.6065\u001b[39m\n",
      "\u001b[35m[warn | PowerModels]: this code only supports positive rate_a values, changing the value on branch 6 to 611.6878\u001b[39m\n",
      "\u001b[35m[warn | PowerModels]: this code only supports positive rate_a values, changing the value on branch 11 to 509.7686\u001b[39m\n",
      "\u001b[35m[warn | PowerModels]: this code only supports positive rate_a values, changing the value on branch 13 to 769.048\u001b[39m\n",
      "\u001b[35m[warn | PowerModels]: this code only supports positive rate_a values, changing the value on branch 5 to 614.0953\u001b[39m\n",
      "\u001b[35m[warn | PowerModels]: this code only supports positive rate_a values, changing the value on branch 15 to 1021.3639\u001b[39m\n",
      "\u001b[35m[warn | PowerModels]: this code only supports positive rate_a values, changing the value on branch 16 to 1244.4493\u001b[39m\n",
      "\u001b[35m[warn | PowerModels]: this code only supports positive rate_a values, changing the value on branch 14 to 637.8668\u001b[39m\n",
      "\u001b[35m[warn | PowerModels]: this code only supports positive rate_a values, changing the value on branch 7 to 2543.4968\u001b[39m\n",
      "\u001b[35m[warn | PowerModels]: this code only supports positive rate_a values, changing the value on branch 8 to 537.3003\u001b[39m\n",
      "\u001b[35m[warn | PowerModels]: this code only supports positive rate_a values, changing the value on branch 17 to 376.0786\u001b[39m\n",
      "\u001b[35m[warn | PowerModels]: this code only supports positive rate_a values, changing the value on branch 10 to 445.8386\u001b[39m\n",
      "\u001b[35m[warn | PowerModels]: this code only supports positive rate_a values, changing the value on branch 19 to 377.1462\u001b[39m\n",
      "\u001b[35m[warn | PowerModels]: this code only supports positive rate_a values, changing the value on branch 9 to 202.0214\u001b[39m\n",
      "\u001b[35m[warn | PowerModels]: this code only supports positive rate_a values, changing the value on branch 18 to 537.9655\u001b[39m\n",
      "\u001b[35m[warn | PowerModels]: this code only supports positive rate_a values, changing the value on branch 3 to 552.2192\u001b[39m\n"
     ]
    },
    {
     "data": {
      "text/plain": [
       "28×28 SparseArrays.SparseMatrixCSC{Float64, Int64} with 216 stored entries:\n",
       "⢻⣶⡃⡀⡀⠀⠀⢻⣶⡃⡀⡀⠀⠀\n",
       "⠉⠨⠛⣤⠄⠒⠂⠉⠨⠛⣤⠄⠒⠂\n",
       "⠀⠈⢠⠁⠻⢆⡈⠀⠈⢠⠁⠻⢆⡈\n",
       "⣤⣀⡌⠀⠂⠈⠛⣤⣀⡌⠀⠂⠈⠛\n",
       "⠼⠻⣦⠂⠂⣀⡀⠼⠻⣦⠂⠂⣀⡀\n",
       "⠀⠨⠀⠟⣥⡀⠠⠀⠨⠀⠟⣥⡀⠠\n",
       "⠀⠀⠸⠀⡈⠱⣦⠀⠀⠸⠀⡈⠱⣦"
      ]
     },
     "execution_count": 11,
     "metadata": {},
     "output_type": "execute_result"
    }
   ],
   "source": [
    "system_model_path = PowerSensitivities.system_model_path; #Global system model path\n",
    "pm_data_dict = PowerSensitivities.PowerModels.make_basic_network(PowerSensitivities.PowerModels.parse_file(system_model_path));\n",
    "jac_full = calc_basic_jacobian_matrix(pm_data_dict)"
   ]
  },
  {
   "cell_type": "code",
   "execution_count": 3,
   "id": "d64bb87a",
   "metadata": {},
   "outputs": [
    {
     "data": {
      "text/plain": [
       "5-element Vector{Bus}:\n",
       " Bus(1, nodeA, BusTypes.PV = 3, 0.0, 1.0, (min = 0.9, max = 1.05), 230.0, nothing, nothing, Dict{String, Any}())\n",
       " Bus(2, nodeB, BusTypes.PQ = 2, 0.0, 1.0, (min = 0.9, max = 1.05), 230.0, nothing, nothing, Dict{String, Any}())\n",
       " Bus(3, nodeC, BusTypes.PV = 3, 0.0, 1.0, (min = 0.9, max = 1.05), 230.0, nothing, nothing, Dict{String, Any}())\n",
       " Bus(4, nodeD, BusTypes.REF = 4, 0.0, 1.0, (min = 0.9, max = 1.05), 230.0, nothing, nothing, Dict{String, Any}())\n",
       " Bus(5, nodeE, BusTypes.PV = 3, 0.0, 1.0, (min = 0.9, max = 1.05), 230.0, nothing, nothing, Dict{String, Any}())"
      ]
     },
     "execution_count": 3,
     "metadata": {},
     "output_type": "execute_result"
    },
    {
     "name": "stderr",
     "output_type": "stream",
     "text": [
      "┌ Warning: SystemUnitSetting not defined, using NATURAL_UNITS for displaying device specification.\n",
      "└ @ PowerSystems /home/sam/.julia/packages/PowerSystems/a9ndT/src/utils/print.jl:166\n",
      "┌ Warning: SystemUnitSetting not defined, using NATURAL_UNITS for displaying device specification.\n",
      "└ @ PowerSystems /home/sam/.julia/packages/PowerSystems/a9ndT/src/utils/print.jl:166\n",
      "┌ Warning: SystemUnitSetting not defined, using NATURAL_UNITS for displaying device specification.\n",
      "└ @ PowerSystems /home/sam/.julia/packages/PowerSystems/a9ndT/src/utils/print.jl:166\n",
      "┌ Warning: SystemUnitSetting not defined, using NATURAL_UNITS for displaying device specification.\n",
      "└ @ PowerSystems /home/sam/.julia/packages/PowerSystems/a9ndT/src/utils/print.jl:166\n",
      "┌ Warning: SystemUnitSetting not defined, using NATURAL_UNITS for displaying device specification.\n",
      "└ @ PowerSystems /home/sam/.julia/packages/PowerSystems/a9ndT/src/utils/print.jl:166\n"
     ]
    }
   ],
   "source": [
    "BASE_DIR = abspath(joinpath(dirname(Base.find_package(\"PowerSystems\")),\"..\"))\n",
    "include(joinpath(BASE_DIR,\"test\",\"data_5bus_pu.jl\")) #IEEE 5bus system data\n",
    "nodes_5 = nodes5()"
   ]
  },
  {
   "cell_type": "code",
   "execution_count": 4,
   "id": "b9253ac9",
   "metadata": {},
   "outputs": [
    {
     "name": "stderr",
     "output_type": "stream",
     "text": [
      "┌ Warning: Rate 200.0 MW for 1 is larger than the max expected in the range of (min = 134.0, max = 145.0).\n",
      "└ @ PowerSystems /home/sam/.julia/packages/PowerSystems/a9ndT/src/utils/IO/branchdata_checks.jl:148\n",
      "┌ Warning: Rate 200.0 MW for 2 is larger than the max expected in the range of (min = 134.0, max = 145.0).\n",
      "└ @ PowerSystems /home/sam/.julia/packages/PowerSystems/a9ndT/src/utils/IO/branchdata_checks.jl:148\n",
      "┌ Warning: Rate 1881.2 MW for 3 is larger than the max expected in the range of (min = 134.0, max = 145.0).\n",
      "└ @ PowerSystems /home/sam/.julia/packages/PowerSystems/a9ndT/src/utils/IO/branchdata_checks.jl:148\n",
      "┌ Warning: Rate 1114.8 MW for 4 is larger than the max expected in the range of (min = 134.0, max = 145.0).\n",
      "└ @ PowerSystems /home/sam/.julia/packages/PowerSystems/a9ndT/src/utils/IO/branchdata_checks.jl:148\n",
      "┌ Warning: Rate 4053.0 MW for 5 is larger than the max expected in the range of (min = 134.0, max = 145.0).\n",
      "└ @ PowerSystems /home/sam/.julia/packages/PowerSystems/a9ndT/src/utils/IO/branchdata_checks.jl:148\n",
      "┌ Warning: Rate 200.0 MW for 6 is larger than the max expected in the range of (min = 134.0, max = 145.0).\n",
      "└ @ PowerSystems /home/sam/.julia/packages/PowerSystems/a9ndT/src/utils/IO/branchdata_checks.jl:148\n"
     ]
    },
    {
     "data": {
      "text/html": [
       "<!DOCTYPE html>\n",
       "<html>\n",
       "<meta charset=\"UTF-8\">\n",
       "<style>\n",
       "  table, td, th {\n",
       "      border-collapse: collapse;\n",
       "      font-family: sans-serif;\n",
       "  }\n",
       "\n",
       "  td, th {\n",
       "      border-bottom: 0;\n",
       "      padding: 4px\n",
       "  }\n",
       "\n",
       "  tr:nth-child(odd) {\n",
       "      background: #eee;\n",
       "  }\n",
       "\n",
       "  tr:nth-child(even) {\n",
       "      background: #fff;\n",
       "  }\n",
       "\n",
       "  tr.header {\n",
       "      background: navy !important;\n",
       "      color: white;\n",
       "      font-weight: bold;\n",
       "  }\n",
       "\n",
       "  tr.subheader {\n",
       "      background: lightgray !important;\n",
       "      color: black;\n",
       "  }\n",
       "\n",
       "  tr.headerLastRow {\n",
       "      border-bottom: 2px solid black;\n",
       "  }\n",
       "\n",
       "  th.rowNumber, td.rowNumber {\n",
       "      text-align: right;\n",
       "  }\n",
       "\n",
       "</style>\n",
       "<body>\n",
       "<table>\n",
       "  <caption style = \"text-align: left;\">System</caption>\n",
       "  <tr class = \"header headerLastRow\">\n",
       "    <th style = \"text-align: left;\">Property</th>\n",
       "    <th style = \"text-align: left;\">Value</th>\n",
       "  </tr>\n",
       "  <tr>\n",
       "    <td style = \"text-align: left;\">System Units Base</td>\n",
       "    <td style = \"text-align: left;\">SYSTEM_BASE</td>\n",
       "  </tr>\n",
       "  <tr>\n",
       "    <td style = \"text-align: left;\">Base Power</td>\n",
       "    <td style = \"text-align: left;\">100.0</td>\n",
       "  </tr>\n",
       "  <tr>\n",
       "    <td style = \"text-align: left;\">Base Frequency</td>\n",
       "    <td style = \"text-align: left;\">60.0</td>\n",
       "  </tr>\n",
       "  <tr>\n",
       "    <td style = \"text-align: left;\">Num Components</td>\n",
       "    <td style = \"text-align: left;\">28</td>\n",
       "  </tr>\n",
       "</table>\n",
       "</body>\n",
       "</html>\n",
       "\n",
       "<!DOCTYPE html>\n",
       "<html>\n",
       "<meta charset=\"UTF-8\">\n",
       "<style>\n",
       "  table, td, th {\n",
       "      border-collapse: collapse;\n",
       "      font-family: sans-serif;\n",
       "  }\n",
       "\n",
       "  td, th {\n",
       "      border-bottom: 0;\n",
       "      padding: 4px\n",
       "  }\n",
       "\n",
       "  tr:nth-child(odd) {\n",
       "      background: #eee;\n",
       "  }\n",
       "\n",
       "  tr:nth-child(even) {\n",
       "      background: #fff;\n",
       "  }\n",
       "\n",
       "  tr.header {\n",
       "      background: navy !important;\n",
       "      color: white;\n",
       "      font-weight: bold;\n",
       "  }\n",
       "\n",
       "  tr.subheader {\n",
       "      background: lightgray !important;\n",
       "      color: black;\n",
       "  }\n",
       "\n",
       "  tr.headerLastRow {\n",
       "      border-bottom: 2px solid black;\n",
       "  }\n",
       "\n",
       "  th.rowNumber, td.rowNumber {\n",
       "      text-align: right;\n",
       "  }\n",
       "\n",
       "</style>\n",
       "<body>\n",
       "<table>\n",
       "  <caption style = \"text-align: left;\">Static Components</caption>\n",
       "  <tr class = \"header headerLastRow\">\n",
       "    <th style = \"text-align: left;\">Type</th>\n",
       "    <th style = \"text-align: left;\">Count</th>\n",
       "    <th style = \"text-align: left;\">Has Static Time Series</th>\n",
       "    <th style = \"text-align: left;\">Has Forecasts</th>\n",
       "  </tr>\n",
       "  <tr>\n",
       "    <td style = \"text-align: left;\">Arc</td>\n",
       "    <td style = \"text-align: left;\">6</td>\n",
       "    <td style = \"text-align: left;\">false</td>\n",
       "    <td style = \"text-align: left;\">false</td>\n",
       "  </tr>\n",
       "  <tr>\n",
       "    <td style = \"text-align: left;\">Bus</td>\n",
       "    <td style = \"text-align: left;\">5</td>\n",
       "    <td style = \"text-align: left;\">false</td>\n",
       "    <td style = \"text-align: left;\">false</td>\n",
       "  </tr>\n",
       "  <tr>\n",
       "    <td style = \"text-align: left;\">Line</td>\n",
       "    <td style = \"text-align: left;\">6</td>\n",
       "    <td style = \"text-align: left;\">false</td>\n",
       "    <td style = \"text-align: left;\">false</td>\n",
       "  </tr>\n",
       "  <tr>\n",
       "    <td style = \"text-align: left;\">PowerLoad</td>\n",
       "    <td style = \"text-align: left;\">3</td>\n",
       "    <td style = \"text-align: left;\">false</td>\n",
       "    <td style = \"text-align: left;\">false</td>\n",
       "  </tr>\n",
       "  <tr>\n",
       "    <td style = \"text-align: left;\">RenewableDispatch</td>\n",
       "    <td style = \"text-align: left;\">3</td>\n",
       "    <td style = \"text-align: left;\">false</td>\n",
       "    <td style = \"text-align: left;\">false</td>\n",
       "  </tr>\n",
       "  <tr>\n",
       "    <td style = \"text-align: left;\">ThermalStandard</td>\n",
       "    <td style = \"text-align: left;\">5</td>\n",
       "    <td style = \"text-align: left;\">false</td>\n",
       "    <td style = \"text-align: left;\">false</td>\n",
       "  </tr>\n",
       "</table>\n",
       "</body>\n",
       "</html>\n",
       "\n"
      ],
      "text/plain": [
       "\u001b[1mSystem\u001b[0m\n",
       "┌───────────────────┬─────────────┐\n",
       "│\u001b[1m Property          \u001b[0m│\u001b[1m Value       \u001b[0m│\n",
       "├───────────────────┼─────────────┤\n",
       "│ System Units Base │ SYSTEM_BASE │\n",
       "│ Base Power        │ 100.0       │\n",
       "│ Base Frequency    │ 60.0        │\n",
       "│ Num Components    │ 28          │\n",
       "└───────────────────┴─────────────┘\n",
       "\n",
       "\u001b[1mStatic Components\u001b[0m\n",
       "┌───────────────────┬───────┬────────────────────────┬───────────────┐\n",
       "│\u001b[1m Type              \u001b[0m│\u001b[1m Count \u001b[0m│\u001b[1m Has Static Time Series \u001b[0m│\u001b[1m Has Forecasts \u001b[0m│\n",
       "├───────────────────┼───────┼────────────────────────┼───────────────┤\n",
       "│ Arc               │ 6     │ false                  │ false         │\n",
       "│ Bus               │ 5     │ false                  │ false         │\n",
       "│ Line              │ 6     │ false                  │ false         │\n",
       "│ PowerLoad         │ 3     │ false                  │ false         │\n",
       "│ RenewableDispatch │ 3     │ false                  │ false         │\n",
       "│ ThermalStandard   │ 5     │ false                  │ false         │\n",
       "└───────────────────┴───────┴────────────────────────┴───────────────┘\n",
       "\n"
      ]
     },
     "execution_count": 4,
     "metadata": {},
     "output_type": "execute_result"
    }
   ],
   "source": [
    "# Create a system\n",
    "sys = System(\n",
    "    100.0,\n",
    "    nodes_5,\n",
    "    vcat(thermal_generators5(nodes_5), renewable_generators5(nodes_5)),\n",
    "    loads5(nodes_5),\n",
    "    branches5(nodes_5),\n",
    ")\n"
   ]
  },
  {
   "cell_type": "code",
   "execution_count": 5,
   "id": "ebad124c",
   "metadata": {},
   "outputs": [
    {
     "data": {
      "text/plain": [
       "5-element Vector{Bus}:\n",
       " Bus(1, nodeA, BusTypes.PV = 3, 0.0, 1.0, (min = 0.9, max = 1.05), 230.0, nothing, nothing, Dict{String, Any}())\n",
       " Bus(3, nodeC, BusTypes.PV = 3, 0.0, 1.0, (min = 0.9, max = 1.05), 230.0, nothing, nothing, Dict{String, Any}())\n",
       " Bus(5, nodeE, BusTypes.PV = 3, 0.0, 1.0, (min = 0.9, max = 1.05), 230.0, nothing, nothing, Dict{String, Any}())\n",
       " Bus(2, nodeB, BusTypes.PQ = 2, 0.0, 1.0, (min = 0.9, max = 1.05), 230.0, nothing, nothing, Dict{String, Any}())\n",
       " Bus(4, nodeD, BusTypes.REF = 4, 0.0, 1.0, (min = 0.9, max = 1.05), 230.0, nothing, nothing, Dict{String, Any}())"
      ]
     },
     "execution_count": 5,
     "metadata": {},
     "output_type": "execute_result"
    }
   ],
   "source": [
    "get_components(Bus, sys) |> collect\n"
   ]
  },
  {
   "cell_type": "code",
   "execution_count": 6,
   "id": "afb00b1f",
   "metadata": {},
   "outputs": [
    {
     "ename": "LoadError",
     "evalue": "MethodError: no method matching get_time_series_array(::System)\n\u001b[0mClosest candidates are:\n\u001b[0m  get_time_series_array(\u001b[91m::Type{T}\u001b[39m, \u001b[91m::InfrastructureSystems.InfrastructureSystemsComponent\u001b[39m, \u001b[91m::AbstractString\u001b[39m; start_time, len, ignore_scaling_factors) where T<:TimeSeriesData at /home/sam/.julia/packages/InfrastructureSystems/7AXsY/src/component.jl:183\n\u001b[0m  get_time_series_array(\u001b[91m::InfrastructureSystems.InfrastructureSystemsComponent\u001b[39m, \u001b[91m::Forecast\u001b[39m, \u001b[91m::DateTime\u001b[39m; len, ignore_scaling_factors) at /home/sam/.julia/packages/InfrastructureSystems/7AXsY/src/component.jl:213\n\u001b[0m  get_time_series_array(\u001b[91m::InfrastructureSystems.InfrastructureSystemsComponent\u001b[39m, \u001b[91m::StaticTimeSeries\u001b[39m) at /home/sam/.julia/packages/InfrastructureSystems/7AXsY/src/component.jl:231\n\u001b[0m  ...",
     "output_type": "error",
     "traceback": [
      "MethodError: no method matching get_time_series_array(::System)\n\u001b[0mClosest candidates are:\n\u001b[0m  get_time_series_array(\u001b[91m::Type{T}\u001b[39m, \u001b[91m::InfrastructureSystems.InfrastructureSystemsComponent\u001b[39m, \u001b[91m::AbstractString\u001b[39m; start_time, len, ignore_scaling_factors) where T<:TimeSeriesData at /home/sam/.julia/packages/InfrastructureSystems/7AXsY/src/component.jl:183\n\u001b[0m  get_time_series_array(\u001b[91m::InfrastructureSystems.InfrastructureSystemsComponent\u001b[39m, \u001b[91m::Forecast\u001b[39m, \u001b[91m::DateTime\u001b[39m; len, ignore_scaling_factors) at /home/sam/.julia/packages/InfrastructureSystems/7AXsY/src/component.jl:213\n\u001b[0m  get_time_series_array(\u001b[91m::InfrastructureSystems.InfrastructureSystemsComponent\u001b[39m, \u001b[91m::StaticTimeSeries\u001b[39m) at /home/sam/.julia/packages/InfrastructureSystems/7AXsY/src/component.jl:231\n\u001b[0m  ...",
      "",
      "Stacktrace:",
      " [1] top-level scope",
      "   @ In[6]:1",
      " [2] eval",
      "   @ ./boot.jl:360 [inlined]",
      " [3] include_string(mapexpr::typeof(REPL.softscope), mod::Module, code::String, filename::String)",
      "   @ Base ./loading.jl:1116"
     ]
    }
   ],
   "source": [
    "get_time_series_array(sys)"
   ]
  },
  {
   "cell_type": "code",
   "execution_count": null,
   "id": "a11addb5",
   "metadata": {},
   "outputs": [],
   "source": []
  }
 ],
 "metadata": {
  "kernelspec": {
   "display_name": "Julia 1.6.0",
   "language": "julia",
   "name": "julia-1.6"
  },
  "language_info": {
   "file_extension": ".jl",
   "mimetype": "application/julia",
   "name": "julia",
   "version": "1.6.2"
  }
 },
 "nbformat": 4,
 "nbformat_minor": 5
}
