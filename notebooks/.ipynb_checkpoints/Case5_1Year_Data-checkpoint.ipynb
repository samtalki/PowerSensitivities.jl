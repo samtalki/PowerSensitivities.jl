{
 "cells": [
  {
   "cell_type": "code",
   "execution_count": 13,
   "id": "552a3a7d",
   "metadata": {},
   "outputs": [],
   "source": [
    "using PowerSystems\n",
    "using PowerModels\n",
    "using PowerModelsInterface\n",
    "using Ipopt\n",
    "using Dates\n",
    "using DataFrames\n",
    "using Gadfly\n",
    "using PowerSystemCaseBuilder"
   ]
  },
  {
   "cell_type": "code",
   "execution_count": null,
   "id": "eb6103d8",
   "metadata": {},
   "outputs": [],
   "source": [
    "sys = build_system(SIIPExampleSystems, \"5_bus_matpower_RT\")"
   ]
  },
  {
   "cell_type": "code",
   "execution_count": 20,
   "id": "1d81be67",
   "metadata": {},
   "outputs": [
    {
     "data": {
      "text/html": [
       "<!DOCTYPE html>\n",
       "<html>\n",
       "<meta charset=\"UTF-8\">\n",
       "<style>\n",
       "  table, td, th {\n",
       "      border-collapse: collapse;\n",
       "      font-family: sans-serif;\n",
       "  }\n",
       "\n",
       "  td, th {\n",
       "      border-bottom: 0;\n",
       "      padding: 4px\n",
       "  }\n",
       "\n",
       "  tr:nth-child(odd) {\n",
       "      background: #eee;\n",
       "  }\n",
       "\n",
       "  tr:nth-child(even) {\n",
       "      background: #fff;\n",
       "  }\n",
       "\n",
       "  tr.header {\n",
       "      background: navy !important;\n",
       "      color: white;\n",
       "      font-weight: bold;\n",
       "  }\n",
       "\n",
       "  tr.subheader {\n",
       "      background: lightgray !important;\n",
       "      color: black;\n",
       "  }\n",
       "\n",
       "  tr.headerLastRow {\n",
       "      border-bottom: 2px solid black;\n",
       "  }\n",
       "\n",
       "  th.rowNumber, td.rowNumber {\n",
       "      text-align: right;\n",
       "  }\n",
       "\n",
       "</style>\n",
       "<body>\n",
       "<table>\n",
       "  <caption style = \"text-align: left;\">System</caption>\n",
       "  <tr class = \"header headerLastRow\">\n",
       "    <th style = \"text-align: left;\">Property</th>\n",
       "    <th style = \"text-align: left;\">Value</th>\n",
       "  </tr>\n",
       "  <tr>\n",
       "    <td style = \"text-align: left;\">System Units Base</td>\n",
       "    <td style = \"text-align: left;\">SYSTEM_BASE</td>\n",
       "  </tr>\n",
       "  <tr>\n",
       "    <td style = \"text-align: left;\">Base Power</td>\n",
       "    <td style = \"text-align: left;\">100.0</td>\n",
       "  </tr>\n",
       "  <tr>\n",
       "    <td style = \"text-align: left;\">Base Frequency</td>\n",
       "    <td style = \"text-align: left;\">60.0</td>\n",
       "  </tr>\n",
       "  <tr>\n",
       "    <td style = \"text-align: left;\">Num Components</td>\n",
       "    <td style = \"text-align: left;\">28</td>\n",
       "  </tr>\n",
       "</table>\n",
       "</body>\n",
       "</html>\n",
       "\n",
       "<!DOCTYPE html>\n",
       "<html>\n",
       "<meta charset=\"UTF-8\">\n",
       "<style>\n",
       "  table, td, th {\n",
       "      border-collapse: collapse;\n",
       "      font-family: sans-serif;\n",
       "  }\n",
       "\n",
       "  td, th {\n",
       "      border-bottom: 0;\n",
       "      padding: 4px\n",
       "  }\n",
       "\n",
       "  tr:nth-child(odd) {\n",
       "      background: #eee;\n",
       "  }\n",
       "\n",
       "  tr:nth-child(even) {\n",
       "      background: #fff;\n",
       "  }\n",
       "\n",
       "  tr.header {\n",
       "      background: navy !important;\n",
       "      color: white;\n",
       "      font-weight: bold;\n",
       "  }\n",
       "\n",
       "  tr.subheader {\n",
       "      background: lightgray !important;\n",
       "      color: black;\n",
       "  }\n",
       "\n",
       "  tr.headerLastRow {\n",
       "      border-bottom: 2px solid black;\n",
       "  }\n",
       "\n",
       "  th.rowNumber, td.rowNumber {\n",
       "      text-align: right;\n",
       "  }\n",
       "\n",
       "</style>\n",
       "<body>\n",
       "<table>\n",
       "  <caption style = \"text-align: left;\">Static Components</caption>\n",
       "  <tr class = \"header headerLastRow\">\n",
       "    <th style = \"text-align: left;\">Type</th>\n",
       "    <th style = \"text-align: left;\">Count</th>\n",
       "    <th style = \"text-align: left;\">Has Static Time Series</th>\n",
       "    <th style = \"text-align: left;\">Has Forecasts</th>\n",
       "  </tr>\n",
       "  <tr>\n",
       "    <td style = \"text-align: left;\">Arc</td>\n",
       "    <td style = \"text-align: left;\">6</td>\n",
       "    <td style = \"text-align: left;\">false</td>\n",
       "    <td style = \"text-align: left;\">false</td>\n",
       "  </tr>\n",
       "  <tr>\n",
       "    <td style = \"text-align: left;\">Area</td>\n",
       "    <td style = \"text-align: left;\">1</td>\n",
       "    <td style = \"text-align: left;\">false</td>\n",
       "    <td style = \"text-align: left;\">false</td>\n",
       "  </tr>\n",
       "  <tr>\n",
       "    <td style = \"text-align: left;\">Bus</td>\n",
       "    <td style = \"text-align: left;\">5</td>\n",
       "    <td style = \"text-align: left;\">false</td>\n",
       "    <td style = \"text-align: left;\">false</td>\n",
       "  </tr>\n",
       "  <tr>\n",
       "    <td style = \"text-align: left;\">Line</td>\n",
       "    <td style = \"text-align: left;\">5</td>\n",
       "    <td style = \"text-align: left;\">false</td>\n",
       "    <td style = \"text-align: left;\">false</td>\n",
       "  </tr>\n",
       "  <tr>\n",
       "    <td style = \"text-align: left;\">LoadZone</td>\n",
       "    <td style = \"text-align: left;\">1</td>\n",
       "    <td style = \"text-align: left;\">false</td>\n",
       "    <td style = \"text-align: left;\">false</td>\n",
       "  </tr>\n",
       "  <tr>\n",
       "    <td style = \"text-align: left;\">PhaseShiftingTransformer</td>\n",
       "    <td style = \"text-align: left;\">2</td>\n",
       "    <td style = \"text-align: left;\">false</td>\n",
       "    <td style = \"text-align: left;\">false</td>\n",
       "  </tr>\n",
       "  <tr>\n",
       "    <td style = \"text-align: left;\">PowerLoad</td>\n",
       "    <td style = \"text-align: left;\">3</td>\n",
       "    <td style = \"text-align: left;\">false</td>\n",
       "    <td style = \"text-align: left;\">false</td>\n",
       "  </tr>\n",
       "  <tr>\n",
       "    <td style = \"text-align: left;\">ThermalStandard</td>\n",
       "    <td style = \"text-align: left;\">5</td>\n",
       "    <td style = \"text-align: left;\">false</td>\n",
       "    <td style = \"text-align: left;\">false</td>\n",
       "  </tr>\n",
       "</table>\n",
       "</body>\n",
       "</html>\n",
       "\n"
      ],
      "text/plain": [
       "\u001b[1mSystem\u001b[0m\n",
       "┌───────────────────┬─────────────┐\n",
       "│\u001b[1m Property          \u001b[0m│\u001b[1m Value       \u001b[0m│\n",
       "├───────────────────┼─────────────┤\n",
       "│ System Units Base │ SYSTEM_BASE │\n",
       "│ Base Power        │ 100.0       │\n",
       "│ Base Frequency    │ 60.0        │\n",
       "│ Num Components    │ 28          │\n",
       "└───────────────────┴─────────────┘\n",
       "\n",
       "\u001b[1mStatic Components\u001b[0m\n",
       "┌──────────────────────────┬───────┬────────────────────────┬───────────────┐\n",
       "│\u001b[1m Type                     \u001b[0m│\u001b[1m Count \u001b[0m│\u001b[1m Has Static Time Series \u001b[0m│\u001b[1m Has Forecasts \u001b[0m│\n",
       "├──────────────────────────┼───────┼────────────────────────┼───────────────┤\n",
       "│ Arc                      │ 6     │ false                  │ false         │\n",
       "│ Area                     │ 1     │ false                  │ false         │\n",
       "│ Bus                      │ 5     │ false                  │ false         │\n",
       "│ Line                     │ 5     │ false                  │ false         │\n",
       "│ LoadZone                 │ 1     │ false                  │ false         │\n",
       "│ PhaseShiftingTransformer │ 2     │ false                  │ false         │\n",
       "│ PowerLoad                │ 3     │ false                  │ false         │\n",
       "│ ThermalStandard          │ 5     │ false                  │ false         │\n",
       "└──────────────────────────┴───────┴────────────────────────┴───────────────┘\n",
       "\n"
      ]
     },
     "execution_count": 20,
     "metadata": {},
     "output_type": "execute_result"
    }
   ],
   "source": [
    "sys"
   ]
  },
  {
   "cell_type": "code",
   "execution_count": null,
   "id": "a209feb8",
   "metadata": {},
   "outputs": [],
   "source": []
  },
  {
   "cell_type": "code",
   "execution_count": null,
   "id": "e618693a",
   "metadata": {},
   "outputs": [],
   "source": []
  },
  {
   "cell_type": "code",
   "execution_count": null,
   "id": "2412582b",
   "metadata": {},
   "outputs": [],
   "source": []
  },
  {
   "cell_type": "code",
   "execution_count": null,
   "id": "bc4dec68",
   "metadata": {},
   "outputs": [],
   "source": []
  },
  {
   "cell_type": "code",
   "execution_count": 21,
   "id": "f99bab76",
   "metadata": {},
   "outputs": [],
   "source": [
    "cd(\"/home/sam/github/PowerSensitivities.jl/PMI_example/\")"
   ]
  },
  {
   "cell_type": "code",
   "execution_count": 23,
   "id": "c9264f15",
   "metadata": {},
   "outputs": [
    {
     "name": "stderr",
     "output_type": "stream",
     "text": [
      "┌ Info: extending matpower format with data: areas 1x3\n",
      "└ @ PowerSystems /home/sam/.julia/packages/PowerSystems/a9ndT/src/parsers/pm_io/matpower.jl:363\n",
      "┌ Info: reversing the orientation of branch 6 (4, 3) to be consistent with other parallel branches\n",
      "└ @ PowerSystems /home/sam/.julia/packages/PowerSystems/a9ndT/src/parsers/pm_io/data.jl:1242\n",
      "┌ Info: the voltage setpoint on generator 4 does not match the value at bus 4\n",
      "└ @ PowerSystems /home/sam/.julia/packages/PowerSystems/a9ndT/src/parsers/pm_io/data.jl:1796\n",
      "┌ Info: the voltage setpoint on generator 1 does not match the value at bus 1\n",
      "└ @ PowerSystems /home/sam/.julia/packages/PowerSystems/a9ndT/src/parsers/pm_io/data.jl:1796\n",
      "┌ Info: the voltage setpoint on generator 5 does not match the value at bus 10\n",
      "└ @ PowerSystems /home/sam/.julia/packages/PowerSystems/a9ndT/src/parsers/pm_io/data.jl:1796\n",
      "┌ Info: the voltage setpoint on generator 2 does not match the value at bus 1\n",
      "└ @ PowerSystems /home/sam/.julia/packages/PowerSystems/a9ndT/src/parsers/pm_io/data.jl:1796\n",
      "┌ Info: the voltage setpoint on generator 3 does not match the value at bus 3\n",
      "└ @ PowerSystems /home/sam/.julia/packages/PowerSystems/a9ndT/src/parsers/pm_io/data.jl:1796\n",
      "┌ Info: removing 1 cost terms from generator 4: [4000.0, 0.0]\n",
      "└ @ PowerSystems /home/sam/.julia/packages/PowerSystems/a9ndT/src/parsers/pm_io/data.jl:1997\n",
      "┌ Info: removing 1 cost terms from generator 1: [1400.0, 0.0]\n",
      "└ @ PowerSystems /home/sam/.julia/packages/PowerSystems/a9ndT/src/parsers/pm_io/data.jl:1997\n",
      "┌ Info: removing 1 cost terms from generator 5: [1000.0, 0.0]\n",
      "└ @ PowerSystems /home/sam/.julia/packages/PowerSystems/a9ndT/src/parsers/pm_io/data.jl:1997\n",
      "┌ Info: removing 1 cost terms from generator 2: [1500.0, 0.0]\n",
      "└ @ PowerSystems /home/sam/.julia/packages/PowerSystems/a9ndT/src/parsers/pm_io/data.jl:1997\n",
      "┌ Info: removing 1 cost terms from generator 3: [3000.0, 0.0]\n",
      "└ @ PowerSystems /home/sam/.julia/packages/PowerSystems/a9ndT/src/parsers/pm_io/data.jl:1997\n",
      "┌ Info: Constructing System from Power Models\n",
      "│   data[\"name\"] = nesta_case5_pjm\n",
      "│   data[\"source_type\"] = matpower\n",
      "└ @ PowerSystems /home/sam/.julia/packages/PowerSystems/a9ndT/src/parsers/power_models_data.jl:52\n",
      "┌ Info: Reading bus data\n",
      "└ @ PowerSystems /home/sam/.julia/packages/PowerSystems/a9ndT/src/parsers/power_models_data.jl:173\n",
      "┌ Info: Reading generator data\n",
      "└ @ PowerSystems /home/sam/.julia/packages/PowerSystems/a9ndT/src/parsers/power_models_data.jl:488\n",
      "┌ Info: Reading branch data\n",
      "└ @ PowerSystems /home/sam/.julia/packages/PowerSystems/a9ndT/src/parsers/power_models_data.jl:632\n",
      "┌ Warning: Rate 426.0 MW for 2-3-i_4 is larger than the max expected in the range of (min = 134.0, max = 145.0).\n",
      "└ @ PowerSystems /home/sam/.julia/packages/PowerSystems/a9ndT/src/utils/IO/branchdata_checks.jl:148\n",
      "┌ Warning: Rate 400.0 MW for 1-2-i_1 is larger than the max expected in the range of (min = 134.0, max = 145.0).\n",
      "└ @ PowerSystems /home/sam/.julia/packages/PowerSystems/a9ndT/src/utils/IO/branchdata_checks.jl:148\n",
      "┌ Warning: Rate 426.0 MW for 1-4-i_2 is larger than the max expected in the range of (min = 134.0, max = 145.0).\n",
      "└ @ PowerSystems /home/sam/.julia/packages/PowerSystems/a9ndT/src/utils/IO/branchdata_checks.jl:148\n",
      "┌ Warning: Rate 240.0 MW for 4-10-i_7 is larger than the max expected in the range of (min = 134.0, max = 145.0).\n",
      "└ @ PowerSystems /home/sam/.julia/packages/PowerSystems/a9ndT/src/utils/IO/branchdata_checks.jl:148\n",
      "┌ Warning: Rate 426.0 MW for 1-10-i_3 is larger than the max expected in the range of (min = 134.0, max = 145.0).\n",
      "└ @ PowerSystems /home/sam/.julia/packages/PowerSystems/a9ndT/src/utils/IO/branchdata_checks.jl:148\n",
      "┌ Info: Reading branch data\n",
      "└ @ PowerSystems /home/sam/.julia/packages/PowerSystems/a9ndT/src/parsers/power_models_data.jl:694\n",
      "┌ Info: Reading DC Line data\n",
      "└ @ PowerSystems /home/sam/.julia/packages/PowerSystems/a9ndT/src/parsers/power_models_data.jl:666\n",
      "┌ Info: Reading storage data\n",
      "└ @ PowerSystems /home/sam/.julia/packages/PowerSystems/a9ndT/src/parsers/power_models_data.jl:713\n"
     ]
    }
   ],
   "source": [
    "# Make a System\n",
    "sys = System(\"/home/sam/github/PowerSensitivities.jl/PMI_example/case5.m\")\n",
    "\n",
    "# add time series for active power demand (note: this adds reactive power profiles from\n",
    "# same csv, but PowerModelsInterface doesn't use them, it only uses the active power time series)\n",
    "add_time_series!(sys, \"timeseries_pointers_da.json\")\n",
    "#Make a PowerModels version\n",
    "#pm_map = PowerModelsInterface.get_pm_map(sys)"
   ]
  },
  {
   "cell_type": "markdown",
   "id": "8e71f675",
   "metadata": {},
   "source": [
    "## Make the Case 5 Jacobian with PowerModels NR Model"
   ]
  },
  {
   "cell_type": "code",
   "execution_count": 8,
   "id": "a9c2060a",
   "metadata": {},
   "outputs": [
    {
     "ename": "LoadError",
     "evalue": "MethodError: no method matching get(::ThermalStandard, ::String, ::Int64)\n\u001b[0mClosest candidates are:\n\u001b[0m  get(\u001b[91m::DataStructures.Trie\u001b[39m, ::AbstractString, ::Any) at /home/sam/.julia/packages/DataStructures/nBjdy/src/trie.jl:74\n\u001b[0m  get(\u001b[91m::Base.Iterators.Pairs\u001b[39m, ::Any, ::Any) at iterators.jl:272\n\u001b[0m  get(\u001b[91m::MathOptInterface.Utilities.CleverDicts.CleverDict\u001b[39m, ::Any, ::Any) at /home/sam/.julia/packages/MathOptInterface/YDdD3/src/Utilities/CleverDicts.jl:168\n\u001b[0m  ...",
     "output_type": "error",
     "traceback": [
      "MethodError: no method matching get(::ThermalStandard, ::String, ::Int64)\n\u001b[0mClosest candidates are:\n\u001b[0m  get(\u001b[91m::DataStructures.Trie\u001b[39m, ::AbstractString, ::Any) at /home/sam/.julia/packages/DataStructures/nBjdy/src/trie.jl:74\n\u001b[0m  get(\u001b[91m::Base.Iterators.Pairs\u001b[39m, ::Any, ::Any) at iterators.jl:272\n\u001b[0m  get(\u001b[91m::MathOptInterface.Utilities.CleverDicts.CleverDict\u001b[39m, ::Any, ::Any) at /home/sam/.julia/packages/MathOptInterface/YDdD3/src/Utilities/CleverDicts.jl:168\n\u001b[0m  ...",
      "",
      "Stacktrace:",
      " [1] make_basic_network(data::Dict{String, Dict})",
      "   @ PowerModels ~/.julia/packages/PowerModels/KfWfN/src/core/data_basic.jl:33",
      " [2] top-level scope",
      "   @ In[8]:1",
      " [3] eval",
      "   @ ./boot.jl:360 [inlined]",
      " [4] include_string(mapexpr::typeof(REPL.softscope), mod::Module, code::String, filename::String)",
      "   @ Base ./loading.jl:1116"
     ]
    }
   ],
   "source": [
    "pm_basic_network = make_basic_network(pm_map)\n",
    "jac_full = calc_basic_jacobian_matrix(pm_basic_network)\n",
    "jac_full"
   ]
  },
  {
   "cell_type": "code",
   "execution_count": 10,
   "id": "29559860",
   "metadata": {},
   "outputs": [
    {
     "data": {
      "text/html": [
       "<div class=\"data-frame\"><p>0 rows × 4 columns</p><table class=\"data-frame\"><thead><tr><th></th><th>pg</th><th>qg</th><th>va</th><th>vm</th></tr><tr><th></th><th title=\"Float64\">Float64</th><th title=\"Float64\">Float64</th><th title=\"Float64\">Float64</th><th title=\"Float64\">Float64</th></tr></thead><tbody></tbody></table></div>"
      ],
      "text/latex": [
       "\\begin{tabular}{r|cccc}\n",
       "\t& pg & qg & va & vm\\\\\n",
       "\t\\hline\n",
       "\t& Float64 & Float64 & Float64 & Float64\\\\\n",
       "\t\\hline\n",
       "\\end{tabular}\n"
      ],
      "text/plain": [
       "\u001b[1m0×4 DataFrame\u001b[0m"
      ]
     },
     "execution_count": 10,
     "metadata": {},
     "output_type": "execute_result"
    }
   ],
   "source": [
    "\n",
    "buses = get_components(Bus, sys)\n",
    "T = get_forecast_horizon(sys)\n",
    "results = Dict(\n",
    "    zip(\n",
    "        get_name.(buses),\n",
    "        [\n",
    "            Dict(\"va\" => zeros(T), \"vm\" => zeros(T), \"pg\" => zeros(T), \"qg\" => zeros(T)) for b = 1:length(buses)\n",
    "        ],\n",
    "    ),\n",
    ")\n",
    "for t = 1:get_forecast_horizon(sys)\n",
    "    #run the PF\n",
    "    soln = run_pf(\n",
    "        sys,\n",
    "        ACPPowerModel,\n",
    "        Ipopt.Optimizer,\n",
    "        start_time = get_forecast_initial_timestamp(sys),\n",
    "        period = t,\n",
    "    )\n",
    "    #extract the results\n",
    "    for (id, b) in results\n",
    "        b[\"va\"][t] += soln[\"solution\"][\"bus\"][id][\"va\"]\n",
    "        b[\"vm\"][t] += soln[\"solution\"][\"bus\"][id][\"vm\"]\n",
    "        for (gid, g) in pm_map[\"gen\"]\n",
    "            if get_name(get_bus(g)) == id\n",
    "                b[\"pg\"][t] += soln[\"solution\"][\"gen\"][gid][\"pg\"]\n",
    "                b[\"qg\"][t] += soln[\"solution\"][\"gen\"][gid][\"qg\"]\n",
    "            end\n",
    "        end\n",
    "    end\n",
    "end\n",
    "\n",
    "#convert results into a dataframe\n",
    "results_dfs = Dict()\n",
    "for (b, r) in results\n",
    "    results_dfs[b] = DataFrame(r)\n",
    "end\n",
    "\n",
    "results_dfs[\"1\"]\n"
   ]
  },
  {
   "cell_type": "code",
   "execution_count": null,
   "id": "db7ab133",
   "metadata": {},
   "outputs": [],
   "source": [
    "\n",
    "# for the OPF approach, we can just run one multi network OPF\n",
    "mn_soln = run_mn_opf(\n",
    "    sys,\n",
    "    ACPPowerModel,\n",
    "    Ipopt.Optimizer,\n",
    "    start_time = get_forecast_initial_timestamp(sys),\n",
    "    time_periods = 1:T,\n",
    ")\n",
    "\n",
    "#TODO: extract the data from mn_solution\n"
   ]
  },
  {
   "cell_type": "code",
   "execution_count": 12,
   "id": "c6d998ca",
   "metadata": {},
   "outputs": [
    {
     "data": {
      "text/plain": [
       "0"
      ]
     },
     "execution_count": 12,
     "metadata": {},
     "output_type": "execute_result"
    }
   ],
   "source": [
    "get_forecast_horizon(sys)"
   ]
  },
  {
   "cell_type": "code",
   "execution_count": 11,
   "id": "fcab9740",
   "metadata": {},
   "outputs": [
    {
     "data": {
      "text/plain": [
       "Dict{Any, Any} with 5 entries:\n",
       "  \"4\"  => \u001b[1m0×4 DataFrame\u001b[0m\n",
       "  \"1\"  => \u001b[1m0×4 DataFrame\u001b[0m\n",
       "  \"10\" => \u001b[1m0×4 DataFrame\u001b[0m\n",
       "  \"2\"  => \u001b[1m0×4 DataFrame\u001b[0m\n",
       "  \"3\"  => \u001b[1m0×4 DataFrame\u001b[0m"
      ]
     },
     "execution_count": 11,
     "metadata": {},
     "output_type": "execute_result"
    }
   ],
   "source": [
    "results_dfs"
   ]
  },
  {
   "cell_type": "code",
   "execution_count": null,
   "id": "c65947f4",
   "metadata": {},
   "outputs": [],
   "source": []
  }
 ],
 "metadata": {
  "kernelspec": {
   "display_name": "Julia 1.6.0",
   "language": "julia",
   "name": "julia-1.6"
  },
  "language_info": {
   "file_extension": ".jl",
   "mimetype": "application/julia",
   "name": "julia",
   "version": "1.6.2"
  }
 },
 "nbformat": 4,
 "nbformat_minor": 5
}
