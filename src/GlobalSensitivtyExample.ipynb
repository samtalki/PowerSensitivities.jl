{
 "cells": [
  {
   "cell_type": "code",
   "execution_count": 34,
   "id": "a4715c70",
   "metadata": {},
   "outputs": [
    {
     "name": "stderr",
     "output_type": "stream",
     "text": [
      "┌ Info: active generators found at bus 8, updating to bus type from 1 to 2\n",
      "└ @ PowerSystems /home/sam/.julia/packages/PowerSystems/61h6O/src/parsers/pm_io/data.jl:1681\n",
      "┌ Info: Constructing System from Power Models\n",
      "│   data[\"name\"] = case14\n",
      "│   data[\"source_type\"] = matpower\n",
      "└ @ PowerSystems /home/sam/.julia/packages/PowerSystems/61h6O/src/parsers/power_models_data.jl:52\n",
      "┌ Info: Reading bus data\n",
      "└ @ PowerSystems /home/sam/.julia/packages/PowerSystems/61h6O/src/parsers/power_models_data.jl:173\n",
      "┌ Warning: Invalid range\n",
      "│   valid_info.struct_name = Bus\n",
      "│   field_name = magnitude\n",
      "│   valid_range = voltage_limits\n",
      "│   valid_info.ist_struct = Bus(6, Bus 6     LV, BusTypes.PV = 3, -0.24818581963359368, 1.07, (min = 0.94, max = 1.06), 0.0, Area(1, 0.0, 0.0, 0.0), nothing, Dict{String, Any}())\n",
      "└ @ InfrastructureSystems /home/sam/.julia/packages/InfrastructureSystems/3LlGM/src/validation.jl:222\n",
      "┌ Warning: Invalid range\n",
      "│   valid_info.struct_name = Bus\n",
      "│   field_name = magnitude\n",
      "│   valid_range = voltage_limits\n",
      "│   valid_info.ist_struct = Bus(7, Bus 7     ZV, BusTypes.PQ = 2, -0.23335052099164186, 1.062, (min = 0.94, max = 1.06), 0.0, Area(1, 0.0, 0.0, 0.0), nothing, Dict{String, Any}())\n",
      "└ @ InfrastructureSystems /home/sam/.julia/packages/InfrastructureSystems/3LlGM/src/validation.jl:222\n",
      "┌ Warning: Invalid range\n",
      "│   valid_info.struct_name = Bus\n",
      "│   field_name = magnitude\n",
      "│   valid_range = voltage_limits\n",
      "│   valid_info.ist_struct = Bus(8, Bus 8     TV, BusTypes.PV = 3, -0.2331759880664424, 1.09, (min = 0.94, max = 1.06), 0.0, Area(1, 0.0, 0.0, 0.0), nothing, Dict{String, Any}())\n",
      "└ @ InfrastructureSystems /home/sam/.julia/packages/InfrastructureSystems/3LlGM/src/validation.jl:222\n",
      "┌ Info: Reading generator data\n",
      "└ @ PowerSystems /home/sam/.julia/packages/PowerSystems/61h6O/src/parsers/power_models_data.jl:488\n",
      "┌ Warning: Invalid range\n",
      "│   valid_info.struct_name = ThermalStandard\n",
      "│   field_name = reactive_power\n",
      "│   valid_range = reactive_power_limits\n",
      "│   valid_info.ist_struct = ThermalStandard(gen-1, true, true, Bus(1, Bus 1     HV, BusTypes.REF = 4, 0.0, 1.06, (min = 0.94, max = 1.06), 0.0, Area(1, 0.0, 0.0, 0.0), LoadZone(1, 2.59, 0.735), Dict{String, Any}()), 2.324, -0.16899999999999998, 3.3255038715960024, (min = 0.0, max = 3.324), (min = 0.0, max = 0.1), (up = 0.0, down = 0.0), ThreePartCost(VariableCost{Tuple{Float64, Float64}}((0.043029259900000005, 20.0)), 0.0, 0.0, 0.0), 100.0, nothing, PrimeMovers.OT = 19, ThermalFuels.OTHER = 14, Service[], 10000.0, nothing, Dict{String, Any}())\n",
      "└ @ InfrastructureSystems /home/sam/.julia/packages/InfrastructureSystems/3LlGM/src/validation.jl:222\n",
      "┌ Info: Reading branch data\n",
      "└ @ PowerSystems /home/sam/.julia/packages/PowerSystems/61h6O/src/parsers/power_models_data.jl:632\n",
      "┌ Info: Reading branch data\n",
      "└ @ PowerSystems /home/sam/.julia/packages/PowerSystems/61h6O/src/parsers/power_models_data.jl:694\n",
      "┌ Info: Reading DC Line data\n",
      "└ @ PowerSystems /home/sam/.julia/packages/PowerSystems/61h6O/src/parsers/power_models_data.jl:666\n",
      "┌ Info: Reading storage data\n",
      "└ @ PowerSystems /home/sam/.julia/packages/PowerSystems/61h6O/src/parsers/power_models_data.jl:713\n",
      "┌ Info: active generators found at bus 8, updating to bus type from 1 to 2\n",
      "└ @ PowerSystems /home/sam/.julia/packages/PowerSystems/61h6O/src/parsers/pm_io/data.jl:1681\n",
      "┌ Info: Constructing System from Power Models\n",
      "│   data[\"name\"] = case14\n",
      "│   data[\"source_type\"] = matpower\n",
      "└ @ PowerSystems /home/sam/.julia/packages/PowerSystems/61h6O/src/parsers/power_models_data.jl:52\n",
      "┌ Info: Reading bus data\n",
      "└ @ PowerSystems /home/sam/.julia/packages/PowerSystems/61h6O/src/parsers/power_models_data.jl:173\n",
      "┌ Warning: Invalid range\n",
      "│   valid_info.struct_name = Bus\n",
      "│   field_name = magnitude\n",
      "│   valid_range = voltage_limits\n",
      "│   valid_info.ist_struct = Bus(6, Bus 6     LV, BusTypes.PV = 3, -0.24818581963359368, 1.07, (min = 0.94, max = 1.06), 0.0, Area(1, 0.0, 0.0, 0.0), nothing, Dict{String, Any}())\n",
      "└ @ InfrastructureSystems /home/sam/.julia/packages/InfrastructureSystems/3LlGM/src/validation.jl:222\n",
      "┌ Warning: Invalid range\n",
      "│   valid_info.struct_name = Bus\n",
      "│   field_name = magnitude\n",
      "│   valid_range = voltage_limits\n",
      "│   valid_info.ist_struct = Bus(7, Bus 7     ZV, BusTypes.PQ = 2, -0.23335052099164186, 1.062, (min = 0.94, max = 1.06), 0.0, Area(1, 0.0, 0.0, 0.0), nothing, Dict{String, Any}())\n",
      "└ @ InfrastructureSystems /home/sam/.julia/packages/InfrastructureSystems/3LlGM/src/validation.jl:222\n",
      "┌ Warning: Invalid range\n",
      "│   valid_info.struct_name = Bus\n",
      "│   field_name = magnitude\n",
      "│   valid_range = voltage_limits\n",
      "│   valid_info.ist_struct = Bus(8, Bus 8     TV, BusTypes.PV = 3, -0.2331759880664424, 1.09, (min = 0.94, max = 1.06), 0.0, Area(1, 0.0, 0.0, 0.0), nothing, Dict{String, Any}())\n",
      "└ @ InfrastructureSystems /home/sam/.julia/packages/InfrastructureSystems/3LlGM/src/validation.jl:222\n",
      "┌ Info: Reading generator data\n",
      "└ @ PowerSystems /home/sam/.julia/packages/PowerSystems/61h6O/src/parsers/power_models_data.jl:488\n",
      "┌ Warning: Invalid range\n",
      "│   valid_info.struct_name = ThermalStandard\n",
      "│   field_name = reactive_power\n",
      "│   valid_range = reactive_power_limits\n",
      "│   valid_info.ist_struct = ThermalStandard(gen-1, true, true, Bus(1, Bus 1     HV, BusTypes.REF = 4, 0.0, 1.06, (min = 0.94, max = 1.06), 0.0, Area(1, 0.0, 0.0, 0.0), LoadZone(1, 2.59, 0.735), Dict{String, Any}()), 2.324, -0.16899999999999998, 3.3255038715960024, (min = 0.0, max = 3.324), (min = 0.0, max = 0.1), (up = 0.0, down = 0.0), ThreePartCost(VariableCost{Tuple{Float64, Float64}}((0.043029259900000005, 20.0)), 0.0, 0.0, 0.0), 100.0, nothing, PrimeMovers.OT = 19, ThermalFuels.OTHER = 14, Service[], 10000.0, nothing, Dict{String, Any}())\n",
      "└ @ InfrastructureSystems /home/sam/.julia/packages/InfrastructureSystems/3LlGM/src/validation.jl:222\n",
      "┌ Info: Reading branch data\n",
      "└ @ PowerSystems /home/sam/.julia/packages/PowerSystems/61h6O/src/parsers/power_models_data.jl:632\n",
      "┌ Info: Reading branch data\n",
      "└ @ PowerSystems /home/sam/.julia/packages/PowerSystems/61h6O/src/parsers/power_models_data.jl:694\n",
      "┌ Info: Reading DC Line data\n",
      "└ @ PowerSystems /home/sam/.julia/packages/PowerSystems/61h6O/src/parsers/power_models_data.jl:666\n",
      "┌ Info: Reading storage data\n",
      "└ @ PowerSystems /home/sam/.julia/packages/PowerSystems/61h6O/src/parsers/power_models_data.jl:713\n"
     ]
    },
    {
     "data": {
      "text/plain": [
       "9-element Vector{Bus}:\n",
       " Bus(11, Bus 11    LV, BusTypes.PQ = 2, -0.2581341963699613, 1.057, (min = 0.94, max = 1.06), 0.0, Area(1, 0.0, 0.0, 0.0), LoadZone(1, 2.59, 0.735), Dict{String, Any}())\n",
       " Bus(9, Bus 9     LV, BusTypes.PQ = 2, -0.2607521902479528, 1.056, (min = 0.94, max = 1.06), 0.0, Area(1, 0.0, 0.0, 0.0), LoadZone(1, 2.59, 0.735), Dict{String, Any}())\n",
       " Bus(13, Bus 13    LV, BusTypes.PQ = 2, -0.2645919146023404, 1.05, (min = 0.94, max = 1.06), 0.0, Area(1, 0.0, 0.0, 0.0), LoadZone(1, 2.59, 0.735), Dict{String, Any}())\n",
       " Bus(10, Bus 10    LV, BusTypes.PQ = 2, -0.26354471705114374, 1.051, (min = 0.94, max = 1.06), 0.0, Area(1, 0.0, 0.0, 0.0), LoadZone(1, 2.59, 0.735), Dict{String, Any}())\n",
       " Bus(7, Bus 7     ZV, BusTypes.PQ = 2, -0.23335052099164186, 1.062, (min = 0.94, max = 1.06), 0.0, Area(1, 0.0, 0.0, 0.0), LoadZone(1, 2.59, 0.735), Dict{String, Any}())\n",
       " Bus(5, Bus 5     HV, BusTypes.PQ = 2, -0.15323990832510212, 1.02, (min = 0.94, max = 1.06), 0.0, Area(1, 0.0, 0.0, 0.0), LoadZone(1, 2.59, 0.735), Dict{String, Any}())\n",
       " Bus(14, Bus 14    LV, BusTypes.PQ = 2, -0.27995081201989047, 1.036, (min = 0.94, max = 1.06), 0.0, Area(1, 0.0, 0.0, 0.0), LoadZone(1, 2.59, 0.735), Dict{String, Any}())\n",
       " Bus(12, Bus 12    LV, BusTypes.PQ = 2, -0.2630211182755455, 1.055, (min = 0.94, max = 1.06), 0.0, Area(1, 0.0, 0.0, 0.0), LoadZone(1, 2.59, 0.735), Dict{String, Any}())\n",
       " Bus(4, Bus 4     HV, BusTypes.PQ = 2, -0.18029251173101424, 1.019, (min = 0.94, max = 1.06), 0.0, Area(1, 0.0, 0.0, 0.0), LoadZone(1, 2.59, 0.735), Dict{String, Any}())"
      ]
     },
     "execution_count": 34,
     "metadata": {},
     "output_type": "execute_result"
    }
   ],
   "source": [
    "include(\"sobol_sensitivities.jl\")\n",
    "include(\"injections.jl\")"
   ]
  },
  {
   "cell_type": "code",
   "execution_count": 35,
   "id": "e51cfbfb",
   "metadata": {},
   "outputs": [
    {
     "name": "stdout",
     "output_type": "stream",
     "text": [
      "Global System model PASSED\n",
      "[0.0040732421875, 0.0, 0.0, 0.0, 0.0, 0.0, 0.0, 0.0, 0.0]\n",
      "10.0040732421875\n",
      "Global System model PASSED\n"
     ]
    },
    {
     "ename": "LoadError",
     "evalue": "MethodError: \u001b[0mCannot `convert` an object of type \u001b[92mNothing\u001b[39m\u001b[0m to an object of type \u001b[91mBus\u001b[39m\n\u001b[0mClosest candidates are:\n\u001b[0m  convert(::Type{T}, \u001b[91m::T\u001b[39m) where T at essentials.jl:205\n\u001b[0m  Bus(::Nothing) at /home/sam/.julia/packages/PowerSystems/61h6O/src/models/generated/Bus.jl:84\n\u001b[0m  Bus(::Any, \u001b[91m::Any\u001b[39m, \u001b[91m::String\u001b[39m, \u001b[91m::Any\u001b[39m, \u001b[91m::Any\u001b[39m, \u001b[91m::Any\u001b[39m, \u001b[91m::Any\u001b[39m, \u001b[91m::Any\u001b[39m, \u001b[91m::Any\u001b[39m; ext) at /home/sam/.julia/packages/PowerSystems/61h6O/src/models/supplemental_constructors.jl:87\n\u001b[0m  ...",
     "output_type": "error",
     "traceback": [
      "MethodError: \u001b[0mCannot `convert` an object of type \u001b[92mNothing\u001b[39m\u001b[0m to an object of type \u001b[91mBus\u001b[39m\n\u001b[0mClosest candidates are:\n\u001b[0m  convert(::Type{T}, \u001b[91m::T\u001b[39m) where T at essentials.jl:205\n\u001b[0m  Bus(::Nothing) at /home/sam/.julia/packages/PowerSystems/61h6O/src/models/generated/Bus.jl:84\n\u001b[0m  Bus(::Any, \u001b[91m::Any\u001b[39m, \u001b[91m::String\u001b[39m, \u001b[91m::Any\u001b[39m, \u001b[91m::Any\u001b[39m, \u001b[91m::Any\u001b[39m, \u001b[91m::Any\u001b[39m, \u001b[91m::Any\u001b[39m, \u001b[91m::Any\u001b[39m; ext) at /home/sam/.julia/packages/PowerSystems/61h6O/src/models/supplemental_constructors.jl:87\n\u001b[0m  ...",
      "",
      "Stacktrace:",
      "  [1] PowerLoad(name::String, available::Bool, bus::Nothing, model::LoadModels, active_power::Float64, reactive_power::Float64, base_power::Float64, max_active_power::Float64, max_reactive_power::Float64, services::Vector{Device}, dynamic_injector::Nothing, ext::Dict{String, Any}, time_series_container::InfrastructureSystems.TimeSeriesContainer, internal::InfrastructureSystems.InfrastructureSystemsInternal)",
      "    @ PowerSystems ~/.julia/packages/PowerSystems/61h6O/src/models/generated/PowerLoad.jl:41",
      "  [2] PowerLoad(; name::String, available::Bool, bus::Nothing, model::LoadModels, active_power::Float64, reactive_power::Float64, base_power::Float64, max_active_power::Float64, max_reactive_power::Float64, services::Vector{Device}, dynamic_injector::Nothing, ext::Dict{String, Any}, time_series_container::InfrastructureSystems.TimeSeriesContainer, internal::InfrastructureSystems.InfrastructureSystemsInternal)",
      "    @ PowerSystems ~/.julia/packages/PowerSystems/61h6O/src/models/generated/PowerLoad.jl:67",
      "  [3] place_inj(P_inj::Float64, Q_inj::Float64, inj_bus::Int64, name::String; system::System)",
      "    @ Main ~/github/PowerSensitivities.jl/src/injections.jl:73",
      "  [4] get_p_inj_voltages_by_bus(p_inj_by_bus::Vector{Float64}; system_model::System)",
      "    @ Main ~/github/PowerSensitivities.jl/src/injections.jl:142",
      "  [5] get_p_inj_voltages_by_bus(p_inj_by_bus::Vector{Float64})",
      "    @ Main ~/github/PowerSensitivities.jl/src/injections.jl:135",
      "  [6] (::GlobalSensitivity.var\"#27#28\"{typeof(get_p_inj_voltages_by_bus)})(i::Int64)",
      "    @ GlobalSensitivity ./none:0",
      "  [7] iterate",
      "    @ ./generator.jl:47 [inlined]",
      "  [8] collect(itr::Base.Generator{UnitRange{Int64}, GlobalSensitivity.var\"#27#28\"{typeof(get_p_inj_voltages_by_bus)}})",
      "    @ Base ./array.jl:678",
      "  [9] gsa(f::typeof(get_p_inj_voltages_by_bus), method::Sobol, A::Matrix{Float64}, B::Matrix{Float64}; batch::Bool, Ei_estimator::Symbol, distributed::Val{false}, kwargs::Base.Iterators.Pairs{Union{}, Union{}, Tuple{}, NamedTuple{(), Tuple{}}})",
      "    @ GlobalSensitivity ~/.julia/packages/GlobalSensitivity/Z9elP/src/sobol_sensitivity.jl:54",
      " [10] gsa(f::Function, method::Sobol, p_range::Vector{Tuple{Float64, Float64}}; N::Int64, kwargs::Base.Iterators.Pairs{Symbol, Bool, Tuple{Symbol}, NamedTuple{(:batch,), Tuple{Bool}}})",
      "    @ GlobalSensitivity ~/.julia/packages/GlobalSensitivity/Z9elP/src/sobol_sensitivity.jl:187",
      " [11] #make_sobol_sens_vector#243",
      "    @ ~/github/PowerSensitivities.jl/src/sobol_sensitivities.jl:37 [inlined]",
      " [12] make_sobol_sens_vector(param_range::Vector{Tuple{Float64, Float64}}, f::Function, N_simulations::Int64)",
      "    @ Main ~/github/PowerSensitivities.jl/src/sobol_sensitivities.jl:25",
      " [13] top-level scope",
      "    @ In[35]:3",
      " [14] eval",
      "    @ ./boot.jl:360 [inlined]",
      " [15] include_string(mapexpr::typeof(REPL.softscope), mod::Module, code::String, filename::String)",
      "    @ Base ./loading.jl:1094"
     ]
    }
   ],
   "source": [
    "param_range = [(0.001,1.05), (0.0,0.0),(0.0,0.0), (0.0,0.0), (0.0,0.0), (0.0,0.0), (0.0,0.0), (0.0,0.0), (0.0,0.0)]\n",
    "N_simulations = 1000\n",
    "sens = make_sobol_sens_vector(param_range,get_p_inj_voltages_by_bus,N_simulations)"
   ]
  },
  {
   "cell_type": "code",
   "execution_count": 4,
   "id": "0a01da04",
   "metadata": {},
   "outputs": [],
   "source": [
    "base_dir = PowerSystems.download(PowerSystems.TestData; branch = \"master\");"
   ]
  },
  {
   "cell_type": "code",
   "execution_count": 18,
   "id": "4a2b375f",
   "metadata": {},
   "outputs": [
    {
     "data": {
      "text/plain": [
       "9-element Vector{Tuple{Float64, Float64}}:\n",
       " (0.001, 1.05)\n",
       " (0.001, 1.05)\n",
       " (0.001, 1.05)\n",
       " (0.001, 1.05)\n",
       " (0.001, 1.05)\n",
       " (0.001, 1.05)\n",
       " (0.001, 1.05)\n",
       " (0.001, 1.05)\n",
       " (0.001, 1.05)"
      ]
     },
     "execution_count": 18,
     "metadata": {},
     "output_type": "execute_result"
    }
   ],
   "source": [
    "param_range"
   ]
  },
  {
   "cell_type": "code",
   "execution_count": 16,
   "id": "7914ea8b",
   "metadata": {
    "collapsed": true,
    "jupyter": {
     "outputs_hidden": true
    }
   },
   "outputs": [
    {
     "name": "stderr",
     "output_type": "stream",
     "text": [
      "┌ Info: this code only supports angmin values in -90 deg. to 90 deg., tightening the value on branch 4 from -90.0 to -60.0 deg.\n",
      "└ @ PowerSystems /home/sam/.julia/packages/PowerSystems/61h6O/src/parsers/pm_io/data.jl:1035\n",
      "┌ Info: this code only supports angmax values in -90 deg. to 90 deg., tightening the value on branch 4 from 90.0 to 60.0 deg.\n",
      "└ @ PowerSystems /home/sam/.julia/packages/PowerSystems/61h6O/src/parsers/pm_io/data.jl:1046\n",
      "┌ Info: this code only supports angmin values in -90 deg. to 90 deg., tightening the value on branch 1 from -90.0 to -60.0 deg.\n",
      "└ @ PowerSystems /home/sam/.julia/packages/PowerSystems/61h6O/src/parsers/pm_io/data.jl:1035\n",
      "┌ Info: this code only supports angmax values in -90 deg. to 90 deg., tightening the value on branch 1 from 90.0 to 60.0 deg.\n",
      "└ @ PowerSystems /home/sam/.julia/packages/PowerSystems/61h6O/src/parsers/pm_io/data.jl:1046\n",
      "┌ Info: this code only supports angmin values in -90 deg. to 90 deg., tightening the value on branch 12 from -90.0 to -60.0 deg.\n",
      "└ @ PowerSystems /home/sam/.julia/packages/PowerSystems/61h6O/src/parsers/pm_io/data.jl:1035\n",
      "┌ Info: this code only supports angmax values in -90 deg. to 90 deg., tightening the value on branch 12 from 90.0 to 60.0 deg.\n",
      "└ @ PowerSystems /home/sam/.julia/packages/PowerSystems/61h6O/src/parsers/pm_io/data.jl:1046\n",
      "┌ Info: this code only supports angmin values in -90 deg. to 90 deg., tightening the value on branch 20 from -90.0 to -60.0 deg.\n",
      "└ @ PowerSystems /home/sam/.julia/packages/PowerSystems/61h6O/src/parsers/pm_io/data.jl:1035\n",
      "┌ Info: this code only supports angmax values in -90 deg. to 90 deg., tightening the value on branch 20 from 90.0 to 60.0 deg.\n",
      "└ @ PowerSystems /home/sam/.julia/packages/PowerSystems/61h6O/src/parsers/pm_io/data.jl:1046\n",
      "┌ Info: this code only supports angmin values in -90 deg. to 90 deg., tightening the value on branch 2 from -90.0 to -60.0 deg.\n",
      "└ @ PowerSystems /home/sam/.julia/packages/PowerSystems/61h6O/src/parsers/pm_io/data.jl:1035\n",
      "┌ Info: this code only supports angmax values in -90 deg. to 90 deg., tightening the value on branch 2 from 90.0 to 60.0 deg.\n",
      "└ @ PowerSystems /home/sam/.julia/packages/PowerSystems/61h6O/src/parsers/pm_io/data.jl:1046\n",
      "┌ Info: this code only supports angmin values in -90 deg. to 90 deg., tightening the value on branch 6 from -90.0 to -60.0 deg.\n",
      "└ @ PowerSystems /home/sam/.julia/packages/PowerSystems/61h6O/src/parsers/pm_io/data.jl:1035\n",
      "┌ Info: this code only supports angmax values in -90 deg. to 90 deg., tightening the value on branch 6 from 90.0 to 60.0 deg.\n",
      "└ @ PowerSystems /home/sam/.julia/packages/PowerSystems/61h6O/src/parsers/pm_io/data.jl:1046\n",
      "┌ Info: this code only supports angmin values in -90 deg. to 90 deg., tightening the value on branch 11 from -90.0 to -60.0 deg.\n",
      "└ @ PowerSystems /home/sam/.julia/packages/PowerSystems/61h6O/src/parsers/pm_io/data.jl:1035\n",
      "┌ Info: this code only supports angmax values in -90 deg. to 90 deg., tightening the value on branch 11 from 90.0 to 60.0 deg.\n",
      "└ @ PowerSystems /home/sam/.julia/packages/PowerSystems/61h6O/src/parsers/pm_io/data.jl:1046\n",
      "┌ Info: this code only supports angmin values in -90 deg. to 90 deg., tightening the value on branch 13 from -90.0 to -60.0 deg.\n",
      "└ @ PowerSystems /home/sam/.julia/packages/PowerSystems/61h6O/src/parsers/pm_io/data.jl:1035\n",
      "┌ Info: this code only supports angmax values in -90 deg. to 90 deg., tightening the value on branch 13 from 90.0 to 60.0 deg.\n",
      "└ @ PowerSystems /home/sam/.julia/packages/PowerSystems/61h6O/src/parsers/pm_io/data.jl:1046\n",
      "┌ Info: this code only supports angmin values in -90 deg. to 90 deg., tightening the value on branch 5 from -90.0 to -60.0 deg.\n",
      "└ @ PowerSystems /home/sam/.julia/packages/PowerSystems/61h6O/src/parsers/pm_io/data.jl:1035\n",
      "┌ Info: this code only supports angmax values in -90 deg. to 90 deg., tightening the value on branch 5 from 90.0 to 60.0 deg.\n",
      "└ @ PowerSystems /home/sam/.julia/packages/PowerSystems/61h6O/src/parsers/pm_io/data.jl:1046\n",
      "┌ Info: this code only supports angmin values in -90 deg. to 90 deg., tightening the value on branch 15 from -90.0 to -60.0 deg.\n",
      "└ @ PowerSystems /home/sam/.julia/packages/PowerSystems/61h6O/src/parsers/pm_io/data.jl:1035\n",
      "┌ Info: this code only supports angmax values in -90 deg. to 90 deg., tightening the value on branch 15 from 90.0 to 60.0 deg.\n",
      "└ @ PowerSystems /home/sam/.julia/packages/PowerSystems/61h6O/src/parsers/pm_io/data.jl:1046\n",
      "┌ Info: this code only supports angmin values in -90 deg. to 90 deg., tightening the value on branch 16 from -90.0 to -60.0 deg.\n",
      "└ @ PowerSystems /home/sam/.julia/packages/PowerSystems/61h6O/src/parsers/pm_io/data.jl:1035\n",
      "┌ Info: this code only supports angmax values in -90 deg. to 90 deg., tightening the value on branch 16 from 90.0 to 60.0 deg.\n",
      "└ @ PowerSystems /home/sam/.julia/packages/PowerSystems/61h6O/src/parsers/pm_io/data.jl:1046\n",
      "┌ Info: this code only supports angmin values in -90 deg. to 90 deg., tightening the value on branch 14 from -90.0 to -60.0 deg.\n",
      "└ @ PowerSystems /home/sam/.julia/packages/PowerSystems/61h6O/src/parsers/pm_io/data.jl:1035\n",
      "┌ Info: this code only supports angmax values in -90 deg. to 90 deg., tightening the value on branch 14 from 90.0 to 60.0 deg.\n",
      "└ @ PowerSystems /home/sam/.julia/packages/PowerSystems/61h6O/src/parsers/pm_io/data.jl:1046\n",
      "┌ Info: this code only supports angmin values in -90 deg. to 90 deg., tightening the value on branch 7 from -90.0 to -60.0 deg.\n",
      "└ @ PowerSystems /home/sam/.julia/packages/PowerSystems/61h6O/src/parsers/pm_io/data.jl:1035\n",
      "┌ Info: this code only supports angmax values in -90 deg. to 90 deg., tightening the value on branch 7 from 90.0 to 60.0 deg.\n",
      "└ @ PowerSystems /home/sam/.julia/packages/PowerSystems/61h6O/src/parsers/pm_io/data.jl:1046\n",
      "┌ Info: this code only supports angmin values in -90 deg. to 90 deg., tightening the value on branch 8 from -90.0 to -60.0 deg.\n",
      "└ @ PowerSystems /home/sam/.julia/packages/PowerSystems/61h6O/src/parsers/pm_io/data.jl:1035\n",
      "┌ Info: this code only supports angmax values in -90 deg. to 90 deg., tightening the value on branch 8 from 90.0 to 60.0 deg.\n",
      "└ @ PowerSystems /home/sam/.julia/packages/PowerSystems/61h6O/src/parsers/pm_io/data.jl:1046\n",
      "┌ Info: this code only supports angmin values in -90 deg. to 90 deg., tightening the value on branch 17 from -90.0 to -60.0 deg.\n",
      "└ @ PowerSystems /home/sam/.julia/packages/PowerSystems/61h6O/src/parsers/pm_io/data.jl:1035\n",
      "┌ Info: this code only supports angmax values in -90 deg. to 90 deg., tightening the value on branch 17 from 90.0 to 60.0 deg.\n",
      "└ @ PowerSystems /home/sam/.julia/packages/PowerSystems/61h6O/src/parsers/pm_io/data.jl:1046\n",
      "┌ Info: this code only supports angmin values in -90 deg. to 90 deg., tightening the value on branch 10 from -90.0 to -60.0 deg.\n",
      "└ @ PowerSystems /home/sam/.julia/packages/PowerSystems/61h6O/src/parsers/pm_io/data.jl:1035\n",
      "┌ Info: this code only supports angmax values in -90 deg. to 90 deg., tightening the value on branch 10 from 90.0 to 60.0 deg.\n",
      "└ @ PowerSystems /home/sam/.julia/packages/PowerSystems/61h6O/src/parsers/pm_io/data.jl:1046\n",
      "┌ Info: this code only supports angmin values in -90 deg. to 90 deg., tightening the value on branch 19 from -90.0 to -60.0 deg.\n",
      "└ @ PowerSystems /home/sam/.julia/packages/PowerSystems/61h6O/src/parsers/pm_io/data.jl:1035\n",
      "┌ Info: this code only supports angmax values in -90 deg. to 90 deg., tightening the value on branch 19 from 90.0 to 60.0 deg.\n",
      "└ @ PowerSystems /home/sam/.julia/packages/PowerSystems/61h6O/src/parsers/pm_io/data.jl:1046\n",
      "┌ Info: this code only supports angmin values in -90 deg. to 90 deg., tightening the value on branch 9 from -90.0 to -60.0 deg.\n",
      "└ @ PowerSystems /home/sam/.julia/packages/PowerSystems/61h6O/src/parsers/pm_io/data.jl:1035\n",
      "┌ Info: this code only supports angmax values in -90 deg. to 90 deg., tightening the value on branch 9 from 90.0 to 60.0 deg.\n",
      "└ @ PowerSystems /home/sam/.julia/packages/PowerSystems/61h6O/src/parsers/pm_io/data.jl:1046\n",
      "┌ Info: this code only supports angmin values in -90 deg. to 90 deg., tightening the value on branch 18 from -90.0 to -60.0 deg.\n",
      "└ @ PowerSystems /home/sam/.julia/packages/PowerSystems/61h6O/src/parsers/pm_io/data.jl:1035\n",
      "┌ Info: this code only supports angmax values in -90 deg. to 90 deg., tightening the value on branch 18 from 90.0 to 60.0 deg.\n",
      "└ @ PowerSystems /home/sam/.julia/packages/PowerSystems/61h6O/src/parsers/pm_io/data.jl:1046\n",
      "┌ Info: this code only supports angmin values in -90 deg. to 90 deg., tightening the value on branch 3 from -90.0 to -60.0 deg.\n",
      "└ @ PowerSystems /home/sam/.julia/packages/PowerSystems/61h6O/src/parsers/pm_io/data.jl:1035\n",
      "┌ Info: this code only supports angmax values in -90 deg. to 90 deg., tightening the value on branch 3 from 90.0 to 60.0 deg.\n",
      "└ @ PowerSystems /home/sam/.julia/packages/PowerSystems/61h6O/src/parsers/pm_io/data.jl:1046\n",
      "┌ Info: this code only supports positive rate_a values, changing the value on branch 4 to 605.2298\n",
      "└ @ PowerSystems /home/sam/.julia/packages/PowerSystems/61h6O/src/parsers/pm_io/data.jl:1122\n",
      "┌ Info: this code only supports positive rate_a values, changing the value on branch 1 to 1804.6087\n",
      "└ @ PowerSystems /home/sam/.julia/packages/PowerSystems/61h6O/src/parsers/pm_io/data.jl:1122\n",
      "┌ Info: this code only supports positive rate_a values, changing the value on branch 12 to 395.9056\n",
      "└ @ PowerSystems /home/sam/.julia/packages/PowerSystems/61h6O/src/parsers/pm_io/data.jl:1122\n",
      "┌ Info: this code only supports positive rate_a values, changing the value on branch 20 to 289.7895\n",
      "└ @ PowerSystems /home/sam/.julia/packages/PowerSystems/61h6O/src/parsers/pm_io/data.jl:1122\n",
      "┌ Info: this code only supports positive rate_a values, changing the value on branch 2 to 489.6065\n",
      "└ @ PowerSystems /home/sam/.julia/packages/PowerSystems/61h6O/src/parsers/pm_io/data.jl:1122\n",
      "┌ Info: this code only supports positive rate_a values, changing the value on branch 6 to 611.6878\n",
      "└ @ PowerSystems /home/sam/.julia/packages/PowerSystems/61h6O/src/parsers/pm_io/data.jl:1122\n",
      "┌ Info: this code only supports positive rate_a values, changing the value on branch 11 to 509.7686\n",
      "└ @ PowerSystems /home/sam/.julia/packages/PowerSystems/61h6O/src/parsers/pm_io/data.jl:1122\n",
      "┌ Info: this code only supports positive rate_a values, changing the value on branch 13 to 769.048\n",
      "└ @ PowerSystems /home/sam/.julia/packages/PowerSystems/61h6O/src/parsers/pm_io/data.jl:1122\n",
      "┌ Info: this code only supports positive rate_a values, changing the value on branch 5 to 614.0953\n",
      "└ @ PowerSystems /home/sam/.julia/packages/PowerSystems/61h6O/src/parsers/pm_io/data.jl:1122\n",
      "┌ Info: this code only supports positive rate_a values, changing the value on branch 15 to 1021.3639\n",
      "└ @ PowerSystems /home/sam/.julia/packages/PowerSystems/61h6O/src/parsers/pm_io/data.jl:1122\n",
      "┌ Info: this code only supports positive rate_a values, changing the value on branch 16 to 1244.4493\n",
      "└ @ PowerSystems /home/sam/.julia/packages/PowerSystems/61h6O/src/parsers/pm_io/data.jl:1122\n",
      "┌ Info: this code only supports positive rate_a values, changing the value on branch 14 to 637.8668\n",
      "└ @ PowerSystems /home/sam/.julia/packages/PowerSystems/61h6O/src/parsers/pm_io/data.jl:1122\n",
      "┌ Info: this code only supports positive rate_a values, changing the value on branch 7 to 2543.4968\n",
      "└ @ PowerSystems /home/sam/.julia/packages/PowerSystems/61h6O/src/parsers/pm_io/data.jl:1122\n",
      "┌ Info: this code only supports positive rate_a values, changing the value on branch 8 to 537.3003\n",
      "└ @ PowerSystems /home/sam/.julia/packages/PowerSystems/61h6O/src/parsers/pm_io/data.jl:1122\n",
      "┌ Info: this code only supports positive rate_a values, changing the value on branch 17 to 376.0786\n",
      "└ @ PowerSystems /home/sam/.julia/packages/PowerSystems/61h6O/src/parsers/pm_io/data.jl:1122\n",
      "┌ Info: this code only supports positive rate_a values, changing the value on branch 10 to 445.8386\n",
      "└ @ PowerSystems /home/sam/.julia/packages/PowerSystems/61h6O/src/parsers/pm_io/data.jl:1122\n",
      "┌ Info: this code only supports positive rate_a values, changing the value on branch 19 to 377.1462\n",
      "└ @ PowerSystems /home/sam/.julia/packages/PowerSystems/61h6O/src/parsers/pm_io/data.jl:1122\n",
      "┌ Info: this code only supports positive rate_a values, changing the value on branch 9 to 202.0214\n",
      "└ @ PowerSystems /home/sam/.julia/packages/PowerSystems/61h6O/src/parsers/pm_io/data.jl:1122\n",
      "┌ Info: this code only supports positive rate_a values, changing the value on branch 18 to 537.9655\n",
      "└ @ PowerSystems /home/sam/.julia/packages/PowerSystems/61h6O/src/parsers/pm_io/data.jl:1122\n",
      "┌ Info: this code only supports positive rate_a values, changing the value on branch 3 to 552.2192\n",
      "└ @ PowerSystems /home/sam/.julia/packages/PowerSystems/61h6O/src/parsers/pm_io/data.jl:1122\n",
      "┌ Info: active generators found at bus 8, updating to bus type from 1 to 2\n",
      "└ @ PowerSystems /home/sam/.julia/packages/PowerSystems/61h6O/src/parsers/pm_io/data.jl:1681\n",
      "┌ Info: removing 2 cost terms from generator 4: [100.0, 4000.0, 0.0]\n",
      "└ @ PowerSystems /home/sam/.julia/packages/PowerSystems/61h6O/src/parsers/pm_io/data.jl:1972\n",
      "┌ Info: removing 2 cost terms from generator 1: [430.292599, 2000.0, 0.0]\n",
      "└ @ PowerSystems /home/sam/.julia/packages/PowerSystems/61h6O/src/parsers/pm_io/data.jl:1972\n",
      "┌ Info: removing 2 cost terms from generator 5: [100.0, 4000.0, 0.0]\n",
      "└ @ PowerSystems /home/sam/.julia/packages/PowerSystems/61h6O/src/parsers/pm_io/data.jl:1972\n",
      "┌ Info: removing 2 cost terms from generator 2: [2500.0, 2000.0, 0.0]\n",
      "└ @ PowerSystems /home/sam/.julia/packages/PowerSystems/61h6O/src/parsers/pm_io/data.jl:1972\n",
      "┌ Info: removing 2 cost terms from generator 3: [100.0, 4000.0, 0.0]\n",
      "└ @ PowerSystems /home/sam/.julia/packages/PowerSystems/61h6O/src/parsers/pm_io/data.jl:1972\n",
      "┌ Info: Constructing System from Power Models\n",
      "│   data[\"name\"] = case14\n",
      "│   data[\"source_type\"] = matpower\n",
      "└ @ PowerSystems /home/sam/.julia/packages/PowerSystems/61h6O/src/parsers/power_models_data.jl:52\n",
      "┌ Info: Reading bus data\n",
      "└ @ PowerSystems /home/sam/.julia/packages/PowerSystems/61h6O/src/parsers/power_models_data.jl:173\n",
      "┌ Warning: Invalid range\n",
      "│   valid_info.struct_name = Bus\n",
      "│   field_name = magnitude\n",
      "│   valid_range = voltage_limits\n",
      "│   valid_info.ist_struct = Bus(6, Bus 6     LV, BusTypes.PV = 3, -0.24818581963359368, 1.07, (min = 0.94, max = 1.06), 0.0, Area(1, 0.0, 0.0, 0.0), nothing, Dict{String, Any}())\n",
      "└ @ InfrastructureSystems /home/sam/.julia/packages/InfrastructureSystems/3LlGM/src/validation.jl:222\n",
      "┌ Warning: Invalid range\n",
      "│   valid_info.struct_name = Bus\n",
      "│   field_name = magnitude\n",
      "│   valid_range = voltage_limits\n",
      "│   valid_info.ist_struct = Bus(7, Bus 7     ZV, BusTypes.PQ = 2, -0.23335052099164186, 1.062, (min = 0.94, max = 1.06), 0.0, Area(1, 0.0, 0.0, 0.0), nothing, Dict{String, Any}())\n",
      "└ @ InfrastructureSystems /home/sam/.julia/packages/InfrastructureSystems/3LlGM/src/validation.jl:222\n",
      "┌ Warning: Invalid range\n",
      "│   valid_info.struct_name = Bus\n",
      "│   field_name = magnitude\n",
      "│   valid_range = voltage_limits\n",
      "│   valid_info.ist_struct = Bus(8, Bus 8     TV, BusTypes.PV = 3, -0.2331759880664424, 1.09, (min = 0.94, max = 1.06), 0.0, Area(1, 0.0, 0.0, 0.0), nothing, Dict{String, Any}())\n",
      "└ @ InfrastructureSystems /home/sam/.julia/packages/InfrastructureSystems/3LlGM/src/validation.jl:222\n",
      "┌ Info: Reading generator data\n",
      "└ @ PowerSystems /home/sam/.julia/packages/PowerSystems/61h6O/src/parsers/power_models_data.jl:488\n",
      "┌ Warning: Invalid range\n",
      "│   valid_info.struct_name = ThermalStandard\n",
      "│   field_name = reactive_power\n",
      "│   valid_range = reactive_power_limits\n",
      "│   valid_info.ist_struct = ThermalStandard(gen-1, true, true, Bus(1, Bus 1     HV, BusTypes.REF = 4, 0.0, 1.06, (min = 0.94, max = 1.06), 0.0, Area(1, 0.0, 0.0, 0.0), LoadZone(1, 2.59, 0.735), Dict{String, Any}()), 2.324, -0.16899999999999998, 3.3255038715960024, (min = 0.0, max = 3.324), (min = 0.0, max = 0.1), (up = 0.0, down = 0.0), ThreePartCost(VariableCost{Tuple{Float64, Float64}}((0.043029259900000005, 20.0)), 0.0, 0.0, 0.0), 100.0, nothing, PrimeMovers.OT = 19, ThermalFuels.OTHER = 14, Service[], 10000.0, nothing, Dict{String, Any}())\n",
      "└ @ InfrastructureSystems /home/sam/.julia/packages/InfrastructureSystems/3LlGM/src/validation.jl:222\n",
      "┌ Info: Reading branch data\n",
      "└ @ PowerSystems /home/sam/.julia/packages/PowerSystems/61h6O/src/parsers/power_models_data.jl:632\n",
      "┌ Warning: Rate 605.23 MW for Bus 2     HV-Bus 4     HV-i_4 is larger than the max expected in the range of (min = 12.0, max = 13.0).\n",
      "└ @ PowerSystems /home/sam/.julia/packages/PowerSystems/61h6O/src/utils/IO/branchdata_checks.jl:148\n",
      "┌ Warning: Rate 1804.61 MW for Bus 1     HV-Bus 2     HV-i_1 is larger than the max expected in the range of (min = 12.0, max = 13.0).\n",
      "└ @ PowerSystems /home/sam/.julia/packages/PowerSystems/61h6O/src/utils/IO/branchdata_checks.jl:148\n",
      "┌ Warning: Rate 395.91 MW for Bus 6     LV-Bus 12    LV-i_12 is larger than the max expected in the range of (min = 12.0, max = 13.0).\n",
      "└ @ PowerSystems /home/sam/.julia/packages/PowerSystems/61h6O/src/utils/IO/branchdata_checks.jl:148\n",
      "┌ Warning: Rate 289.79 MW for Bus 13    LV-Bus 14    LV-i_20 is larger than the max expected in the range of (min = 12.0, max = 13.0).\n",
      "└ @ PowerSystems /home/sam/.julia/packages/PowerSystems/61h6O/src/utils/IO/branchdata_checks.jl:148\n",
      "┌ Warning: Rate 489.61 MW for Bus 1     HV-Bus 5     HV-i_2 is larger than the max expected in the range of (min = 12.0, max = 13.0).\n",
      "└ @ PowerSystems /home/sam/.julia/packages/PowerSystems/61h6O/src/utils/IO/branchdata_checks.jl:148\n",
      "┌ Warning: Rate 611.69 MW for Bus 3     HV-Bus 4     HV-i_6 is larger than the max expected in the range of (min = 12.0, max = 13.0).\n",
      "└ @ PowerSystems /home/sam/.julia/packages/PowerSystems/61h6O/src/utils/IO/branchdata_checks.jl:148\n",
      "┌ Warning: Rate 509.77 MW for Bus 6     LV-Bus 11    LV-i_11 is larger than the max expected in the range of (min = 12.0, max = 13.0).\n",
      "└ @ PowerSystems /home/sam/.julia/packages/PowerSystems/61h6O/src/utils/IO/branchdata_checks.jl:148\n",
      "┌ Warning: Rate 769.05 MW for Bus 6     LV-Bus 13    LV-i_13 is larger than the max expected in the range of (min = 12.0, max = 13.0).\n",
      "└ @ PowerSystems /home/sam/.julia/packages/PowerSystems/61h6O/src/utils/IO/branchdata_checks.jl:148\n",
      "┌ Warning: Rate 614.1 MW for Bus 2     HV-Bus 5     HV-i_5 is larger than the max expected in the range of (min = 12.0, max = 13.0).\n",
      "└ @ PowerSystems /home/sam/.julia/packages/PowerSystems/61h6O/src/utils/IO/branchdata_checks.jl:148\n",
      "┌ Warning: Rate 1021.36 MW for Bus 7     ZV-Bus 9     LV-i_15 is larger than the max expected in the range of (min = 12.0, max = 13.0).\n",
      "└ @ PowerSystems /home/sam/.julia/packages/PowerSystems/61h6O/src/utils/IO/branchdata_checks.jl:148\n",
      "┌ Warning: Rate 1244.45 MW for Bus 9     LV-Bus 10    LV-i_16 is larger than the max expected in the range of (min = 12.0, max = 13.0).\n",
      "└ @ PowerSystems /home/sam/.julia/packages/PowerSystems/61h6O/src/utils/IO/branchdata_checks.jl:148\n",
      "┌ Warning: Rate 637.87 MW for Bus 7     ZV-Bus 8     TV-i_14 is larger than the max expected in the range of (min = 12.0, max = 13.0).\n",
      "└ @ PowerSystems /home/sam/.julia/packages/PowerSystems/61h6O/src/utils/IO/branchdata_checks.jl:148\n",
      "┌ Warning: Rate 2543.5 MW for Bus 4     HV-Bus 5     HV-i_7 is larger than the max expected in the range of (min = 12.0, max = 13.0).\n",
      "└ @ PowerSystems /home/sam/.julia/packages/PowerSystems/61h6O/src/utils/IO/branchdata_checks.jl:148\n",
      "┌ Warning: Rate 376.08 MW for Bus 9     LV-Bus 14    LV-i_17 is larger than the max expected in the range of (min = 12.0, max = 13.0).\n",
      "└ @ PowerSystems /home/sam/.julia/packages/PowerSystems/61h6O/src/utils/IO/branchdata_checks.jl:148\n",
      "┌ Warning: Rate 377.15 MW for Bus 12    LV-Bus 13    LV-i_19 is larger than the max expected in the range of (min = 12.0, max = 13.0).\n",
      "└ @ PowerSystems /home/sam/.julia/packages/PowerSystems/61h6O/src/utils/IO/branchdata_checks.jl:148\n",
      "┌ Warning: Rate 537.97 MW for Bus 10    LV-Bus 11    LV-i_18 is larger than the max expected in the range of (min = 12.0, max = 13.0).\n",
      "└ @ PowerSystems /home/sam/.julia/packages/PowerSystems/61h6O/src/utils/IO/branchdata_checks.jl:148\n",
      "┌ Warning: Rate 552.22 MW for Bus 2     HV-Bus 3     HV-i_3 is larger than the max expected in the range of (min = 12.0, max = 13.0).\n",
      "└ @ PowerSystems /home/sam/.julia/packages/PowerSystems/61h6O/src/utils/IO/branchdata_checks.jl:148\n",
      "┌ Info: Reading branch data\n",
      "└ @ PowerSystems /home/sam/.julia/packages/PowerSystems/61h6O/src/parsers/power_models_data.jl:694\n",
      "┌ Info: Reading DC Line data\n",
      "└ @ PowerSystems /home/sam/.julia/packages/PowerSystems/61h6O/src/parsers/power_models_data.jl:666\n",
      "┌ Info: Reading storage data\n",
      "└ @ PowerSystems /home/sam/.julia/packages/PowerSystems/61h6O/src/parsers/power_models_data.jl:713\n"
     ]
    },
    {
     "data": {
      "text/html": [
       "<h1>System</h1>\n",
       "<p><b>Base Power</b>: 100.0</p>\n",
       "<h2>Components</h2>\n",
       "<p><b>Num components</b>: 73</p>\n",
       "<div class=\"data-frame\"><p>9 rows × 3 columns</p><table class=\"data-frame\"><thead><tr><th></th><th>ConcreteType</th><th>SuperTypes</th><th>Count</th></tr><tr><th></th><th title=\"String\">String</th><th title=\"String\">String</th><th title=\"Int64\">Int64</th></tr></thead><tbody><tr><th>1</th><td>Arc</td><td>Topology &lt;: Component &lt;: InfrastructureSystemsComponent &lt;: InfrastructureSystemsType &lt;: Any</td><td>20</td></tr><tr><th>2</th><td>Area</td><td>AggregationTopology &lt;: Topology &lt;: Component &lt;: InfrastructureSystemsComponent &lt;: InfrastructureSystemsType &lt;: Any</td><td>1</td></tr><tr><th>3</th><td>Bus</td><td>Topology &lt;: Component &lt;: InfrastructureSystemsComponent &lt;: InfrastructureSystemsType &lt;: Any</td><td>14</td></tr><tr><th>4</th><td>FixedAdmittance</td><td>ElectricLoad &lt;: StaticInjection &lt;: Device &lt;: Component &lt;: InfrastructureSystemsComponent &lt;: InfrastructureSystemsType &lt;: Any</td><td>1</td></tr><tr><th>5</th><td>Line</td><td>ACBranch &lt;: Branch &lt;: Device &lt;: Component &lt;: InfrastructureSystemsComponent &lt;: InfrastructureSystemsType &lt;: Any</td><td>17</td></tr><tr><th>6</th><td>LoadZone</td><td>AggregationTopology &lt;: Topology &lt;: Component &lt;: InfrastructureSystemsComponent &lt;: InfrastructureSystemsType &lt;: Any</td><td>1</td></tr><tr><th>7</th><td>PowerLoad</td><td>StaticLoad &lt;: ElectricLoad &lt;: StaticInjection &lt;: Device &lt;: Component &lt;: InfrastructureSystemsComponent &lt;: InfrastructureSystemsType &lt;: Any</td><td>11</td></tr><tr><th>8</th><td>TapTransformer</td><td>ACBranch &lt;: Branch &lt;: Device &lt;: Component &lt;: InfrastructureSystemsComponent &lt;: InfrastructureSystemsType &lt;: Any</td><td>3</td></tr><tr><th>9</th><td>ThermalStandard</td><td>ThermalGen &lt;: Generator &lt;: StaticInjection &lt;: Device &lt;: Component &lt;: InfrastructureSystemsComponent &lt;: InfrastructureSystemsType &lt;: Any</td><td>5</td></tr></tbody></table></div>\n",
       "\n",
       "<h2>TimeSeriesContainer</h2>\n",
       "<p><b>Components with time series data</b>: 0</p>\n",
       "<p><b>Total StaticTimeSeries</b>: 0</p>\n",
       "<p><b>Total Forecasts</b>: 0</p>\n",
       "<p><b>Resolution</b>: 0 seconds</p>\n"
      ],
      "text/plain": [
       "System\n",
       "======\n",
       "System Units Base: SYSTEM_BASE\n",
       "Base Power: 100.0\n",
       "Base Frequency: 60.0\n",
       "\n",
       "Components\n",
       "==========\n",
       "Num components: 73\n",
       "\n",
       "\u001b[1m9×3 DataFrame\u001b[0m\n",
       "\u001b[1m Row \u001b[0m│\u001b[1m ConcreteType    \u001b[0m\u001b[1m SuperTypes                        \u001b[0m\n",
       "\u001b[1m     \u001b[0m│\u001b[90m String          \u001b[0m\u001b[90m String                            \u001b[0m\n",
       "─────┼───────────────────────────────────────────────────────\n",
       "   1 │ Arc              Topology <: Component <: Infrast…\n",
       "   2 │ Area             AggregationTopology <: Topology …\n",
       "   3 │ Bus              Topology <: Component <: Infrast…\n",
       "   4 │ FixedAdmittance  ElectricLoad <: StaticInjection …\n",
       "   5 │ Line             ACBranch <: Branch <: Device <: …\n",
       "   6 │ LoadZone         AggregationTopology <: Topology …\n",
       "   7 │ PowerLoad        StaticLoad <: ElectricLoad <: St…\n",
       "   8 │ TapTransformer   ACBranch <: Branch <: Device <: …\n",
       "   9 │ ThermalStandard  ThermalGen <: Generator <: Stati…\n",
       "\u001b[36m                                             1 column omitted\u001b[0m\n",
       "\n",
       "TimeSeriesContainer\n",
       "===================\n",
       "Components with time series data: 0\n",
       "Total StaticTimeSeries: 0\n",
       "Total Forecasts: 0\n"
      ]
     },
     "execution_count": 16,
     "metadata": {},
     "output_type": "execute_result"
    }
   ],
   "source": [
    "sys = System(joinpath(base_dir, \"matpower/case14.m\"))\n",
    "sys"
   ]
  },
  {
   "cell_type": "code",
   "execution_count": 19,
   "id": "40f0690b",
   "metadata": {},
   "outputs": [
    {
     "name": "stderr",
     "output_type": "stream",
     "text": [
      "┌ Info: Unit System changed to UnitSystem.SYSTEM_BASE = 0\n",
      "└ @ PowerSystems /home/sam/.julia/packages/PowerSystems/61h6O/src/base.jl:339\n",
      "┌ Info: Validating connectivity with Goderya algorithm\n",
      "└ @ PowerSystems /home/sam/.julia/packages/PowerSystems/61h6O/src/utils/network_calculations/ybus_calculations.jl:296\n",
      "┌ Info: The System has no islands\n",
      "└ @ PowerSystems /home/sam/.julia/packages/PowerSystems/61h6O/src/utils/network_calculations/ybus_calculations.jl:242\n",
      "┌ Info: PowerFlow solve converged, the results are exported in DataFrames\n",
      "└ @ PowerSystems /home/sam/.julia/packages/PowerSystems/61h6O/src/utils/power_flow.jl:339\n",
      "┌ Info: Voltages are exported in pu. Powers are exported in MW/MVAr.\n",
      "└ @ PowerSystems /home/sam/.julia/packages/PowerSystems/61h6O/src/utils/power_flow.jl:175\n",
      "┌ Info: Unit System changed to UnitSystem.SYSTEM_BASE = 0\n",
      "└ @ PowerSystems /home/sam/.julia/packages/PowerSystems/61h6O/src/base.jl:345\n"
     ]
    },
    {
     "data": {
      "text/plain": [
       "Dict{String, DataFrames.DataFrame} with 2 entries:\n",
       "  \"flow_results\" => \u001b[1m20×9 DataFrame\u001b[0m…\n",
       "  \"bus_results\"  => \u001b[1m14×9 DataFrame\u001b[0m…"
      ]
     },
     "execution_count": 19,
     "metadata": {},
     "output_type": "execute_result"
    }
   ],
   "source": [
    "results = solve_powerflow(sys)\n",
    "results"
   ]
  },
  {
   "cell_type": "code",
   "execution_count": 50,
   "id": "3e35652c",
   "metadata": {},
   "outputs": [
    {
     "data": {
      "text/plain": [
       "14-element Vector{Float64}:\n",
       " 1.06\n",
       " 1.045\n",
       " 1.01\n",
       " 1.0173242\n",
       " 1.0192849\n",
       " 1.07\n",
       " 1.0603896\n",
       " 1.09\n",
       " 1.0536844\n",
       " 1.0491216\n",
       " 1.055954\n",
       " 1.055018\n",
       " 1.0500508\n",
       " 1.0340927"
      ]
     },
     "execution_count": 50,
     "metadata": {},
     "output_type": "execute_result"
    }
   ],
   "source": [
    "results[\"bus_results\"][!,\"Vm\"]"
   ]
  },
  {
   "cell_type": "code",
   "execution_count": 206,
   "id": "1dbafec5",
   "metadata": {},
   "outputs": [
    {
     "data": {
      "text/plain": [
       "qsts (generic function with 1 method)"
      ]
     },
     "execution_count": 206,
     "metadata": {},
     "output_type": "execute_result"
    }
   ],
   "source": []
  },
  {
   "cell_type": "code",
   "execution_count": null,
   "id": "cd796681",
   "metadata": {},
   "outputs": [],
   "source": []
  },
  {
   "cell_type": "code",
   "execution_count": 139,
   "id": "3618af0c",
   "metadata": {},
   "outputs": [
    {
     "data": {
      "text/plain": [
       "get_PQ_buses (generic function with 1 method)"
      ]
     },
     "execution_count": 139,
     "metadata": {},
     "output_type": "execute_result"
    }
   ],
   "source": [
    "function get_PQ_buses(sys::System)\n",
    "    buses = collect(get_components(Bus,sys))\n",
    "    PQ_buses = [bus for bus in buses if get_bustype(bus) == BusTypes.PQ]\n",
    "    return PQ_buses\n",
    "end\n"
   ]
  },
  {
   "cell_type": "code",
   "execution_count": 149,
   "id": "1760af7f",
   "metadata": {},
   "outputs": [
    {
     "name": "stderr",
     "output_type": "stream",
     "text": [
      "┌ Info: Unit System changed to UnitSystem.SYSTEM_BASE = 0\n",
      "└ @ PowerSystems /home/sam/.julia/packages/PowerSystems/61h6O/src/base.jl:339\n",
      "┌ Info: Validating connectivity with Goderya algorithm\n",
      "└ @ PowerSystems /home/sam/.julia/packages/PowerSystems/61h6O/src/utils/network_calculations/ybus_calculations.jl:296\n",
      "┌ Info: The System has no islands\n",
      "└ @ PowerSystems /home/sam/.julia/packages/PowerSystems/61h6O/src/utils/network_calculations/ybus_calculations.jl:242\n",
      "┌ Info: PowerFlow solve converged, the results are exported in DataFrames\n",
      "└ @ PowerSystems /home/sam/.julia/packages/PowerSystems/61h6O/src/utils/power_flow.jl:339\n",
      "┌ Info: Voltages are exported in pu. Powers are exported in MW/MVAr.\n",
      "└ @ PowerSystems /home/sam/.julia/packages/PowerSystems/61h6O/src/utils/power_flow.jl:175\n",
      "┌ Info: Unit System changed to UnitSystem.SYSTEM_BASE = 0\n",
      "└ @ PowerSystems /home/sam/.julia/packages/PowerSystems/61h6O/src/base.jl:345\n"
     ]
    },
    {
     "data": {
      "text/plain": [
       "14-element Vector{Float64}:\n",
       " 1.06\n",
       " 1.045\n",
       " 1.01\n",
       " 1.0173242\n",
       " 1.0192849\n",
       " 1.07\n",
       " 1.0603896\n",
       " 1.09\n",
       " 1.0536844\n",
       " 1.0491216\n",
       " 1.055954\n",
       " 1.055018\n",
       " 1.0500508\n",
       " 1.0340927"
      ]
     },
     "execution_count": 149,
     "metadata": {},
     "output_type": "execute_result"
    }
   ],
   "source": [
    "vmag_0 = get_voltages(sys)"
   ]
  },
  {
   "cell_type": "code",
   "execution_count": 178,
   "id": "a12c2b2e",
   "metadata": {},
   "outputs": [],
   "source": [
    "PQ_buses = get_PQ_buses(sys);\n",
    "inj_bus = PQ_buses[1];\n",
    "range_P_inj = [i for i in 0:0.01:0.9];\n",
    "range_Q_inj = [0.0 for i in 0:0.01:0.9];"
   ]
  },
  {
   "cell_type": "code",
   "execution_count": null,
   "id": "cd68b7d9",
   "metadata": {},
   "outputs": [],
   "source": []
  },
  {
   "cell_type": "code",
   "execution_count": 207,
   "id": "6b9911c5",
   "metadata": {},
   "outputs": [
    {
     "name": "stdout",
     "output_type": "stream",
     "text": [
      "1String\n"
     ]
    },
    {
     "ename": "LoadError",
     "evalue": "UndefKeywordError: keyword argument available not assigned",
     "output_type": "error",
     "traceback": [
      "UndefKeywordError: keyword argument available not assigned",
      "",
      "Stacktrace:",
      " [1] place_inj(P_inj::Float64, Q_inj::Float64, bus::Bus, name::String, system_model::System)",
      "   @ Main ./In[182]:14",
      " [2] get_inj_voltages(inj_bus::Bus, range_P_inj::Vector{Float64}, range_Q_inj::Vector{Float64}, system_model::System)",
      "   @ Main ./In[183]:28",
      " [3] top-level scope",
      "   @ In[207]:1",
      " [4] eval",
      "   @ ./boot.jl:360 [inlined]",
      " [5] include_string(mapexpr::typeof(REPL.softscope), mod::Module, code::String, filename::String)",
      "   @ Base ./loading.jl:1094"
     ]
    }
   ],
   "source": [
    "voltages_per_inj = get_inj_voltages(inj_bus,range_P_inj,range_Q_inj,sys)"
   ]
  },
  {
   "cell_type": "code",
   "execution_count": 176,
   "id": "4956a180",
   "metadata": {},
   "outputs": [
    {
     "data": {
      "text/plain": [
       "bus6 (PowerLoad):\n",
       "   name: bus6\n",
       "   available: true\n",
       "   bus: Bus 6     LV (Bus)\n",
       "   model: LoadModels.ConstantPower = 3\n",
       "   active_power: 0.11199999999999999\n",
       "   reactive_power: 0.075\n",
       "   base_power: 100.0\n",
       "   max_active_power: 0.11199999999999999\n",
       "   max_reactive_power: 0.075\n",
       "   services: 0-element Vector{Service}\n",
       "   dynamic_injector: nothing\n",
       "   ext: Dict{String, Any}()\n",
       "   time_series_container: InfrastructureSystems.TimeSeriesContainer: 0\n",
       "   InfrastructureSystems.SystemUnitsSettings:\n",
       "      base_value: 100.0\n",
       "      unit_system: UnitSystem.SYSTEM_BASE = 0"
      ]
     },
     "execution_count": 176,
     "metadata": {},
     "output_type": "execute_result"
    }
   ],
   "source": [
    "loads = collect(get_components(PowerLoad,sys))[3]"
   ]
  },
  {
   "cell_type": "code",
   "execution_count": 208,
   "id": "478dc73a",
   "metadata": {},
   "outputs": [
    {
     "data": {
      "text/plain": [
       "LoadModels.ConstantPower = 3"
      ]
     },
     "execution_count": 208,
     "metadata": {},
     "output_type": "execute_result"
    }
   ],
   "source": [
    "LoadModels.ConstantPower"
   ]
  },
  {
   "cell_type": "code",
   "execution_count": 114,
   "id": "1fe7f0e5",
   "metadata": {},
   "outputs": [
    {
     "name": "stdout",
     "output_type": "stream",
     "text": [
      "1\n",
      "0\n",
      "0\n",
      "2\n",
      "1\n",
      "2\n",
      "3\n",
      "4\n",
      "3\n"
     ]
    }
   ],
   "source": [
    "for (i,(a,b)) in enumerate(zip([0,1,4],[0,2,3]))\n",
    "    println(i)\n",
    "    println(a)\n",
    "    println(b)\n",
    "end"
   ]
  },
  {
   "cell_type": "code",
   "execution_count": null,
   "id": "3012a4bb",
   "metadata": {},
   "outputs": [],
   "source": []
  }
 ],
 "metadata": {
  "kernelspec": {
   "display_name": "Julia 1.6.0",
   "language": "julia",
   "name": "julia-1.6"
  },
  "language_info": {
   "file_extension": ".jl",
   "mimetype": "application/julia",
   "name": "julia",
   "version": "1.6.1"
  }
 },
 "nbformat": 4,
 "nbformat_minor": 5
}
