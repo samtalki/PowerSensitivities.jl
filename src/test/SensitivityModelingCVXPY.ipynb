{
 "cells": [
  {
   "cell_type": "code",
   "execution_count": 167,
   "id": "deb16739-01af-45cd-92a9-0906af3327f0",
   "metadata": {
    "tags": []
   },
   "outputs": [],
   "source": [
    "import os\n",
    "import imp\n",
    "import seaborn as sns\n",
    "import matplotlib.pyplot as plt\n",
    "import matplotlib\n",
    "import pandas as pd\n",
    "import numpy as np\n",
    "import cvxpy as cp\n",
    "from tqdm import tqdm\n",
    "\n",
    "from utils import spectral_analysis\n",
    "from measurements import constrained_linear_measurement_operator\n",
    "import matrix_sensitivities as mat_sens"
   ]
  },
  {
   "cell_type": "code",
   "execution_count": 300,
   "id": "6142f27c-04d5-4a41-bddf-4db619c1f53b",
   "metadata": {
    "tags": []
   },
   "outputs": [],
   "source": [
    "sns.set_context(\"paper\")\n",
    "plt.style.use(\"bmh\")\n",
    "matplotlib.rc('text', usetex=True)\n",
    "matplotlib.rc('text.latex', preamble=r'\\usepackage{amsmath,amssymb}')\n",
    "matplotlib.rcParams['font.size'] = 7\n",
    "matplotlib.rcParams['legend.fontsize'] = 7\n",
    "matplotlib.rcParams['lines.linewidth'] = 2"
   ]
  },
  {
   "cell_type": "markdown",
   "id": "84e75b98-965e-454f-ac77-987ade7f215e",
   "metadata": {},
   "source": [
    "## Data Management"
   ]
  },
  {
   "cell_type": "code",
   "execution_count": 155,
   "id": "d8e1a85b-b3a1-4d25-87de-e4390903a542",
   "metadata": {},
   "outputs": [],
   "source": [
    "def make_sens_ts(dvdp,dvdq,n=274):\n",
    "    \"\"\"Make timeseries of sensitivity matrices\"\"\"\n",
    "    assert dvdp.shape[0] == dvdq.shape[0]\n",
    "    m_tot = dvdp.shape[0] #total measurments\n",
    "    m = int(m_tot/n) #Timeseries interval\n",
    "    svp,svq = [],[] #timeseries list of svp and svq matrices\n",
    "    for t in range(m):\n",
    "        svp.append(dvdp[t*n:(t+1)*n,:])\n",
    "        svq.append(dvdq[t*n:(t+1)*n,:])\n",
    "    return {'svp':svp,\n",
    "            'svq':svq}\n",
    "\n",
    "def make_deviations(data):\n",
    "    \"\"\"Make finite differences\"\"\"\n",
    "    p,q,v = data\n",
    "    (dp,dq,dv) = [np.diff(x) for x in (p,q,v)]\n",
    "    dx = np.vstack((dp,dq))\n",
    "    return (dx,dv)\n",
    "\n",
    "def make_S_tilde(svp,svq):\n",
    "    \"\"\"Make wide S_tilde matrix\"\"\"\n",
    "    return np.vstack((svp.T,svq.T)).T\n",
    "\n",
    "def make_S_0(S_tilde,pct_obs):\n",
    "    \"\"\"Make initial observed matrix\"\"\"\n",
    "    O,_ = constrained_linear_measurement_operator(S_tilde,pct_obs)\n",
    "    O,S_0 = np.asarray(O),np.multiply(np.asarray(O),S_tilde)\n",
    "    return O,S_0"
   ]
  },
  {
   "cell_type": "markdown",
   "id": "5c309d58-0943-45b5-99bd-6399e47cae7a",
   "metadata": {},
   "source": [
    "# Modeling Complex Power Injections in the IEEE 123-Bus Case using Voltage Sensitivities\n",
    "\n",
    "## 1. Hourly Varying Demand, Fixed Power Factor\n",
    "A constant power factor of $\\alpha_i = 0.9, i = 1,\\dots,n$ is applied to all loads."
   ]
  },
  {
   "cell_type": "code",
   "execution_count": 151,
   "id": "c3307784-93eb-4f3a-8840-e5e53cbc276f",
   "metadata": {},
   "outputs": [
    {
     "name": "stdout",
     "output_type": "stream",
     "text": [
      "(274, 274) (274, 274) (548, 23) (274, 23)\n"
     ]
    }
   ],
   "source": [
    "path = \"/home/sam/github/PowerSensitivities.jl/data/ieee123_ts/HourlyDemand_DB_fixedPF/\"\n",
    "os.chdir(path)\n",
    "files = \"dvdp.pkl\",\"dvdq.pkl\",'Pnet.pkl','Qnet.pkl','Volts.pkl'\n",
    "dvdp,dvdq,p,q,v = [pd.read_pickle(f).values for f in files]\n",
    "sens = make_sens_ts(dvdp,dvdq)\n",
    "data = make_deviations((p,q,v))\n",
    "(dx,dv) = data\n",
    "svp,svq = sens['svp'],sens['svq']\n",
    "print(svp[0].shape,svq[0].shape,dx.shape,dv.shape)"
   ]
  },
  {
   "cell_type": "code",
   "execution_count": 152,
   "id": "c0f4bffe-bfd6-42ee-b282-8cd793de9d5c",
   "metadata": {},
   "outputs": [
    {
     "name": "stdout",
     "output_type": "stream",
     "text": [
      "Relative pct. error of the 'true' sensitivity matrix:  1.09912479960769\n"
     ]
    }
   ],
   "source": [
    "print(\"Relative pct. error of the 'true' sensitivity matrix: \",np.linalg.norm(dv[:,0] - S_tilde@dx[:,0])/np.linalg.norm(dv[:,0])*100)"
   ]
  },
  {
   "cell_type": "code",
   "execution_count": 89,
   "id": "7c563301",
   "metadata": {},
   "outputs": [],
   "source": [
    "imp.reload(mat_sens)\n",
    "pf = 0.9*np.ones(S_tilde.shape[0])\n",
    "K = mat_sens.K(pf)\n",
    "sqv_impl = [svq_t@K for svq_t in svq]"
   ]
  },
  {
   "cell_type": "code",
   "execution_count": null,
   "id": "08d5be79-7ea2-480f-a8c0-e27b2c7e8789",
   "metadata": {},
   "outputs": [],
   "source": []
  },
  {
   "cell_type": "markdown",
   "id": "de9b57de-cb67-450d-bef8-22162e475f4d",
   "metadata": {},
   "source": [
    "### Solve the Matrix recovery problem with different levels of precomputed local coefficients"
   ]
  },
  {
   "cell_type": "code",
   "execution_count": 163,
   "id": "0529651f-f461-4906-bb41-ed6ddb9fb549",
   "metadata": {
    "collapsed": true,
    "jupyter": {
     "outputs_hidden": true
    },
    "tags": []
   },
   "outputs": [
    {
     "name": "stderr",
     "output_type": "stream",
     "text": [
      "0it [00:00, ?it/s]"
     ]
    },
    {
     "name": "stdout",
     "output_type": "stream",
     "text": [
      "===============================================================================\n",
      "                                     CVXPY                                     \n",
      "                                     v1.2.0                                    \n",
      "===============================================================================\n",
      "(CVXPY) Apr 07 10:37:13 PM: Your problem has 150152 variables, 1 constraints, and 2 parameters.\n",
      "(CVXPY) Apr 07 10:37:13 PM: It is compliant with the following grammars: DCP, DQCP\n",
      "(CVXPY) Apr 07 10:37:13 PM: CVXPY will first compile your problem; then, it will invoke a numerical solver to obtain a solution.\n",
      "-------------------------------------------------------------------------------\n",
      "                                  Compilation                                  \n",
      "-------------------------------------------------------------------------------\n",
      "(CVXPY) Apr 07 10:37:13 PM: Compiling problem (target solver=SCS).\n",
      "(CVXPY) Apr 07 10:37:13 PM: Reduction chain: Dcp2Cone -> CvxAttr2Constr -> ConeMatrixStuffing -> SCS\n",
      "(CVXPY) Apr 07 10:37:13 PM: Applying reduction Dcp2Cone\n",
      "(CVXPY) Apr 07 10:37:13 PM: Applying reduction CvxAttr2Constr\n",
      "(CVXPY) Apr 07 10:37:15 PM: Applying reduction ConeMatrixStuffing\n",
      "(CVXPY) Apr 07 10:37:16 PM: Applying reduction SCS\n",
      "(CVXPY) Apr 07 10:37:17 PM: Finished problem compilation (took 3.280e+00 seconds).\n",
      "(CVXPY) Apr 07 10:37:17 PM: (Subsequent compilations of this problem, using the same arguments, should take less time.)\n",
      "-------------------------------------------------------------------------------\n",
      "                                Numerical solver                               \n",
      "-------------------------------------------------------------------------------\n",
      "(CVXPY) Apr 07 10:37:17 PM: Invoking solver SCS  to obtain a solution.\n",
      "------------------------------------------------------------------\n",
      "\t       SCS v3.2.0 - Splitting Conic Solver\n",
      "\t(c) Brendan O'Donoghue, Stanford University, 2012\n",
      "------------------------------------------------------------------\n",
      "problem:  variables n: 338255, constraints m: 359666\n",
      "cones: \t  l: linear vars: 1\n",
      "\t  q: soc vars: 21412, qsize: 2\n",
      "\t  s: psd vars: 338253, ssize: 1\n",
      "settings: eps_abs: 1.0e-05, eps_rel: 1.0e-05, eps_infeas: 1.0e-07\n",
      "\t  alpha: 1.50, scale: 1.00e-01, adaptive_scale: 1\n",
      "\t  max_iters: 100000, normalize: 1, rho_x: 1.00e-06\n",
      "\t  acceleration_lookback: 10, acceleration_interval: 10\n",
      "lin-sys:  sparse-direct\n",
      "\t  nnz(A): 1556772, nnz(P): 0\n",
      "------------------------------------------------------------------\n",
      " iter | pri res | dua res |   gap   |   obj   |  scale  | time (s)\n",
      "------------------------------------------------------------------\n",
      "     0| 7.50e+02  1.00e+00  8.49e+02 -4.15e+02  1.00e-01  8.06e-01 \n",
      "   250| 5.23e-04  1.62e-05  5.69e-05  9.87e+00  5.01e-01  1.50e+02 \n",
      "   325| 1.69e-05  1.49e-06  9.70e-07  9.87e+00  5.01e-01  1.95e+02 \n",
      "------------------------------------------------------------------\n",
      "status:  solved\n",
      "timings: total: 1.96e+02s = setup: 1.42e+00s + solve: 1.95e+02s\n",
      "\t lin-sys: 4.98e+00s, cones: 1.87e+02s, accel: 4.04e-01s\n",
      "------------------------------------------------------------------\n",
      "objective = 9.873632\n",
      "------------------------------------------------------------------\n",
      "-------------------------------------------------------------------------------\n",
      "                                    Summary                                    \n",
      "-------------------------------------------------------------------------------\n",
      "(CVXPY) Apr 07 10:40:33 PM: Problem status: optimal\n",
      "(CVXPY) Apr 07 10:40:33 PM: Optimal value: 9.874e+00\n",
      "(CVXPY) Apr 07 10:40:33 PM: Compilation took 3.280e+00 seconds\n",
      "(CVXPY) Apr 07 10:40:33 PM: Solver (including time spent in interface) took 1.965e+02 seconds\n"
     ]
    },
    {
     "name": "stderr",
     "output_type": "stream",
     "text": [
      "1it [03:19, 199.81s/it]"
     ]
    },
    {
     "name": "stdout",
     "output_type": "stream",
     "text": [
      "===============================================================================\n",
      "                                     CVXPY                                     \n",
      "                                     v1.2.0                                    \n",
      "===============================================================================\n",
      "(CVXPY) Apr 07 10:40:33 PM: Your problem has 150152 variables, 1 constraints, and 2 parameters.\n",
      "(CVXPY) Apr 07 10:40:33 PM: It is compliant with the following grammars: DCP, DQCP\n",
      "(CVXPY) Apr 07 10:40:33 PM: CVXPY will first compile your problem; then, it will invoke a numerical solver to obtain a solution.\n",
      "-------------------------------------------------------------------------------\n",
      "                                  Compilation                                  \n",
      "-------------------------------------------------------------------------------\n",
      "(CVXPY) Apr 07 10:40:33 PM: Compiling problem (target solver=SCS).\n",
      "(CVXPY) Apr 07 10:40:33 PM: Reduction chain: Dcp2Cone -> CvxAttr2Constr -> ConeMatrixStuffing -> SCS\n",
      "(CVXPY) Apr 07 10:40:33 PM: Applying reduction Dcp2Cone\n",
      "(CVXPY) Apr 07 10:40:33 PM: Applying reduction CvxAttr2Constr\n",
      "(CVXPY) Apr 07 10:40:34 PM: Applying reduction ConeMatrixStuffing\n",
      "(CVXPY) Apr 07 10:40:35 PM: Applying reduction SCS\n",
      "(CVXPY) Apr 07 10:40:35 PM: Finished problem compilation (took 2.096e+00 seconds).\n",
      "(CVXPY) Apr 07 10:40:35 PM: (Subsequent compilations of this problem, using the same arguments, should take less time.)\n",
      "-------------------------------------------------------------------------------\n",
      "                                Numerical solver                               \n",
      "-------------------------------------------------------------------------------\n",
      "(CVXPY) Apr 07 10:40:35 PM: Invoking solver SCS  to obtain a solution.\n",
      "------------------------------------------------------------------\n",
      "\t       SCS v3.2.0 - Splitting Conic Solver\n",
      "\t(c) Brendan O'Donoghue, Stanford University, 2012\n",
      "------------------------------------------------------------------\n",
      "problem:  variables n: 338255, constraints m: 374733\n",
      "cones: \t  l: linear vars: 1\n",
      "\t  q: soc vars: 36479, qsize: 2\n",
      "\t  s: psd vars: 338253, ssize: 1\n",
      "settings: eps_abs: 1.0e-05, eps_rel: 1.0e-05, eps_infeas: 1.0e-07\n",
      "\t  alpha: 1.50, scale: 1.00e-01, adaptive_scale: 1\n",
      "\t  max_iters: 100000, normalize: 1, rho_x: 1.00e-06\n",
      "\t  acceleration_lookback: 10, acceleration_interval: 10\n",
      "lin-sys:  sparse-direct\n",
      "\t  nnz(A): 1571839, nnz(P): 0\n",
      "------------------------------------------------------------------\n",
      " iter | pri res | dua res |   gap   |   obj   |  scale  | time (s)\n",
      "------------------------------------------------------------------\n",
      "     0| 7.50e+02  1.02e+00  8.57e+02 -4.11e+02  1.00e-01  5.11e-01 \n",
      "   250| 7.52e-04  5.74e-06  1.10e-04  1.07e+01  4.66e-01  1.56e+02 \n",
      "   325| 5.74e-05  1.80e-06  2.79e-06  1.07e+01  1.48e+00  2.02e+02 \n",
      "------------------------------------------------------------------\n",
      "status:  solved\n",
      "timings: total: 2.03e+02s = setup: 1.09e+00s + solve: 2.02e+02s\n",
      "\t lin-sys: 4.88e+00s, cones: 1.95e+02s, accel: 3.83e-01s\n",
      "------------------------------------------------------------------\n",
      "objective = 10.664424\n",
      "------------------------------------------------------------------\n",
      "-------------------------------------------------------------------------------\n",
      "                                    Summary                                    \n",
      "-------------------------------------------------------------------------------\n",
      "(CVXPY) Apr 07 10:43:59 PM: Problem status: optimal\n",
      "(CVXPY) Apr 07 10:43:59 PM: Optimal value: 1.066e+01\n",
      "(CVXPY) Apr 07 10:43:59 PM: Compilation took 2.096e+00 seconds\n",
      "(CVXPY) Apr 07 10:43:59 PM: Solver (including time spent in interface) took 2.033e+02 seconds\n"
     ]
    },
    {
     "name": "stderr",
     "output_type": "stream",
     "text": [
      "2it [06:45, 203.17s/it]"
     ]
    },
    {
     "name": "stdout",
     "output_type": "stream",
     "text": [
      "===============================================================================\n",
      "                                     CVXPY                                     \n",
      "                                     v1.2.0                                    \n",
      "===============================================================================\n",
      "(CVXPY) Apr 07 10:43:59 PM: Your problem has 150152 variables, 1 constraints, and 2 parameters.\n",
      "(CVXPY) Apr 07 10:43:59 PM: It is compliant with the following grammars: DCP, DQCP\n",
      "(CVXPY) Apr 07 10:43:59 PM: CVXPY will first compile your problem; then, it will invoke a numerical solver to obtain a solution.\n",
      "-------------------------------------------------------------------------------\n",
      "                                  Compilation                                  \n",
      "-------------------------------------------------------------------------------\n",
      "(CVXPY) Apr 07 10:43:59 PM: Compiling problem (target solver=SCS).\n",
      "(CVXPY) Apr 07 10:43:59 PM: Reduction chain: Dcp2Cone -> CvxAttr2Constr -> ConeMatrixStuffing -> SCS\n",
      "(CVXPY) Apr 07 10:43:59 PM: Applying reduction Dcp2Cone\n",
      "(CVXPY) Apr 07 10:43:59 PM: Applying reduction CvxAttr2Constr\n",
      "(CVXPY) Apr 07 10:44:00 PM: Applying reduction ConeMatrixStuffing\n",
      "(CVXPY) Apr 07 10:44:00 PM: Applying reduction SCS\n",
      "(CVXPY) Apr 07 10:44:01 PM: Finished problem compilation (took 2.136e+00 seconds).\n",
      "(CVXPY) Apr 07 10:44:01 PM: (Subsequent compilations of this problem, using the same arguments, should take less time.)\n",
      "-------------------------------------------------------------------------------\n",
      "                                Numerical solver                               \n",
      "-------------------------------------------------------------------------------\n",
      "(CVXPY) Apr 07 10:44:01 PM: Invoking solver SCS  to obtain a solution.\n",
      "------------------------------------------------------------------\n",
      "\t       SCS v3.2.0 - Splitting Conic Solver\n",
      "\t(c) Brendan O'Donoghue, Stanford University, 2012\n",
      "------------------------------------------------------------------\n",
      "problem:  variables n: 338255, constraints m: 389506\n",
      "cones: \t  l: linear vars: 1\n",
      "\t  q: soc vars: 51252, qsize: 2\n",
      "\t  s: psd vars: 338253, ssize: 1\n",
      "settings: eps_abs: 1.0e-05, eps_rel: 1.0e-05, eps_infeas: 1.0e-07\n",
      "\t  alpha: 1.50, scale: 1.00e-01, adaptive_scale: 1\n",
      "\t  max_iters: 100000, normalize: 1, rho_x: 1.00e-06\n",
      "\t  acceleration_lookback: 10, acceleration_interval: 10\n",
      "lin-sys:  sparse-direct\n",
      "\t  nnz(A): 1586612, nnz(P): 0\n",
      "------------------------------------------------------------------\n",
      " iter | pri res | dua res |   gap   |   obj   |  scale  | time (s)\n",
      "------------------------------------------------------------------\n",
      "     0| 7.50e+02  1.26e+00  8.65e+02 -4.07e+02  1.00e-01  4.92e-01 \n",
      "   250| 5.20e-04  3.43e-06  5.14e-05  1.10e+01  5.23e-01  1.58e+02 \n",
      "   325| 3.60e-06  2.93e-07  1.63e-07  1.10e+01  5.23e-01  2.07e+02 \n",
      "------------------------------------------------------------------\n",
      "status:  solved\n",
      "timings: total: 2.08e+02s = setup: 1.04e+00s + solve: 2.07e+02s\n",
      "\t lin-sys: 4.98e+00s, cones: 1.99e+02s, accel: 4.16e-01s\n",
      "------------------------------------------------------------------\n",
      "objective = 11.041577\n",
      "------------------------------------------------------------------\n",
      "-------------------------------------------------------------------------------\n",
      "                                    Summary                                    \n",
      "-------------------------------------------------------------------------------\n",
      "(CVXPY) Apr 07 10:47:29 PM: Problem status: optimal\n",
      "(CVXPY) Apr 07 10:47:29 PM: Optimal value: 1.104e+01\n",
      "(CVXPY) Apr 07 10:47:29 PM: Compilation took 2.136e+00 seconds\n",
      "(CVXPY) Apr 07 10:47:29 PM: Solver (including time spent in interface) took 2.081e+02 seconds\n"
     ]
    },
    {
     "name": "stderr",
     "output_type": "stream",
     "text": [
      "3it [10:15, 206.41s/it]"
     ]
    },
    {
     "name": "stdout",
     "output_type": "stream",
     "text": [
      "===============================================================================\n",
      "                                     CVXPY                                     \n",
      "                                     v1.2.0                                    \n",
      "===============================================================================\n",
      "(CVXPY) Apr 07 10:47:29 PM: Your problem has 150152 variables, 1 constraints, and 2 parameters.\n",
      "(CVXPY) Apr 07 10:47:29 PM: It is compliant with the following grammars: DCP, DQCP\n",
      "(CVXPY) Apr 07 10:47:29 PM: CVXPY will first compile your problem; then, it will invoke a numerical solver to obtain a solution.\n",
      "-------------------------------------------------------------------------------\n",
      "                                  Compilation                                  \n",
      "-------------------------------------------------------------------------------\n",
      "(CVXPY) Apr 07 10:47:29 PM: Compiling problem (target solver=SCS).\n",
      "(CVXPY) Apr 07 10:47:29 PM: Reduction chain: Dcp2Cone -> CvxAttr2Constr -> ConeMatrixStuffing -> SCS\n",
      "(CVXPY) Apr 07 10:47:29 PM: Applying reduction Dcp2Cone\n",
      "(CVXPY) Apr 07 10:47:29 PM: Applying reduction CvxAttr2Constr\n",
      "(CVXPY) Apr 07 10:47:30 PM: Applying reduction ConeMatrixStuffing\n",
      "(CVXPY) Apr 07 10:47:31 PM: Applying reduction SCS\n",
      "(CVXPY) Apr 07 10:47:31 PM: Finished problem compilation (took 2.158e+00 seconds).\n",
      "(CVXPY) Apr 07 10:47:31 PM: (Subsequent compilations of this problem, using the same arguments, should take less time.)\n",
      "-------------------------------------------------------------------------------\n",
      "                                Numerical solver                               \n",
      "-------------------------------------------------------------------------------\n",
      "(CVXPY) Apr 07 10:47:31 PM: Invoking solver SCS  to obtain a solution.\n",
      "------------------------------------------------------------------\n",
      "\t       SCS v3.2.0 - Splitting Conic Solver\n",
      "\t(c) Brendan O'Donoghue, Stanford University, 2012\n",
      "------------------------------------------------------------------\n",
      "problem:  variables n: 338255, constraints m: 404552\n",
      "cones: \t  l: linear vars: 1\n",
      "\t  q: soc vars: 66298, qsize: 2\n",
      "\t  s: psd vars: 338253, ssize: 1\n",
      "settings: eps_abs: 1.0e-05, eps_rel: 1.0e-05, eps_infeas: 1.0e-07\n",
      "\t  alpha: 1.50, scale: 1.00e-01, adaptive_scale: 1\n",
      "\t  max_iters: 100000, normalize: 1, rho_x: 1.00e-06\n",
      "\t  acceleration_lookback: 10, acceleration_interval: 10\n",
      "lin-sys:  sparse-direct\n",
      "\t  nnz(A): 1601658, nnz(P): 0\n",
      "------------------------------------------------------------------\n",
      " iter | pri res | dua res |   gap   |   obj   |  scale  | time (s)\n",
      "------------------------------------------------------------------\n",
      "     0| 7.50e+02  1.44e+00  8.72e+02 -4.03e+02  1.00e-01  5.89e-01 \n",
      "   250| 5.92e-04  5.94e-06  2.02e-05  1.13e+01  5.26e-01  1.64e+02 \n",
      "   300| 4.28e-05  2.26e-06  1.10e-05  1.13e+01  1.85e+00  1.98e+02 \n",
      "------------------------------------------------------------------\n",
      "status:  solved\n",
      "timings: total: 1.99e+02s = setup: 1.06e+00s + solve: 1.98e+02s\n",
      "\t lin-sys: 4.78e+00s, cones: 1.91e+02s, accel: 3.64e-01s\n",
      "------------------------------------------------------------------\n",
      "objective = 11.258877\n",
      "------------------------------------------------------------------\n",
      "-------------------------------------------------------------------------------\n",
      "                                    Summary                                    \n",
      "-------------------------------------------------------------------------------\n",
      "(CVXPY) Apr 07 10:50:51 PM: Problem status: optimal\n",
      "(CVXPY) Apr 07 10:50:51 PM: Optimal value: 1.126e+01\n",
      "(CVXPY) Apr 07 10:50:51 PM: Compilation took 2.158e+00 seconds\n",
      "(CVXPY) Apr 07 10:50:51 PM: Solver (including time spent in interface) took 1.993e+02 seconds\n"
     ]
    },
    {
     "name": "stderr",
     "output_type": "stream",
     "text": [
      "4it [13:37, 204.47s/it]"
     ]
    },
    {
     "name": "stdout",
     "output_type": "stream",
     "text": [
      "===============================================================================\n",
      "                                     CVXPY                                     \n",
      "                                     v1.2.0                                    \n",
      "===============================================================================\n",
      "(CVXPY) Apr 07 10:50:51 PM: Your problem has 150152 variables, 1 constraints, and 2 parameters.\n",
      "(CVXPY) Apr 07 10:50:51 PM: It is compliant with the following grammars: DCP, DQCP\n",
      "(CVXPY) Apr 07 10:50:51 PM: CVXPY will first compile your problem; then, it will invoke a numerical solver to obtain a solution.\n",
      "-------------------------------------------------------------------------------\n",
      "                                  Compilation                                  \n",
      "-------------------------------------------------------------------------------\n",
      "(CVXPY) Apr 07 10:50:51 PM: Compiling problem (target solver=SCS).\n",
      "(CVXPY) Apr 07 10:50:51 PM: Reduction chain: Dcp2Cone -> CvxAttr2Constr -> ConeMatrixStuffing -> SCS\n",
      "(CVXPY) Apr 07 10:50:51 PM: Applying reduction Dcp2Cone\n",
      "(CVXPY) Apr 07 10:50:51 PM: Applying reduction CvxAttr2Constr\n",
      "(CVXPY) Apr 07 10:50:52 PM: Applying reduction ConeMatrixStuffing\n",
      "(CVXPY) Apr 07 10:50:52 PM: Applying reduction SCS\n",
      "(CVXPY) Apr 07 10:50:53 PM: Finished problem compilation (took 2.137e+00 seconds).\n",
      "(CVXPY) Apr 07 10:50:53 PM: (Subsequent compilations of this problem, using the same arguments, should take less time.)\n",
      "-------------------------------------------------------------------------------\n",
      "                                Numerical solver                               \n",
      "-------------------------------------------------------------------------------\n",
      "(CVXPY) Apr 07 10:50:53 PM: Invoking solver SCS  to obtain a solution.\n",
      "------------------------------------------------------------------\n",
      "\t       SCS v3.2.0 - Splitting Conic Solver\n",
      "\t(c) Brendan O'Donoghue, Stanford University, 2012\n",
      "------------------------------------------------------------------\n",
      "problem:  variables n: 338255, constraints m: 419261\n",
      "cones: \t  l: linear vars: 1\n",
      "\t  q: soc vars: 81007, qsize: 2\n",
      "\t  s: psd vars: 338253, ssize: 1\n",
      "settings: eps_abs: 1.0e-05, eps_rel: 1.0e-05, eps_infeas: 1.0e-07\n",
      "\t  alpha: 1.50, scale: 1.00e-01, adaptive_scale: 1\n",
      "\t  max_iters: 100000, normalize: 1, rho_x: 1.00e-06\n",
      "\t  acceleration_lookback: 10, acceleration_interval: 10\n",
      "lin-sys:  sparse-direct\n",
      "\t  nnz(A): 1616367, nnz(P): 0\n",
      "------------------------------------------------------------------\n",
      " iter | pri res | dua res |   gap   |   obj   |  scale  | time (s)\n",
      "------------------------------------------------------------------\n",
      "     0| 7.50e+02  1.61e+00  8.80e+02 -3.99e+02  1.00e-01  5.59e-01 \n",
      "   250| 5.15e-05  2.26e-05  7.30e-05  1.14e+01  1.94e+00  1.54e+02 \n",
      "   275| 1.12e-05  1.53e-05  3.88e-05  1.14e+01  1.94e+00  1.68e+02 \n",
      "------------------------------------------------------------------\n",
      "status:  solved\n",
      "timings: total: 1.70e+02s = setup: 1.07e+00s + solve: 1.69e+02s\n",
      "\t lin-sys: 4.50e+00s, cones: 1.61e+02s, accel: 3.14e-01s\n",
      "------------------------------------------------------------------\n",
      "objective = 11.409213\n",
      "------------------------------------------------------------------\n",
      "-------------------------------------------------------------------------------\n",
      "                                    Summary                                    \n",
      "-------------------------------------------------------------------------------\n",
      "(CVXPY) Apr 07 10:53:42 PM: Problem status: optimal\n",
      "(CVXPY) Apr 07 10:53:42 PM: Optimal value: 1.141e+01\n",
      "(CVXPY) Apr 07 10:53:42 PM: Compilation took 2.137e+00 seconds\n",
      "(CVXPY) Apr 07 10:53:42 PM: Solver (including time spent in interface) took 1.696e+02 seconds\n"
     ]
    },
    {
     "name": "stderr",
     "output_type": "stream",
     "text": [
      "5it [16:28, 192.70s/it]"
     ]
    },
    {
     "name": "stdout",
     "output_type": "stream",
     "text": [
      "===============================================================================\n",
      "                                     CVXPY                                     \n",
      "                                     v1.2.0                                    \n",
      "===============================================================================\n",
      "(CVXPY) Apr 07 10:53:42 PM: Your problem has 150152 variables, 1 constraints, and 2 parameters.\n",
      "(CVXPY) Apr 07 10:53:42 PM: It is compliant with the following grammars: DCP, DQCP\n",
      "(CVXPY) Apr 07 10:53:42 PM: CVXPY will first compile your problem; then, it will invoke a numerical solver to obtain a solution.\n",
      "-------------------------------------------------------------------------------\n",
      "                                  Compilation                                  \n",
      "-------------------------------------------------------------------------------\n",
      "(CVXPY) Apr 07 10:53:42 PM: Compiling problem (target solver=SCS).\n",
      "(CVXPY) Apr 07 10:53:42 PM: Reduction chain: Dcp2Cone -> CvxAttr2Constr -> ConeMatrixStuffing -> SCS\n",
      "(CVXPY) Apr 07 10:53:42 PM: Applying reduction Dcp2Cone\n",
      "(CVXPY) Apr 07 10:53:42 PM: Applying reduction CvxAttr2Constr\n",
      "(CVXPY) Apr 07 10:53:43 PM: Applying reduction ConeMatrixStuffing\n",
      "(CVXPY) Apr 07 10:53:44 PM: Applying reduction SCS\n",
      "(CVXPY) Apr 07 10:53:45 PM: Finished problem compilation (took 2.169e+00 seconds).\n",
      "(CVXPY) Apr 07 10:53:45 PM: (Subsequent compilations of this problem, using the same arguments, should take less time.)\n",
      "-------------------------------------------------------------------------------\n",
      "                                Numerical solver                               \n",
      "-------------------------------------------------------------------------------\n",
      "(CVXPY) Apr 07 10:53:45 PM: Invoking solver SCS  to obtain a solution.\n",
      "------------------------------------------------------------------\n",
      "\t       SCS v3.2.0 - Splitting Conic Solver\n",
      "\t(c) Brendan O'Donoghue, Stanford University, 2012\n",
      "------------------------------------------------------------------\n",
      "problem:  variables n: 338255, constraints m: 457130\n",
      "cones: \t  l: linear vars: 1\n",
      "\t  q: soc vars: 118876, qsize: 2\n",
      "\t  s: psd vars: 338253, ssize: 1\n",
      "settings: eps_abs: 1.0e-05, eps_rel: 1.0e-05, eps_infeas: 1.0e-07\n",
      "\t  alpha: 1.50, scale: 1.00e-01, adaptive_scale: 1\n",
      "\t  max_iters: 100000, normalize: 1, rho_x: 1.00e-06\n",
      "\t  acceleration_lookback: 10, acceleration_interval: 10\n",
      "lin-sys:  sparse-direct\n",
      "\t  nnz(A): 1654236, nnz(P): 0\n",
      "------------------------------------------------------------------\n",
      " iter | pri res | dua res |   gap   |   obj   |  scale  | time (s)\n",
      "------------------------------------------------------------------\n",
      "     0| 7.50e+02  1.99e+00  9.01e+02 -3.89e+02  1.00e-01  5.73e-01 \n",
      "   250| 1.52e-03  4.93e-06  7.93e-04  1.18e+01  4.32e-01  1.57e+02 \n",
      "   325| 5.33e-05  6.74e-06  8.65e-05  1.18e+01  4.32e-01  2.03e+02 \n",
      "------------------------------------------------------------------\n",
      "status:  solved\n",
      "timings: total: 2.04e+02s = setup: 1.10e+00s + solve: 2.03e+02s\n",
      "\t lin-sys: 5.45e+00s, cones: 1.94e+02s, accel: 4.54e-01s\n",
      "------------------------------------------------------------------\n",
      "objective = 11.753408\n",
      "------------------------------------------------------------------\n",
      "-------------------------------------------------------------------------------\n",
      "                                    Summary                                    \n",
      "-------------------------------------------------------------------------------\n",
      "(CVXPY) Apr 07 10:57:08 PM: Problem status: optimal\n",
      "(CVXPY) Apr 07 10:57:08 PM: Optimal value: 1.175e+01\n",
      "(CVXPY) Apr 07 10:57:08 PM: Compilation took 2.169e+00 seconds\n",
      "(CVXPY) Apr 07 10:57:08 PM: Solver (including time spent in interface) took 2.037e+02 seconds\n"
     ]
    },
    {
     "name": "stderr",
     "output_type": "stream",
     "text": [
      "6it [19:54, 199.14s/it]\n"
     ]
    }
   ],
   "source": [
    "#imp.reload(mat_sens)\n",
    "#Setup parameters\n",
    "lamb_,delta_ = cp.Parameter(nonneg=True),cp.Parameter(nonneg=True)\n",
    "pct_obs_ = [0.1,0.2,0.3,0.4,0.5,0.75] #Different levels of sensitivities already known to the utility\n",
    "results = []\n",
    "for i,pct_obs in tqdm(enumerate(pct_obs_)):\n",
    "    #S_tilde = make_S_tilde(np.mean(svp,axis=0),np.mean(svq,axis=0))\n",
    "    S_tilde = make_S_tilde(svp[0],svq[0])\n",
    "    O,S_0 = make_S_0(S_tilde,pct_obs)\n",
    "    lamb_.value,delta_.value = 1.25e-1,6e-2\n",
    "    #Solve problem\n",
    "    S_hat,prob = mat_sens.mat_rec_solution(S_0,dx,dv,lamb=lamb_,o=O,delta=delta_)\n",
    "    #Store results\n",
    "    results.append({\n",
    "        'pct_obs':pct_obs,\n",
    "        'S_hat':S_hat.value,\n",
    "        'prob':prob,\n",
    "        'rel_err':mat_sens.calc_rel_err(S_hat.value,S_tilde)*100\n",
    "    })"
   ]
  },
  {
   "cell_type": "code",
   "execution_count": 166,
   "id": "15c35e57-5acd-457b-bd94-2b72b278aa13",
   "metadata": {},
   "outputs": [
    {
     "data": {
      "text/plain": [
       "1.012055777146652"
      ]
     },
     "execution_count": 166,
     "metadata": {},
     "output_type": "execute_result"
    }
   ],
   "source": [
    "mat_sens.calc_rel_err(S_hat.value,S_tilde)*100"
   ]
  },
  {
   "cell_type": "code",
   "execution_count": null,
   "id": "b39bde70",
   "metadata": {},
   "outputs": [],
   "source": []
  },
  {
   "cell_type": "code",
   "execution_count": 164,
   "id": "95b3d1a0-afe2-4718-8a57-bb3e8afeae26",
   "metadata": {},
   "outputs": [
    {
     "data": {
      "text/plain": [
       "Text(0.5, 1.0, '75% Observable Sensitivty Matrix (IEEE 123-bus)')"
      ]
     },
     "execution_count": 164,
     "metadata": {},
     "output_type": "execute_result"
    },
    {
     "data": {
      "image/png": "[encoded data removed]",
      "text/plain": [
       "<Figure size 252x155.721 with 2 Axes>"
      ]
     },
     "metadata": {
      "needs_background": "light"
     },
     "output_type": "display_data"
    }
   ],
   "source": [
    "grid_kws = {\"height_ratios\": (.9, .05), \"hspace\": .1}\n",
    "fig,(ax,cbar_ax) = plt.subplots(2, gridspec_kw=grid_kws, figsize=(3.5,3.5/1.61828),constrained_layout=True)\n",
    "cmap = sns.diverging_palette(250, 30, l=65, center=\"dark\", as_cmap=True)\n",
    "ax = sns.heatmap(np.asarray(S_0),cmap=cmap,\n",
    "            center=0,square=True,mask=(np.asarray(S_0)==0),\n",
    "            xticklabels=False,yticklabels=False,ax=ax,\n",
    "            cbar_ax=cbar_ax,linewidths=1e-6,\n",
    "            cbar_kws={\"orientation\": \"horizontal\",\n",
    "                     \"label\":\"Voltage Sensitivity\",\n",
    "                     \"pad\":0.1},\n",
    "            rasterized=True)\n",
    "ax.set_title(\"{pct_obs:.0f}% Observable Sensitivty Matrix (IEEE 123-bus)\".format(pct_obs=pct_obs*100))"
   ]
  },
  {
   "cell_type": "code",
   "execution_count": null,
   "id": "75fa4352-a798-4abf-8179-13daa3d8b776",
   "metadata": {},
   "outputs": [],
   "source": []
  },
  {
   "cell_type": "code",
   "execution_count": null,
   "id": "e7b9c152-cc09-44c9-9e91-c5aa1f6283c6",
   "metadata": {},
   "outputs": [],
   "source": []
  },
  {
   "cell_type": "code",
   "execution_count": 356,
   "id": "3c23cf73-93fb-4205-b765-fe0ff61b7a03",
   "metadata": {
    "tags": []
   },
   "outputs": [
    {
     "name": "stderr",
     "output_type": "stream",
     "text": [
      "/tmp/ipykernel_935133/194154597.py:56: UserWarning: This figure includes Axes that are not compatible with tight_layout, so results might be incorrect.\n",
      "  fig.tight_layout(rect=[0, 0, .85, 1])\n"
     ]
    },
    {
     "data": {
      "image/png": "[encoded data removed]",
      "text/plain": [
       "<Figure size 252x155.721 with 5 Axes>"
      ]
     },
     "metadata": {
      "needs_background": "light"
     },
     "output_type": "display_data"
    }
   ],
   "source": [
    "#Subplots\n",
    "fig,axes = plt.subplots(nrows=2,ncols=2, \n",
    "                        figsize=(3.5,3.5/1.61828),\n",
    "                        #constrained_layout=True,\n",
    "                        sharex=True, sharey=True)\n",
    "\n",
    "#Colorbar axis and cmap\n",
    "cmap = sns.diverging_palette(145, 300, s=60, as_cmap=True)\n",
    "cbar_ax = fig.add_axes([.85, .2, .02, .5])\n",
    "cbar_ax.tick_params(labelsize=6,pad=0.5)\n",
    "cbar_ax.get_yaxis().labelpad = -1\n",
    "#cbar_ax.set_label(r\"$\\partial V_i \\big/ \\partial X_j$\",pad=-1)\n",
    "cbar_kws = {\n",
    "    'label':r\"$\\partial V_i \\big/ \\partial X_j$\",\n",
    "    'fraction':0.05,\n",
    "    'shrink':15,\n",
    "    'pad':-10}\n",
    "\n",
    "\n",
    "#First recovered matrix\n",
    "pct_obs = results[1]['pct_obs']\n",
    "rel_err = results[1]['rel_err']\n",
    "O,S_0 = make_S_0(S_tilde,pct_obs)\n",
    "#Include colorbar on first heatmap\n",
    "axes[0,0] = sns.heatmap(np.asarray(S_0),ax=axes[0,0],\n",
    "                        cmap=cmap,cbar=True,vmin=-0.1,vmax=0.2,\n",
    "                        cbar_ax=cbar_ax,cbar_kws=cbar_kws,\n",
    "                        square=True,xticklabels=False,yticklabels=False,\n",
    "                        mask=(np.asarray(S_0)==0),\n",
    "                       )\n",
    "                        \n",
    "axes[0,0].set_title(r\"{pct_obs:.0f}\\%\".format(pct_obs=pct_obs*100) + r\" Observable $\\tilde{\\mathbf{S}}_0$\",fontsize=7,pad=3)\n",
    "axes[1,0] = sns.heatmap(results[1]['S_hat'],ax=axes[1,0],\n",
    "                        cmap=cmap,cbar=False,vmin=-0.1,vmax=0.2,\n",
    "                        square=True,xticklabels=False,yticklabels=False)\n",
    "\n",
    "axes[1,0].set_title(r\"Est. $\\tilde{\\mathbf{S}}^{\\#}$,\"+\" Rel. Err={rel_err:.1f}\\%\".format(rel_err=rel_err),fontsize=7,pad=3)\n",
    "axes[1,0].set_xlabel(r\"\\ \\ \\ Active Inj. \\quad Reactive Inj.\",fontsize=7)\n",
    "\n",
    "#Second recovered matrix\n",
    "pct_obs = results[2]['pct_obs']\n",
    "rel_err = results[2]['rel_err']\n",
    "O,S_0 = make_S_0(S_tilde,pct_obs)\n",
    "axes[0,1] = sns.heatmap(np.asarray(S_0),mask=(np.asarray(S_0)==0),ax=axes[0,1],\n",
    "                        cmap=cmap,cbar=False,vmin=-0.1,vmax=0.2,\n",
    "                        square=True,xticklabels=False,yticklabels=False)\n",
    "axes[0,1].set_title(r\"{pct_obs:.0f}\\%\".format(pct_obs=pct_obs*100) + r\" Observable $\\tilde{\\mathbf{S}}_0$\",fontsize=7,pad=3)\n",
    "axes[1,1] = sns.heatmap(results[2]['S_hat'],ax=axes[1,1],\n",
    "                        cmap=cmap,cbar=False,vmin=-0.1,vmax=0.2,\n",
    "                        square=True,xticklabels=False,yticklabels=False)\n",
    "axes[1,1].set_title(r\"Est. $\\tilde{\\mathbf{S}}^{\\#}$,\"+\" Rel. Err={rel_err:.1f}\\%\".format(rel_err=rel_err),fontsize=7,pad=3)\n",
    "axes[1,1].set_xlabel(r\"\\ \\ \\ Active Inj. \\quad  Reactive Inj.\",fontsize=7)\n",
    "\n",
    "#Figure-level formatting\n",
    "plt.suptitle(r\"IEEE 123-Bus $\\tilde{\\mathbf{S}}$ Matrix Recovery, $\\alpha=0.9$\",fontsize=9)\n",
    "fig.tight_layout(rect=[0, 0, .85, 1])\n",
    "plt.savefig(\"/home/sam/github/PowerSensitivities.jl/figures/spring_22/IEE123_recovery_multi_lamb.125_delta.006.png\",dpi=400)"
   ]
  },
  {
   "cell_type": "code",
   "execution_count": null,
   "id": "12316aa9-5788-425a-93ee-40170178a8e7",
   "metadata": {},
   "outputs": [],
   "source": []
  },
  {
   "cell_type": "markdown",
   "id": "743e861e-e68a-4a89-80e1-fc7b0907bdab",
   "metadata": {},
   "source": [
    "### Compute the relative error time series (S matrix and voltage perturbations) for each observability level"
   ]
  },
  {
   "cell_type": "code",
   "execution_count": 172,
   "id": "9cb40e95-fc49-4372-972b-983fb5dcd31c",
   "metadata": {
    "tags": []
   },
   "outputs": [],
   "source": [
    "import utils\n",
    "for S_result in results:\n",
    "    pct_obs = S_result[\"pct_obs\"]\n",
    "    S_hat = S_result[\"S_hat\"]\n",
    "    v_rel_err,  S_rel_err = [],[]\n",
    "    for t,(dv_t,dx_t) in enumerate(zip(dv.T,dx.T)):\n",
    "        hat_dv_t = S_hat@dx_t\n",
    "        S_tilde = make_S_tilde(svp[t],svq[t])\n",
    "        S_rel_err.append(mat_sens.calc_rel_err(S_hat,S_tilde)*100)\n",
    "        v_rel_err.append(utils.calc_vector_rel_err(v_est=hat_dv_t,v_true=dv_t)*100)\n",
    "    S_result[\"S_rel_err\"] = S_rel_err\n",
    "    S_result[\"v_rel_err\"] = v_rel_err"
   ]
  },
  {
   "cell_type": "markdown",
   "id": "082a6716-d318-4e37-95ca-e92b1ef1d6c8",
   "metadata": {},
   "source": [
    "### Plot the relative error time series"
   ]
  },
  {
   "cell_type": "code",
   "execution_count": 310,
   "id": "cef2bdb2-821d-4050-8b71-a472c61fc13c",
   "metadata": {},
   "outputs": [
    {
     "data": {
      "image/png": "[encoded data removed]",
      "text/plain": [
       "<Figure size 252x155.721 with 2 Axes>"
      ]
     },
     "metadata": {
      "needs_background": "light"
     },
     "output_type": "display_data"
    }
   ],
   "source": [
    "fig,axes = plt.subplots(ncols=2,figsize=(3.5,3.5/1.61828),\n",
    "                        #constrained_layout=True,\n",
    "                        sharex=True,sharey=False)\n",
    "for S_result in results:\n",
    "    pct_obs = S_result['pct_obs']\n",
    "    if(pct_obs==0.01):\n",
    "        continue\n",
    "    v_rel_err,S_rel_err = S_result['v_rel_err'],S_result['S_rel_err']\n",
    "    #Voltage relative error\n",
    "    axes[0].plot(v_rel_err,'--o',label=str(pct_obs*100),alpha=0.5,markersize=0.8)\n",
    "    #Sensitivity Matrix Relative Error\n",
    "    axes[1].plot(S_rel_err,'--o',#label=str(pct_obs*100),\n",
    "                 alpha=0.5,markersize=0.8)\n",
    "    \n",
    "#Voltage timeseries plot formatting\n",
    "axes[0].set_title(r\"$\\frac{\\| \\Delta \\hat{\\boldsymbol{v}}_t - \\Delta \\boldsymbol{v}_t\\|}{\\| \\Delta \\boldsymbol{v}_t \\|} \\times 100$\")\n",
    "axes[0].set_xlabel(r\"Time $t \\times 15$m\")\n",
    "axes[0].set_ylabel(\"Relative Error (\\%)\")\n",
    "\n",
    "#S matrix plot formatting\n",
    "axes[1].set_title(r\" $\\frac{ \\| \\tilde{\\mathbf{S}}_t - \\tilde{\\mathbf{S}}^{\\#} \\|}{\\| \\tilde{\\mathbf{S}}_t \\|} \\times 100 $\")\n",
    "axes[1].set_xlabel(r\"Time $t \\times 15$m\")\n",
    "\n",
    "#Legend\n",
    "fig.legend(fancybox=True,\n",
    "           ncol=6,borderpad=0.25,labelspacing=1e-3,columnspacing=1.25,\n",
    "           loc='lower center',borderaxespad=0.01,\n",
    "           title=r\"\\% of $\\tilde{\\mathbf{S}}$ Known Beforehand\",\n",
    "           fontsize=7,title_fontsize=7)\n",
    "plt.tight_layout()\n",
    "plt.subplots_adjust(bottom=0.3)\n",
    "plt.savefig(\"/home/sam/github/PowerSensitivities.jl/figures/spring_22/rel_errs_ieee123.png\",dpi=400)"
   ]
  },
  {
   "cell_type": "code",
   "execution_count": null,
   "id": "3d0aaa9c-563c-4629-a90f-1cf1aba1e132",
   "metadata": {},
   "outputs": [],
   "source": []
  },
  {
   "cell_type": "code",
   "execution_count": null,
   "id": "93660927-2cda-453e-9987-5657e0b47413",
   "metadata": {},
   "outputs": [],
   "source": []
  },
  {
   "cell_type": "code",
   "execution_count": 108,
   "id": "23de47a0-840a-4acc-9023-75a6b5965241",
   "metadata": {},
   "outputs": [
    {
     "data": {
      "text/plain": [
       "7.616903027819162"
      ]
     },
     "execution_count": 108,
     "metadata": {},
     "output_type": "execute_result"
    }
   ],
   "source": [
    "S_rel_err[0]"
   ]
  },
  {
   "cell_type": "code",
   "execution_count": 374,
   "id": "3c2c273d-424d-471a-b555-e5fd81abb11a",
   "metadata": {},
   "outputs": [
    {
     "data": {
      "image/png": "[encoded data removed]",
      "text/plain": [
       "<Figure size 252x155.721 with 2 Axes>"
      ]
     },
     "metadata": {
      "needs_background": "light"
     },
     "output_type": "display_data"
    }
   ],
   "source": [
    "grid_kws = {\"height_ratios\": (.9, .05), \"hspace\": .1}\n",
    "fig,(ax,cbar_ax) = plt.subplots(2, gridspec_kw=grid_kws, figsize=(3.5,3.5/1.61828),constrained_layout=True)\n",
    "cmap = sns.diverging_palette(250, 30, l=65, center=\"dark\", as_cmap=True)\n",
    "ax = sns.heatmap(np.asarray(S_hat),cmap=cmap,\n",
    "            center=0,square=True,mask=(np.asarray(S_hat)==0),\n",
    "            xticklabels=False,yticklabels=False,ax=ax,\n",
    "            cbar_ax=cbar_ax,linewidths=1e-6,\n",
    "            cbar_kws={\"orientation\": \"horizontal\",\n",
    "                     \"label\":\"Voltage Sensitivity\",\n",
    "                     \"pad\":0.1},\n",
    "            rasterized=True)"
   ]
  },
  {
   "cell_type": "markdown",
   "id": "c512f7c1-3a9f-4c26-8e55-55c226ce3154",
   "metadata": {},
   "source": [
    "### Plot the Spectral Analysis for the IEEE 123 Test Feeder"
   ]
  },
  {
   "cell_type": "code",
   "execution_count": 100,
   "id": "c0e6002b-b866-4109-997d-8111b2393029",
   "metadata": {},
   "outputs": [],
   "source": [
    "cum_sigma,normed_sigma = spectral_analysis(S_tilde)"
   ]
  },
  {
   "cell_type": "code",
   "execution_count": 102,
   "id": "b08a1df9-3ffa-4272-b280-72b3a63a584a",
   "metadata": {},
   "outputs": [
    {
     "data": {
      "text/plain": [
       "[<matplotlib.lines.Line2D at 0x7f09b1b4cc70>]"
      ]
     },
     "execution_count": 102,
     "metadata": {},
     "output_type": "execute_result"
    },
    {
     "data": {
      "image/png": "[encoded data removed]",
      "text/plain": [
       "<Figure size 432x288 with 1 Axes>"
      ]
     },
     "metadata": {
      "needs_background": "light"
     },
     "output_type": "display_data"
    }
   ],
   "source": [
    "plt.plot(cum_sigma)\n",
    "plt.plot(normed_sigma)"
   ]
  },
  {
   "cell_type": "markdown",
   "id": "615fb319-fe09-4c16-94b1-1bc8208e183c",
   "metadata": {},
   "source": [
    "## 2. Synthetic demands, fixed power factor "
   ]
  },
  {
   "cell_type": "code",
   "execution_count": null,
   "id": "70acef99-43b5-49a4-90d0-5a8c9d74a482",
   "metadata": {},
   "outputs": [],
   "source": [
    "path = \"/home/sam/github/PowerSensitivities.jl/data/ieee123_ts/Synthetic_DB_fixedPF/\"\n",
    "os.chdir(path)\n",
    "files = \"dvdp.pkl\",\"dvdq.pkl\",'Pnet.pkl','Qnet.pkl','Volts.pkl'\n",
    "dvdp,dvdq,p,q,v = [pd.read_pickle(f).values for f in files]\n",
    "svp,svq = make_sens_ts(dvdp,dvdq)"
   ]
  },
  {
   "cell_type": "markdown",
   "id": "2520a379-7e2f-402a-8fd7-695225ee95b6",
   "metadata": {},
   "source": [
    "## 3. Synthetic demands, varying power factor"
   ]
  },
  {
   "cell_type": "code",
   "execution_count": null,
   "id": "7423f6b3-9dfa-4c13-842c-b25ca50ee942",
   "metadata": {},
   "outputs": [],
   "source": [
    "path = \"/home/sam/github/PowerSensitivities.jl/data/ieee123_ts/Synthetic_DB/\"\n",
    "os.chdir(path)\n",
    "files = \"dvdp.pkl\",\"dvdq.pkl\",'Pnet.pkl','Qnet.pkl','Volts.pkl'\n",
    "dvdp,dvdq,p,q,v = [pd.read_pickle(f).values for f in files]\n",
    "svp,svq = make_sens_ts(dvdp,dvdq)"
   ]
  }
 ],
 "metadata": {
  "kernelspec": {
   "display_name": "Python 3 (ipykernel)",
   "language": "python",
   "name": "python3"
  },
  "language_info": {
   "codemirror_mode": {
    "name": "ipython",
    "version": 3
   },
   "file_extension": ".py",
   "mimetype": "text/x-python",
   "name": "python",
   "nbconvert_exporter": "python",
   "pygments_lexer": "ipython3",
   "version": "3.9.7"
  }
 },
 "nbformat": 4,
 "nbformat_minor": 5
}
