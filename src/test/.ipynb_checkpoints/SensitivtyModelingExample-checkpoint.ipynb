{
 "cells": [
  {
   "cell_type": "code",
   "execution_count": 8,
   "metadata": {},
   "outputs": [],
   "source": [
    "import os\n",
    "import jax.numpy as jnp\n",
    "from jax import jit,grad,vmap\n",
    "import pandas as pd"
   ]
  },
  {
   "cell_type": "code",
   "execution_count": 7,
   "metadata": {},
   "outputs": [],
   "source": [
    "dvdp = \"/home/sam/github/PowerSensitivities.jl/data/VoltageSensitivities/VoltageSensitivity_P.pkl\"\n",
    "dvdq = \"/home/sam/github/PowerSensitivities.jl/data/VoltageSensitivities/VoltageSensitivity_Q.pkl\"\n",
    "P = \"/home/sam/github/PowerSensitivities.jl/data/VoltageSensitivities/HourlyDemands100.xlsx\"\n",
    "V = \"/home/sam/github/PowerSensitivities.jl/data/VoltageSensitivities/voltageProfile.pkl\"\n",
    "dvdp = pd.read_pickle(dvdp).values\n",
    "dvdq = pd.read_pickle(dvdq).values\n",
    "P = pd.read_excel(P).values\n",
    "V = pd.read_pickle(V).values.T"
   ]
  },
  {
   "cell_type": "markdown",
   "metadata": {},
   "source": [
    "# Modeling Complex Power Injections in the IEEE 123-Bus Case using Voltage Sensitivities\n",
    "\n",
    "## 1. Hourly Varying Demand, Fixed Power Factor\n",
    "A constant power factor of $\\alpha_i = 0.9, i = 1,\\dots,n$ is applied to all loads."
   ]
  },
  {
   "cell_type": "code",
   "execution_count": 10,
   "metadata": {},
   "outputs": [],
   "source": [
    "path = \"/home/sam/github/PowerSensitivities.jl/data/ieee123_ts/HourlyDemand_DB_fixedPF/\"\n",
    "os.chdir(path)\n",
    "files = \"dvdp.pkl\",\"dvdq.pkl\",'Pnet.pkl','Qnet.pkl','Volts.pkl'\n",
    "dvdp,dvdq,p,q,v = [pd.read_pickle(f).values for f in files]"
   ]
  },
  {
   "cell_type": "code",
   "execution_count": null,
   "metadata": {},
   "outputs": [],
   "source": []
  },
  {
   "cell_type": "markdown",
   "metadata": {},
   "source": [
    "## 2. Synthetic demands, fixed power factor "
   ]
  },
  {
   "cell_type": "code",
   "execution_count": null,
   "metadata": {},
   "outputs": [],
   "source": [
    "path = \"/home/sam/github/PowerSensitivities.jl/data/ieee123_ts/Synthetic_DB_fixedPF/\"\n",
    "os.chdir(path)\n",
    "files = \"dvdp.pkl\",\"dvdq.pkl\",'Pnet.pkl','Qnet.pkl','Volts.pkl'\n",
    "dvdp,dvdq,p,q,v = [pd.read_pickle(f).values for f in files]"
   ]
  },
  {
   "cell_type": "markdown",
   "metadata": {},
   "source": [
    "## 3. Synthetic demands, varying power factor"
   ]
  },
  {
   "cell_type": "code",
   "execution_count": null,
   "metadata": {},
   "outputs": [],
   "source": [
    "path = \"/home/sam/github/PowerSensitivities.jl/data/ieee123_ts/Synthetic_DB/\"\n",
    "os.chdir(path)\n",
    "files = \"dvdp.pkl\",\"dvdq.pkl\",'Pnet.pkl','Qnet.pkl','Volts.pkl'\n",
    "dvdp,dvdq,p,q,v = [pd.read_pickle(f).values for f in files]"
   ]
  },
  {
   "cell_type": "code",
   "execution_count": 3,
   "metadata": {},
   "outputs": [],
   "source": [
    "path = \"/home/sam/github/PowerSensitivities.jl/data/ieee123_ts\""
   ]
  },
  {
   "cell_type": "code",
   "execution_count": 3,
   "metadata": {},
   "outputs": [
    {
     "data": {
      "text/plain": [
       "(48, 274)"
      ]
     },
     "execution_count": 3,
     "metadata": {},
     "output_type": "execute_result"
    }
   ],
   "source": [
    "V.shape"
   ]
  },
  {
   "cell_type": "code",
   "execution_count": 5,
   "metadata": {},
   "outputs": [
    {
     "data": {
      "text/plain": [
       "(24, 101)"
      ]
     },
     "execution_count": 5,
     "metadata": {},
     "output_type": "execute_result"
    }
   ],
   "source": [
    "def convert_q(P,pf=0.9):\n",
    "    "
   ]
  },
  {
   "cell_type": "code",
   "execution_count": 13,
   "metadata": {},
   "outputs": [
    {
     "data": {
      "text/plain": [
       "48.0"
      ]
     },
     "execution_count": 13,
     "metadata": {},
     "output_type": "execute_result"
    }
   ],
   "source": [
    "N = 274\n",
    "M = 13152/N\n",
    "SPV,SQV = [],[] #SPV and SQV timeseries\n",
    "for t in range(M):\n",
    "    spv_t = "
   ]
  },
  {
   "cell_type": "code",
   "execution_count": null,
   "metadata": {},
   "outputs": [],
   "source": []
  }
 ],
 "metadata": {
  "interpreter": {
   "hash": "e8df16b965d1ffcf685169c56f02fdfc9ba4b29e3b06f13047cdbdd63c9fcb12"
  },
  "kernelspec": {
   "display_name": "Python 3 (ipykernel)",
   "language": "python",
   "name": "python3"
  },
  "language_info": {
   "codemirror_mode": {
    "name": "ipython",
    "version": 3
   },
   "file_extension": ".py",
   "mimetype": "text/x-python",
   "name": "python",
   "nbconvert_exporter": "python",
   "pygments_lexer": "ipython3",
   "version": "3.9.7"
  }
 },
 "nbformat": 4,
 "nbformat_minor": 4
}
