{
 "cells": [
  {
   "cell_type": "code",
   "execution_count": 2,
   "metadata": {},
   "outputs": [],
   "source": [
    "import numpy as np\n",
    "import pandas as pd"
   ]
  },
  {
   "cell_type": "code",
   "execution_count": 3,
   "metadata": {},
   "outputs": [],
   "source": [
    "dvdp = \"/home/sam/github/PowerSensitivities.jl/data/VoltageSensitivities/VoltageSensitivity_P.pkl\"\n",
    "dvdq = \"/home/sam/github/PowerSensitivities.jl/data/VoltageSensitivities/VoltageSensitivity_Q.pkl\"\n",
    "dvdp = pd.read_pickle(dvdp)\n",
    "dvdq = pd.read_pickle(dvdq)"
   ]
  },
  {
   "cell_type": "code",
   "execution_count": 8,
   "metadata": {},
   "outputs": [],
   "source": [
    "import pickle\n",
    "objects = []\n",
    "file_name = \"/home/sam/github/PowerSensitivities.jl/data/VoltageSensitivities/VoltageSensitivity_P.pkl\"\n",
    "\n",
    "with (open(file_name, \"rb\")) as f:\n",
    "    while True:\n",
    "        try:\n",
    "            objects.append(pickle.load(f))\n",
    "        except EOFError:\n",
    "            break\n"
   ]
  },
  {
   "cell_type": "code",
   "execution_count": 14,
   "metadata": {},
   "outputs": [
    {
     "name": "stdout",
     "output_type": "stream",
     "text": [
      "Index(['150.1', '150.2', '150.3', '150r.1', '150r.2', '150r.3', '149.1',\n",
      "       '149.2', '149.3', '1.1',\n",
      "       ...\n",
      "       '160.2', '160.3', '61s.1', '61s.2', '61s.3', '610.1', '610.2', '610.3',\n",
      "       '150.1', '150.2'],\n",
      "      dtype='object', length=276)\n"
     ]
    }
   ],
   "source": [
    "print(objects[0].index[0:276])"
   ]
  },
  {
   "cell_type": "code",
   "execution_count": null,
   "metadata": {},
   "outputs": [],
   "source": []
  }
 ],
 "metadata": {
  "interpreter": {
   "hash": "e8df16b965d1ffcf685169c56f02fdfc9ba4b29e3b06f13047cdbdd63c9fcb12"
  },
  "kernelspec": {
   "display_name": "Python 3.9.7 ('mohca')",
   "language": "python",
   "name": "python3"
  },
  "language_info": {
   "codemirror_mode": {
    "name": "ipython",
    "version": 3
   },
   "file_extension": ".py",
   "mimetype": "text/x-python",
   "name": "python",
   "nbconvert_exporter": "python",
   "pygments_lexer": "ipython3",
   "version": "3.9.7"
  },
  "orig_nbformat": 4
 },
 "nbformat": 4,
 "nbformat_minor": 2
}
