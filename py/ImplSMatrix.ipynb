{
 "cells": [
  {
   "cell_type": "code",
   "execution_count": 6,
   "id": "9779cc9d-c6a1-4e91-9dd0-1e0000bfb2df",
   "metadata": {
    "tags": []
   },
   "outputs": [],
   "source": [
    "import os\n",
    "import imp\n",
    "import seaborn as sns\n",
    "import matplotlib.pyplot as plt\n",
    "import matplotlib\n",
    "import pandas as pd\n",
    "import numpy as np\n",
    "import cvxpy as cp\n",
    "from tqdm import tqdm\n",
    "import opendssdirect as dss\n",
    "from utils import spectral_analysis\n",
    "from measurements import constrained_linear_measurement_operator\n",
    "import matrix_sensitivities as mat_sens"
   ]
  },
  {
   "cell_type": "code",
   "execution_count": 3,
   "id": "a6d4e403-a47c-4f6a-a6c3-ef82d1e6b251",
   "metadata": {
    "tags": []
   },
   "outputs": [],
   "source": [
    "sns.set_context(\"paper\")\n",
    "plt.style.use(\"bmh\")\n",
    "matplotlib.rc('text', usetex=True)\n",
    "matplotlib.rc('text.latex', preamble=r'\\usepackage{amsmath,amssymb}')\n",
    "matplotlib.rcParams['font.size'] = 9\n",
    "matplotlib.rcParams['legend.fontsize'] = 7\n",
    "matplotlib.rcParams['lines.linewidth'] = 1"
   ]
  },
  {
   "cell_type": "markdown",
   "id": "7d69e18b-c9d7-4225-9c86-6f1b72913524",
   "metadata": {},
   "source": [
    "## Data Management"
   ]
  },
  {
   "cell_type": "code",
   "execution_count": 4,
   "id": "2901596f-cdf1-4bb7-9fd5-c421aa754c50",
   "metadata": {
    "jupyter": {
     "source_hidden": true
    },
    "tags": []
   },
   "outputs": [],
   "source": [
    "def make_sens_ts(dvdp,dvdq,n=274):\n",
    "    \"\"\"Make timeseries of sensitivity matrices\"\"\"\n",
    "    assert dvdp.shape[0] == dvdq.shape[0]\n",
    "    m_tot = dvdp.shape[0] #total measurments\n",
    "    m = int(m_tot/n) #Timeseries interval\n",
    "    svp,svq = [],[] #timeseries list of svp and svq matrices\n",
    "    for t in range(m):\n",
    "        svp.append(dvdp[t*n:(t+1)*n,:])\n",
    "        svq.append(dvdq[t*n:(t+1)*n,:])\n",
    "    return {'svp':svp,\n",
    "            'svq':svq}\n",
    "\n",
    "def make_deviations(data):\n",
    "    \"\"\"Make finite differences\"\"\"\n",
    "    p,q,v = data\n",
    "    (dp,dq,dv) = [np.diff(x) for x in (p,q,v)]\n",
    "    dx = np.vstack((dp,dq))\n",
    "    return (dx,dv)\n",
    "\n",
    "def make_S_tilde(svp,svq):\n",
    "    \"\"\"Make wide S_tilde matrix\"\"\"\n",
    "    return np.vstack((svp.T,svq.T)).T\n",
    "\n",
    "def make_S_0(S_tilde,pct_obs):\n",
    "    \"\"\"Make initial observed matrix\"\"\"\n",
    "    O,_ = constrained_linear_measurement_operator(S_tilde,pct_obs)\n",
    "    O,S_0 = np.asarray(O),np.multiply(np.asarray(O),S_tilde)\n",
    "    return O,S_0"
   ]
  },
  {
   "cell_type": "code",
   "execution_count": 5,
   "id": "4ab3ef27-d089-4b1d-b288-3a8ee9695302",
   "metadata": {
    "tags": []
   },
   "outputs": [
    {
     "name": "stdout",
     "output_type": "stream",
     "text": [
      "(274, 274) (274, 274) (548, 23) (274, 23)\n"
     ]
    }
   ],
   "source": [
    "path = \"/home/sam/github/PowerSensitivities.jl/data/ieee123_ts/HourlyDemand_DB_fixedPF/\"\n",
    "os.chdir(path)\n",
    "files = \"dvdp.pkl\",\"dvdq.pkl\",'Pnet.pkl','Qnet.pkl','Volts.pkl'\n",
    "dvdp,dvdq,p,q,v = [pd.read_pickle(f).values for f in files]\n",
    "sens = make_sens_ts(dvdp,dvdq)\n",
    "data = make_deviations((p,q,v))\n",
    "(dx,dv) = data\n",
    "svp,svq = sens['svp'],sens['svq']\n",
    "print(svp[0].shape,svq[0].shape,dx.shape,dv.shape)"
   ]
  },
  {
   "cell_type": "code",
   "execution_count": null,
   "id": "45cd265e-cb09-437b-9e3b-33e13d5e6b13",
   "metadata": {},
   "outputs": [],
   "source": [
    "imp.reload(mat_sens)\n",
    "pf = 0.9*np.ones(S_tilde.shape[0])\n",
    "K = mat_sens.K(pf)\n",
    "sqv_impl = [svq_t@K for svq_t in svq]\n",
    "pct_obs = 0.2\n",
    "S_tilde = make_S_tilde(svp[0],svq[0])\n",
    "O,S_0 = make_S_0(S_tilde,pct_obs)\n"
   ]
  },
  {
   "cell_type": "code",
   "execution_count": null,
   "id": "8a2fc772-9ecc-4556-bd3c-3747c57c5e47",
   "metadata": {},
   "outputs": [],
   "source": [
    "imp.reload(mat_sens)\n",
    "lambd_,delta1_,delta2_ = cp.Parameter(),cp.Parameter(),cp.Parameter()\n",
    "lamb_.value,delta1_.value,delta2_.value = 1.25e-1,6e-2,8e-2\n",
    "prob = mat_sens.mat_rec_problem_implicit("
   ]
  }
 ],
 "metadata": {
  "kernelspec": {
   "display_name": "Python 3 (ipykernel)",
   "language": "python",
   "name": "python3"
  },
  "language_info": {
   "codemirror_mode": {
    "name": "ipython",
    "version": 3
   },
   "file_extension": ".py",
   "mimetype": "text/x-python",
   "name": "python",
   "nbconvert_exporter": "python",
   "pygments_lexer": "ipython3",
   "version": "3.9.7"
  }
 },
 "nbformat": 4,
 "nbformat_minor": 5
}
