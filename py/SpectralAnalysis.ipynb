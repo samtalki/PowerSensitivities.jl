{
 "cells": [
  {
   "cell_type": "code",
   "execution_count": 8,
   "id": "500a1db8-d31a-43dd-a157-76f8d9ec5fe5",
   "metadata": {
    "tags": []
   },
   "outputs": [],
   "source": [
    "import opendssdirect as dss\n",
    "import seaborn as sns\n",
    "import matplotlib.pyplot as plt\n",
    "import matplotlib\n",
    "import numpy as np\n",
    "from utils import spectral_analysis,make_sens_ts,make_deviations"
   ]
  },
  {
   "cell_type": "markdown",
   "id": "5d57e57b-7561-44fc-b80e-463b16f74e7b",
   "metadata": {},
   "source": [
    "### Plot the Spectral Analysis for the IEEE 123 Test Feeder"
   ]
  },
  {
   "cell_type": "code",
   "execution_count": 100,
   "id": "dea429a6-fe66-4689-bdd7-3e2a902f4e98",
   "metadata": {},
   "outputs": [],
   "source": [
    "cum_sigma,normed_sigma = spectral_analysis(S_tilde)"
   ]
  },
  {
   "cell_type": "code",
   "execution_count": 102,
   "id": "de9250d8-399a-4b42-b900-2b09e1febf8c",
   "metadata": {},
   "outputs": [
    {
     "data": {
      "text/plain": [
       "[<matplotlib.lines.Line2D at 0x7f09b1b4cc70>]"
      ]
     },
     "execution_count": 102,
     "metadata": {},
     "output_type": "execute_result"
    },
    {
     "data": {
      "image/png": "[encoded data removed]",
      "text/plain": [
       "<Figure size 432x288 with 1 Axes>"
      ]
     },
     "metadata": {
      "needs_background": "light"
     },
     "output_type": "display_data"
    }
   ],
   "source": [
    "plt.plot(cum_sigma)\n",
    "plt.plot(normed_sigma)"
   ]
  },
  {
   "cell_type": "code",
   "execution_count": 5,
   "id": "31effbad-8ea7-4871-83b4-a7f4f5323400",
   "metadata": {
    "tags": []
   },
   "outputs": [],
   "source": [
    "sns.set_context(\"paper\")\n",
    "plt.style.use(\"bmh\")\n",
    "matplotlib.rc('text', usetex=True)\n",
    "matplotlib.rc('text.latex', preamble=r'\\usepackage{amsmath,amssymb}')\n",
    "matplotlib.rcParams['font.size'] = 9\n",
    "matplotlib.rcParams['legend.fontsize'] = 7\n",
    "matplotlib.rcParams['lines.linewidth'] = 1"
   ]
  },
  {
   "cell_type": "code",
   "execution_count": 16,
   "id": "ae81fccc-337c-4307-814b-1471d65b8d2a",
   "metadata": {},
   "outputs": [
    {
     "data": {
      "text/plain": [
       "''"
      ]
     },
     "execution_count": 16,
     "metadata": {},
     "output_type": "execute_result"
    }
   ],
   "source": [
    "path = \"/home/sam/github/PowerSensitivities.jl/data/ieee123_ts/123Bus/IEEE123Master.dss\"\n",
    "dss.run_command(\"compile \"+path)"
   ]
  },
  {
   "cell_type": "code",
   "execution_count": null,
   "id": "b9769fb0-f477-4b65-a93c-cb5abd63b210",
   "metadata": {},
   "outputs": [],
   "source": []
  },
  {
   "cell_type": "code",
   "execution_count": 22,
   "id": "06775805-92ab-4e53-89ce-df1b2101fc94",
   "metadata": {},
   "outputs": [
    {
     "ename": "NameError",
     "evalue": "name 'submatrices' is not defined",
     "output_type": "error",
     "traceback": [
      "\u001b[0;31m---------------------------------------------------------------------------\u001b[0m",
      "\u001b[0;31mNameError\u001b[0m                                 Traceback (most recent call last)",
      "Input \u001b[0;32mIn [22]\u001b[0m, in \u001b[0;36m<cell line: 11>\u001b[0;34m()\u001b[0m\n\u001b[1;32m      9\u001b[0m styles \u001b[38;5;241m=\u001b[39m [\u001b[38;5;124m'\u001b[39m\u001b[38;5;124mo\u001b[39m\u001b[38;5;124m'\u001b[39m,\u001b[38;5;124m'\u001b[39m\u001b[38;5;124ms\u001b[39m\u001b[38;5;124m'\u001b[39m]\n\u001b[1;32m     10\u001b[0m \u001b[38;5;66;03m#Spectral analysis by phase and injection typeobservabilityobservability\u001b[39;00m\n\u001b[0;32m---> 11\u001b[0m \u001b[38;5;28;01mfor\u001b[39;00m i,(inj_type,phase_submatrices) \u001b[38;5;129;01min\u001b[39;00m \u001b[38;5;28menumerate\u001b[39m(\u001b[43msubmatrices\u001b[49m\u001b[38;5;241m.\u001b[39mitems()):\n\u001b[1;32m     12\u001b[0m     \u001b[38;5;28;01mfor\u001b[39;00m j,(phase,submatrix) \u001b[38;5;129;01min\u001b[39;00m \u001b[38;5;28menumerate\u001b[39m(phase_submatrices\u001b[38;5;241m.\u001b[39mitems()):\n\u001b[1;32m     13\u001b[0m         cum_sigma,normed_sigma \u001b[38;5;241m=\u001b[39m matcom\u001b[38;5;241m.\u001b[39mspectral_analysis(submatrix)\n",
      "\u001b[0;31mNameError\u001b[0m: name 'submatrices' is not defined"
     ]
    },
    {
     "data": {
      "image/png": "[encoded data removed]",
      "text/plain": [
       "<Figure size 504x116.791 with 6 Axes>"
      ]
     },
     "metadata": {
      "needs_background": "light"
     },
     "output_type": "display_data"
    }
   ],
   "source": [
    "fig,axes = plt.subplots(nrows=2,ncols=3,figsize=(2*3.5,0.75*(3.5/1.61828)),constrained_layout=True,sharex=True,sharey=True)\n",
    "axes[1,0].set_xlabel(\"Singular Value\",fontsize=7,labelpad=0.25)\n",
    "axes[1,1].set_xlabel(\"Singular Value\",fontsize=7,labelpad=0.25)\n",
    "axes[1,2].set_xlabel(\"Singular Value\",fontsize=7,labelpad=0.25)\n",
    "axes[0,0].set_ylabel(\"Value\",fontsize=7,labelpad=0.25)\n",
    "axes[1,0].set_ylabel(\"Value\",fontsize=7,labelpad=0.25)\n",
    "\n",
    "colors = ['crimson','teal','goldenrod']\n",
    "styles = ['o','s']\n",
    "#Spectral analysis by phase and injection typeobservabilityobservability\n",
    "for i,(inj_type,phase_submatrices) in enumerate(submatrices.items()):\n",
    "    for j,(phase,submatrix) in enumerate(phase_submatrices.items()):\n",
    "        cum_sigma,normed_sigma = matcom.spectral_analysis(submatrix)\n",
    "        singular_value_ixs = [i for i in range(len(cum_sigma))]\n",
    "        #Plot styling\n",
    "        style = styles[i]\n",
    "        color= colors[j]\n",
    "        axes[i,j].plot(singular_value_ixs,cum_sigma,':',marker=style,markersize=2,alpha=0.6,color=color,label='Cumulative Normalized',rasterized=True)\n",
    "        axes[i,j].plot(singular_value_ixs,normed_sigma,'-',marker=style,markersize=2,alpha=0.6,color=color,label='Normalized',rasterized=True)\n",
    "        axes[i,j].fill_between(singular_value_ixs, normed_sigma,alpha=0.25,rasterized=True)\n",
    "        axes[i,j].fill_between(singular_value_ixs, cum_sigma,alpha=0.15,rasterized=True)\n",
    "        axes[i,j].set_title(inj_type + ' Sensitivities: ' +'Phase '+phase,fontsize=7)\n",
    "        #axes[i,j].semargins(x=0.25,y=0.25)\n",
    "        #axes[i,j].grid()\n",
    "       # axes[i,j].ticks_on()\n",
    "        axes[i,j].tick_params(axis='both',which='major',pad=0.8)\n",
    "        axes[i,j].minorticks_on()\n",
    "        axes[i,j].legend(fontsize=5,frameon=False)\n",
    "#plt.savefig(\"/home/sam/github/jacobian_discovery/Figures/phase_spectral_r4.pdf\",dpi=400)"
   ]
  },
  {
   "cell_type": "code",
   "execution_count": null,
   "id": "1b341708-7a27-4093-a11a-63dc11f9e912",
   "metadata": {},
   "outputs": [],
   "source": []
  }
 ],
 "metadata": {
  "kernelspec": {
   "display_name": "Python 3 (ipykernel)",
   "language": "python",
   "name": "python3"
  },
  "language_info": {
   "codemirror_mode": {
    "name": "ipython",
    "version": 3
   },
   "file_extension": ".py",
   "mimetype": "text/x-python",
   "name": "python",
   "nbconvert_exporter": "python",
   "pygments_lexer": "ipython3",
   "version": "3.9.7"
  }
 },
 "nbformat": 4,
 "nbformat_minor": 5
}
