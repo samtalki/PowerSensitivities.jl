{
 "cells": [
  {
   "cell_type": "code",
   "execution_count": 136,
   "metadata": {},
   "outputs": [],
   "source": [
    "import os\n",
    "import pandas as pd\n",
    "\n",
    "import seaborn as sns\n",
    "import matplotlib.pyplot as plt\n",
    "import matplotlib as mpl\n",
    "\n",
    "import numpy as onp\n",
    "import jax\n",
    "import jax.numpy as jnp\n",
    "from jax import jit,grad,vmap\n",
    "\n",
    "from jaxopt import ProximalGradient\n",
    "from jaxopt.prox import prox_lasso\n",
    "\n",
    "from measurements import constrained_linear_measurement_operator"
   ]
  },
  {
   "cell_type": "code",
   "execution_count": 12,
   "metadata": {},
   "outputs": [],
   "source": [
    "@jit\n",
    "def mat_com_loss(S,S_0,lamb):\n",
    "    \"\"\"Matrix Completion loss function with nuclear norm regularization\"\"\"\n",
    "    @jit\n",
    "    def squared_loss(S,S_0):\n",
    "        \"\"\"Least squares matrix completion loss\"\"\"\n",
    "        return jnp.linalg.norm(S_0 - S)**2\n",
    "    @jit\n",
    "    def nuc_norm_reg(S,lamb):\n",
    "        \"\"\"Nuclear norm reguarlizer\"\"\"\n",
    "        return lamb*jnp.linalg.norm(S,ord=\"nuc\")\n",
    "    return squared_loss(S,S_0) + nuc_norm_reg(S,lamb)\n"
   ]
  },
  {
   "cell_type": "markdown",
   "metadata": {},
   "source": [
    "# Matrix Recovery Algorithm"
   ]
  },
  {
   "cell_type": "code",
   "execution_count": 117,
   "metadata": {},
   "outputs": [],
   "source": [
    "\n",
    "def mat_rec_loss(S,dx,dv,o,S_0,alpha,delta,lamb):\n",
    "    \"\"\"\n",
    "    Matrix recovery loss function with nuclear norm regularization\n",
    "    Params:\n",
    "        S: decision matrix\n",
    "        dx: complex power perturbations\n",
    "        dv: voltage magnitude perturbations\n",
    "        o: measurement operator matrix\n",
    "        S_0: optional \"warm start\" partially filled decision matrix\n",
    "        alpha: penalty for obedience of known sensitivities\n",
    "    \"\"\"\n",
    "    #print(S.shape,dx.shape,dv.shape,o.shape,S_0.shape,alpha,delta,lamb)\n",
    "    \n",
    "    def squared_loss(S,dx,dv):\n",
    "        \"\"\"Least squares matrix recovery loss\"\"\"\n",
    "        return jnp.linalg.norm(S@dx - dv,ord='fro')**2\n",
    "    \n",
    "    def nuc_norm_reg(S,lamb):\n",
    "        \"\"\"Nuclear norm reguarlizer\"\"\"\n",
    "        return lamb*jnp.linalg.norm(S,ord=\"nuc\")\n",
    "    def masked_l2_reg(S,S_0,o,alpha,delta):\n",
    "        \"\"\"Physics-based norm-ball constraint:respect the initial known sensitivities\"\"\"\n",
    "        return alpha*(jnp.linalg.norm(S_0-jnp.multiply(o,S),ord='fro')-delta)\n",
    "    return squared_loss(S,dx,dv) + nuc_norm_reg(S,lamb) + masked_l2_reg(S,S_0,o,alpha,delta)\n",
    "\n",
    "@jit\n",
    "def predict(S_hat,dx):\n",
    "    \"\"\"Predict voltage magnitude perturbations from complex power\"\"\"\n",
    "    assert S_hat.shape[1] == dx.shape[0]\n",
    "    dv_hat = S_hat @ dx\n",
    "    return dv_hat\n",
    "    \n",
    "@jit\n",
    "def calc_rel_err(S_hat,S):\n",
    "    \"\"\"Frobenius norm relative error\"\"\"\n",
    "    return (jnp.linalg.norm(S_hat-S,\"fro\"))/(jnp.linalg.norm(S,\"fro\"))\n",
    "    \n"
   ]
  },
  {
   "cell_type": "code",
   "execution_count": null,
   "metadata": {},
   "outputs": [],
   "source": []
  },
  {
   "cell_type": "markdown",
   "metadata": {},
   "source": [
    "## Data Management"
   ]
  },
  {
   "cell_type": "code",
   "execution_count": 118,
   "metadata": {},
   "outputs": [],
   "source": [
    "def make_sens_ts(dvdp,dvdq,n=274):\n",
    "    \"\"\"Make timeseries of sensitivity matrices\"\"\"\n",
    "    assert dvdp.shape[0] == dvdq.shape[0]\n",
    "    m_tot = dvdp.shape[0] #total measurments\n",
    "    m = int(m_tot/n) #Timeseries interval\n",
    "    svp,svq = [],[] #timeseries list of svp and svq matrices\n",
    "    for t in range(m):\n",
    "        svp.append(dvdp[t*n:(t+1)*n,:])\n",
    "        svq.append(dvdq[t*n:(t+1)*n,:])\n",
    "    return {'svp':svp,\n",
    "            'svq':svq}\n",
    "\n",
    "def make_deviations(data):\n",
    "    \"\"\"Make finite differences\"\"\"\n",
    "    p,q,v = data\n",
    "    (dp,dq,dv) = [jnp.diff(x) for x in (p,q,v)]\n",
    "    dx = jnp.vstack((dp,dq))\n",
    "    return (dx,dv)"
   ]
  },
  {
   "cell_type": "code",
   "execution_count": 119,
   "metadata": {},
   "outputs": [],
   "source": [
    "@jit\n",
    "def make_S_tilde(svp,svq):\n",
    "    \"\"\"Make wide S_tilde matrix\"\"\"\n",
    "    return jnp.vstack((svp.T,svq.T)).T\n",
    "\n",
    "def make_S_0(S_tilde,pct_obs):\n",
    "    \"\"\"Make initial observed matrix\"\"\"\n",
    "    O,_ = constrained_linear_measurement_operator(S_tilde,pct_obs)\n",
    "    O,S_0 = jnp.asarray(O),jnp.multiply(jnp.asarray(O),S_tilde)\n",
    "    return O,S_0"
   ]
  },
  {
   "cell_type": "markdown",
   "metadata": {},
   "source": [
    "### Matrix Recovery Solution"
   ]
  },
  {
   "cell_type": "code",
   "execution_count": 120,
   "metadata": {},
   "outputs": [],
   "source": [
    "\n",
    "def mat_rec_solution(S_0,data,o,lamb=0,alpha=1e3,delta=1e-3,maxiter=6e3):\n",
    "    \"\"\"\n",
    "    Compute the sensitivity matrix recovery solution\n",
    "    \n",
    "    Params:\n",
    "        S_0: Initialized sensitivity matrix\n",
    "        data: (dx,dv) complex power/voltage magnitude deviations\n",
    "        o: constrained measurement operator\n",
    "        lambd: nuclear norm penalty\n",
    "        delta: radius of the masked l2 ball constraint\n",
    "    \"\"\"\n",
    "    \n",
    "    dx,dv = data #complex power, voltage magnitude deviations\n",
    "    solver = NonlinearCG(\n",
    "        fun=mat_rec_loss,\n",
    "        implicit_diff=True,\n",
    "        maxiter=maxiter)\n",
    "\n",
    "    # The format is run(init_params, *args, **kwargs)\n",
    "    # where *args and **kwargs are passed to `fun`.\n",
    "    S_fit = solver.run(\n",
    "        init_params=S_0,\n",
    "        dx=dx,dv=dv,o=o,S_0=S_0,alpha=alpha,delta=delta,lamb=lamb).params\n",
    "\n",
    "    #Compute predictive accuracy\n",
    "    dv_pred = predict(S_fit,dx)\n",
    "    loss_value = jnp.mean((dv_pred - dv) ** 2)\n",
    "\n",
    "    # We return S_fit as auxiliary data.\n",
    "    # Auxiliary data is stored in the optimizer state (see below).\n",
    "    return loss_value, S_fit"
   ]
  },
  {
   "cell_type": "markdown",
   "metadata": {},
   "source": [
    "# Modeling Complex Power Injections in the IEEE 123-Bus Case using Voltage Sensitivities\n",
    "\n",
    "## 1. Hourly Varying Demand, Fixed Power Factor\n",
    "A constant power factor of $\\alpha_i = 0.9, i = 1,\\dots,n$ is applied to all loads."
   ]
  },
  {
   "cell_type": "code",
   "execution_count": 121,
   "metadata": {},
   "outputs": [
    {
     "name": "stdout",
     "output_type": "stream",
     "text": [
      "(274, 274) (274, 274) (548, 23) (274, 23)\n"
     ]
    }
   ],
   "source": [
    "path = \"/home/sam/github/PowerSensitivities.jl/data/ieee123_ts/HourlyDemand_DB_fixedPF/\"\n",
    "os.chdir(path)\n",
    "files = \"dvdp.pkl\",\"dvdq.pkl\",'Pnet.pkl','Qnet.pkl','Volts.pkl'\n",
    "dvdp,dvdq,p,q,v = [pd.read_pickle(f).values for f in files]\n",
    "sens = make_sens_ts(dvdp,dvdq)\n",
    "data = make_deviations((p,q,v))\n",
    "(dx,dv) = data\n",
    "svp,svq = sens['svp'],sens['svq']\n",
    "print(svp[0].shape,svq[0].shape,dx.shape,dv.shape)"
   ]
  },
  {
   "cell_type": "code",
   "execution_count": 122,
   "metadata": {},
   "outputs": [],
   "source": [
    "pct_obs = 0.25\n",
    "S_tilde = make_S_tilde(svp[0],svq[0])\n",
    "O,S_0 = make_S_0(S_tilde,pct_obs)"
   ]
  },
  {
   "cell_type": "code",
   "execution_count": 123,
   "metadata": {},
   "outputs": [
    {
     "name": "stdout",
     "output_type": "stream",
     "text": [
      "Relative pct. error of the 'true' sensitivity matrix:  1.1975642\n"
     ]
    }
   ],
   "source": [
    "print(\"Relative pct. error of the 'true' sensitivity matrix: \",jnp.linalg.norm(dv[:,0] - S_tilde@dx[:,0])/jnp.linalg.norm(dv[:,0])*100)"
   ]
  },
  {
   "cell_type": "code",
   "execution_count": 124,
   "metadata": {},
   "outputs": [
    {
     "data": {
      "text/plain": [
       "Text(0.5, 1.0, '25% Observable Sensitivty Matrix (IEEE 123-bus)')"
      ]
     },
     "execution_count": 124,
     "metadata": {},
     "output_type": "execute_result"
    },
    {
     "data": {
      "image/png": "[encoded data removed]",
      "text/plain": [
       "<Figure size 252x155.721 with 2 Axes>"
      ]
     },
     "metadata": {
      "needs_background": "light"
     },
     "output_type": "display_data"
    }
   ],
   "source": [
    "grid_kws = {\"height_ratios\": (.9, .05), \"hspace\": .1}\n",
    "fig,(ax,cbar_ax) = plt.subplots(2, gridspec_kw=grid_kws, figsize=(3.5,3.5/1.61828),constrained_layout=True)\n",
    "cmap = sns.diverging_palette(250, 30, l=65, center=\"dark\", as_cmap=True)\n",
    "ax = sns.heatmap(onp.asarray(S_0),cmap=cmap,\n",
    "            center=0,square=True,mask=(onp.asarray(S_0)==0),\n",
    "            xticklabels=False,yticklabels=False,ax=ax,\n",
    "            cbar_ax=cbar_ax,linewidths=1e-6,\n",
    "            cbar_kws={\"orientation\": \"horizontal\",\n",
    "                     \"label\":\"Voltage Sensitivity\",\n",
    "                     \"pad\":0.1},\n",
    "            rasterized=True)\n",
    "ax.set_title(\"{pct_obs:.0f}% Observable Sensitivty Matrix (IEEE 123-bus)\".format(pct_obs=pct_obs*100))"
   ]
  },
  {
   "cell_type": "code",
   "execution_count": 135,
   "metadata": {},
   "outputs": [
    {
     "ename": "TypeError",
     "evalue": "init_state() missing 1 required positional argument: 'hyperparams_prox'",
     "output_type": "error",
     "traceback": [
      "\u001b[0;31m---------------------------------------------------------------------------\u001b[0m",
      "\u001b[0;31mTypeError\u001b[0m                                 Traceback (most recent call last)",
      "\u001b[0;32m/tmp/ipykernel_15056/3623162430.py\u001b[0m in \u001b[0;36m<module>\u001b[0;34m\u001b[0m\n\u001b[1;32m      7\u001b[0m \u001b[0;31m# The format is run(init_params, *args, **kwargs)\u001b[0m\u001b[0;34m\u001b[0m\u001b[0;34m\u001b[0m\u001b[0m\n\u001b[1;32m      8\u001b[0m \u001b[0;31m# where *args and **kwargs are passed to `fun`.\u001b[0m\u001b[0;34m\u001b[0m\u001b[0;34m\u001b[0m\u001b[0m\n\u001b[0;32m----> 9\u001b[0;31m S_fit = solver.run(\n\u001b[0m\u001b[1;32m     10\u001b[0m     \u001b[0minit_params\u001b[0m\u001b[0;34m=\u001b[0m\u001b[0mS_0\u001b[0m\u001b[0;34m,\u001b[0m\u001b[0;34m\u001b[0m\u001b[0;34m\u001b[0m\u001b[0m\n\u001b[1;32m     11\u001b[0m     dx=dx,dv=dv,o=O,S_0=S_0,alpha=alpha,delta=delta,lamb=lamb).params\n",
      "\u001b[0;32m~/anaconda3/envs/mohca/lib/python3.9/site-packages/jaxopt/_src/base.py\u001b[0m in \u001b[0;36mrun\u001b[0;34m(self, init_params, *args, **kwargs)\u001b[0m\n\u001b[1;32m    189\u001b[0m       \u001b[0mrun\u001b[0m \u001b[0;34m=\u001b[0m \u001b[0mdecorator\u001b[0m\u001b[0;34m(\u001b[0m\u001b[0mrun\u001b[0m\u001b[0;34m)\u001b[0m\u001b[0;34m\u001b[0m\u001b[0;34m\u001b[0m\u001b[0m\n\u001b[1;32m    190\u001b[0m \u001b[0;34m\u001b[0m\u001b[0m\n\u001b[0;32m--> 191\u001b[0;31m     \u001b[0;32mreturn\u001b[0m \u001b[0mrun\u001b[0m\u001b[0;34m(\u001b[0m\u001b[0minit_params\u001b[0m\u001b[0;34m,\u001b[0m \u001b[0;34m*\u001b[0m\u001b[0margs\u001b[0m\u001b[0;34m,\u001b[0m \u001b[0;34m**\u001b[0m\u001b[0mkwargs\u001b[0m\u001b[0;34m)\u001b[0m\u001b[0;34m\u001b[0m\u001b[0;34m\u001b[0m\u001b[0m\n\u001b[0m\u001b[1;32m    192\u001b[0m \u001b[0;34m\u001b[0m\u001b[0m\n\u001b[1;32m    193\u001b[0m \u001b[0;34m\u001b[0m\u001b[0m\n",
      "\u001b[0;32m~/anaconda3/envs/mohca/lib/python3.9/site-packages/jaxopt/_src/implicit_diff.py\u001b[0m in \u001b[0;36mwrapped_solver_fun\u001b[0;34m(*args, **kwargs)\u001b[0m\n\u001b[1;32m    249\u001b[0m     \u001b[0margs\u001b[0m\u001b[0;34m,\u001b[0m \u001b[0mkwargs\u001b[0m \u001b[0;34m=\u001b[0m \u001b[0m_signature_bind\u001b[0m\u001b[0;34m(\u001b[0m\u001b[0msolver_fun_signature\u001b[0m\u001b[0;34m,\u001b[0m \u001b[0;34m*\u001b[0m\u001b[0margs\u001b[0m\u001b[0;34m,\u001b[0m \u001b[0;34m**\u001b[0m\u001b[0mkwargs\u001b[0m\u001b[0;34m)\u001b[0m\u001b[0;34m\u001b[0m\u001b[0;34m\u001b[0m\u001b[0m\n\u001b[1;32m    250\u001b[0m     \u001b[0mkeys\u001b[0m\u001b[0;34m,\u001b[0m \u001b[0mvals\u001b[0m \u001b[0;34m=\u001b[0m \u001b[0mlist\u001b[0m\u001b[0;34m(\u001b[0m\u001b[0mkwargs\u001b[0m\u001b[0;34m.\u001b[0m\u001b[0mkeys\u001b[0m\u001b[0;34m(\u001b[0m\u001b[0;34m)\u001b[0m\u001b[0;34m)\u001b[0m\u001b[0;34m,\u001b[0m \u001b[0mlist\u001b[0m\u001b[0;34m(\u001b[0m\u001b[0mkwargs\u001b[0m\u001b[0;34m.\u001b[0m\u001b[0mvalues\u001b[0m\u001b[0;34m(\u001b[0m\u001b[0;34m)\u001b[0m\u001b[0;34m)\u001b[0m\u001b[0;34m\u001b[0m\u001b[0;34m\u001b[0m\u001b[0m\n\u001b[0;32m--> 251\u001b[0;31m     \u001b[0;32mreturn\u001b[0m \u001b[0mmake_custom_vjp_solver_fun\u001b[0m\u001b[0;34m(\u001b[0m\u001b[0msolver_fun\u001b[0m\u001b[0;34m,\u001b[0m \u001b[0mkeys\u001b[0m\u001b[0;34m)\u001b[0m\u001b[0;34m(\u001b[0m\u001b[0;34m*\u001b[0m\u001b[0margs\u001b[0m\u001b[0;34m,\u001b[0m \u001b[0;34m*\u001b[0m\u001b[0mvals\u001b[0m\u001b[0;34m)\u001b[0m\u001b[0;34m\u001b[0m\u001b[0;34m\u001b[0m\u001b[0m\n\u001b[0m\u001b[1;32m    252\u001b[0m \u001b[0;34m\u001b[0m\u001b[0m\n\u001b[1;32m    253\u001b[0m   \u001b[0;32mreturn\u001b[0m \u001b[0mwrapped_solver_fun\u001b[0m\u001b[0;34m\u001b[0m\u001b[0;34m\u001b[0m\u001b[0m\n",
      "    \u001b[0;31m[... skipping hidden 5 frame]\u001b[0m\n",
      "\u001b[0;32m~/anaconda3/envs/mohca/lib/python3.9/site-packages/jaxopt/_src/implicit_diff.py\u001b[0m in \u001b[0;36msolver_fun_flat\u001b[0;34m(*flat_args)\u001b[0m\n\u001b[1;32m    205\u001b[0m     \u001b[0;32mdef\u001b[0m \u001b[0msolver_fun_flat\u001b[0m\u001b[0;34m(\u001b[0m\u001b[0;34m*\u001b[0m\u001b[0mflat_args\u001b[0m\u001b[0;34m)\u001b[0m\u001b[0;34m:\u001b[0m\u001b[0;34m\u001b[0m\u001b[0;34m\u001b[0m\u001b[0m\n\u001b[1;32m    206\u001b[0m       \u001b[0margs\u001b[0m\u001b[0;34m,\u001b[0m \u001b[0mkwargs\u001b[0m \u001b[0;34m=\u001b[0m \u001b[0m_extract_kwargs\u001b[0m\u001b[0;34m(\u001b[0m\u001b[0mkwarg_keys\u001b[0m\u001b[0;34m,\u001b[0m \u001b[0mflat_args\u001b[0m\u001b[0;34m)\u001b[0m\u001b[0;34m\u001b[0m\u001b[0;34m\u001b[0m\u001b[0m\n\u001b[0;32m--> 207\u001b[0;31m       \u001b[0;32mreturn\u001b[0m \u001b[0msolver_fun\u001b[0m\u001b[0;34m(\u001b[0m\u001b[0;34m*\u001b[0m\u001b[0margs\u001b[0m\u001b[0;34m,\u001b[0m \u001b[0;34m**\u001b[0m\u001b[0mkwargs\u001b[0m\u001b[0;34m)\u001b[0m\u001b[0;34m\u001b[0m\u001b[0;34m\u001b[0m\u001b[0m\n\u001b[0m\u001b[1;32m    208\u001b[0m \u001b[0;34m\u001b[0m\u001b[0m\n\u001b[1;32m    209\u001b[0m     \u001b[0;32mdef\u001b[0m \u001b[0msolver_fun_fwd\u001b[0m\u001b[0;34m(\u001b[0m\u001b[0;34m*\u001b[0m\u001b[0mflat_args\u001b[0m\u001b[0;34m)\u001b[0m\u001b[0;34m:\u001b[0m\u001b[0;34m\u001b[0m\u001b[0;34m\u001b[0m\u001b[0m\n",
      "\u001b[0;32m~/anaconda3/envs/mohca/lib/python3.9/site-packages/jaxopt/_src/base.py\u001b[0m in \u001b[0;36m_run\u001b[0;34m(self, init_params, *args, **kwargs)\u001b[0m\n\u001b[1;32m    148\u001b[0m            \u001b[0;34m*\u001b[0m\u001b[0margs\u001b[0m\u001b[0;34m,\u001b[0m\u001b[0;34m\u001b[0m\u001b[0;34m\u001b[0m\u001b[0m\n\u001b[1;32m    149\u001b[0m            **kwargs) -> OptStep:\n\u001b[0;32m--> 150\u001b[0;31m     \u001b[0mstate\u001b[0m \u001b[0;34m=\u001b[0m \u001b[0mself\u001b[0m\u001b[0;34m.\u001b[0m\u001b[0minit_state\u001b[0m\u001b[0;34m(\u001b[0m\u001b[0minit_params\u001b[0m\u001b[0;34m,\u001b[0m \u001b[0;34m*\u001b[0m\u001b[0margs\u001b[0m\u001b[0;34m,\u001b[0m \u001b[0;34m**\u001b[0m\u001b[0mkwargs\u001b[0m\u001b[0;34m)\u001b[0m\u001b[0;34m\u001b[0m\u001b[0;34m\u001b[0m\u001b[0m\n\u001b[0m\u001b[1;32m    151\u001b[0m \u001b[0;34m\u001b[0m\u001b[0m\n\u001b[1;32m    152\u001b[0m     \u001b[0;32mif\u001b[0m \u001b[0mself\u001b[0m\u001b[0;34m.\u001b[0m\u001b[0mmaxiter\u001b[0m \u001b[0;34m==\u001b[0m \u001b[0;36m0\u001b[0m\u001b[0;34m:\u001b[0m\u001b[0;34m\u001b[0m\u001b[0;34m\u001b[0m\u001b[0m\n",
      "\u001b[0;31mTypeError\u001b[0m: init_state() missing 1 required positional argument: 'hyperparams_prox'"
     ]
    }
   ],
   "source": [
    "dx,dv = data #complex power, voltage magnitude deviations\n",
    "solver = ProximalGradient(\n",
    "    fun=mat_rec_loss,\n",
    "    implicit_diff=True,\n",
    "    maxiter=6000)\n",
    "\n",
    "# The format is run(init_params, *args, **kwargs)\n",
    "# where *args and **kwargs are passed to `fun`.\n",
    "S_fit = solver.run(\n",
    "    init_params=S_0,\n",
    "    dx=dx,dv=dv,o=O,S_0=S_0,alpha=alpha,delta=delta,lamb=lamb).params"
   ]
  },
  {
   "cell_type": "code",
   "execution_count": 132,
   "metadata": {},
   "outputs": [
    {
     "name": "stdout",
     "output_type": "stream",
     "text": [
      "\n",
      "Intel MKL ERROR: Parameter 4 was incorrect on entry to SLASCL.\n",
      "\n",
      "Intel MKL ERROR: Parameter 4 was incorrect on entry to SLASCL.\n",
      "\n",
      "Intel MKL ERROR: Parameter 4 was incorrect on entry to SLASCL.\n",
      "\n",
      "Intel MKL ERROR: Parameter 4 was incorrect on entry to SLASCL.\n"
     ]
    }
   ],
   "source": [
    "lamb,delta,alpha = 1e-15,5,1\n",
    "loss_value,S_hat = mat_rec_solution(S_0,data,o=O,lamb=lamb,delta=delta,alpha=alpha)"
   ]
  },
  {
   "cell_type": "code",
   "execution_count": 41,
   "metadata": {},
   "outputs": [
    {
     "data": {
      "text/plain": [
       "[<matplotlib.lines.Line2D at 0x7fa001b46a90>]"
      ]
     },
     "execution_count": 41,
     "metadata": {},
     "output_type": "execute_result"
    },
    {
     "data": {
      "image/png": "[encoded data removed]",
      "text/plain": [
       "<Figure size 432x288 with 1 Axes>"
      ]
     },
     "metadata": {
      "needs_background": "light"
     },
     "output_type": "display_data"
    }
   ],
   "source": [
    "rel_err_ts = [calc_rel_err(S_hat,make_S_tilde(svp_t,svq_t))*100 for svp_t,svq_t in zip(svp,svq)]\n",
    "plt.plot(onp.asarray(rel_err_ts))"
   ]
  },
  {
   "cell_type": "code",
   "execution_count": null,
   "metadata": {},
   "outputs": [],
   "source": []
  },
  {
   "cell_type": "code",
   "execution_count": 374,
   "metadata": {},
   "outputs": [
    {
     "data": {
      "image/png": "[encoded data removed]",
      "text/plain": [
       "<Figure size 252x155.721 with 2 Axes>"
      ]
     },
     "metadata": {
      "needs_background": "light"
     },
     "output_type": "display_data"
    }
   ],
   "source": [
    "grid_kws = {\"height_ratios\": (.9, .05), \"hspace\": .1}\n",
    "fig,(ax,cbar_ax) = plt.subplots(2, gridspec_kw=grid_kws, figsize=(3.5,3.5/1.61828),constrained_layout=True)\n",
    "cmap = sns.diverging_palette(250, 30, l=65, center=\"dark\", as_cmap=True)\n",
    "ax = sns.heatmap(onp.asarray(S_hat),cmap=cmap,\n",
    "            center=0,square=True,mask=(onp.asarray(S_hat)==0),\n",
    "            xticklabels=False,yticklabels=False,ax=ax,\n",
    "            cbar_ax=cbar_ax,linewidths=1e-6,\n",
    "            cbar_kws={\"orientation\": \"horizontal\",\n",
    "                     \"label\":\"Voltage Sensitivity\",\n",
    "                     \"pad\":0.1},\n",
    "            rasterized=True)"
   ]
  },
  {
   "cell_type": "markdown",
   "metadata": {},
   "source": [
    "## 2. Synthetic demands, fixed power factor "
   ]
  },
  {
   "cell_type": "code",
   "execution_count": null,
   "metadata": {},
   "outputs": [],
   "source": [
    "path = \"/home/sam/github/PowerSensitivities.jl/data/ieee123_ts/Synthetic_DB_fixedPF/\"\n",
    "os.chdir(path)\n",
    "files = \"dvdp.pkl\",\"dvdq.pkl\",'Pnet.pkl','Qnet.pkl','Volts.pkl'\n",
    "dvdp,dvdq,p,q,v = [pd.read_pickle(f).values for f in files]\n",
    "svp,svq = make_sens_ts(dvdp,dvdq)"
   ]
  },
  {
   "cell_type": "markdown",
   "metadata": {},
   "source": [
    "## 3. Synthetic demands, varying power factor"
   ]
  },
  {
   "cell_type": "code",
   "execution_count": null,
   "metadata": {},
   "outputs": [],
   "source": [
    "path = \"/home/sam/github/PowerSensitivities.jl/data/ieee123_ts/Synthetic_DB/\"\n",
    "os.chdir(path)\n",
    "files = \"dvdp.pkl\",\"dvdq.pkl\",'Pnet.pkl','Qnet.pkl','Volts.pkl'\n",
    "dvdp,dvdq,p,q,v = [pd.read_pickle(f).values for f in files]\n",
    "svp,svq = make_sens_ts(dvdp,dvdq)"
   ]
  },
  {
   "cell_type": "code",
   "execution_count": null,
   "metadata": {},
   "outputs": [],
   "source": []
  },
  {
   "cell_type": "code",
   "execution_count": null,
   "metadata": {},
   "outputs": [],
   "source": []
  },
  {
   "cell_type": "code",
   "execution_count": null,
   "metadata": {},
   "outputs": [],
   "source": []
  },
  {
   "cell_type": "code",
   "execution_count": null,
   "metadata": {},
   "outputs": [],
   "source": []
  },
  {
   "cell_type": "code",
   "execution_count": 3,
   "metadata": {},
   "outputs": [],
   "source": [
    "path = \"/home/sam/github/PowerSensitivities.jl/data/ieee123_ts\""
   ]
  },
  {
   "cell_type": "code",
   "execution_count": 7,
   "metadata": {},
   "outputs": [],
   "source": [
    "dvdp = \"/home/sam/github/PowerSensitivities.jl/data/VoltageSensitivities/VoltageSensitivity_P.pkl\"\n",
    "dvdq = \"/home/sam/github/PowerSensitivities.jl/data/VoltageSensitivities/VoltageSensitivity_Q.pkl\"\n",
    "P = \"/home/sam/github/PowerSensitivities.jl/data/VoltageSensitivities/HourlyDemands100.xlsx\"\n",
    "V = \"/home/sam/github/PowerSensitivities.jl/data/VoltageSensitivities/voltageProfile.pkl\"\n",
    "dvdp = pd.read_pickle(dvdp).values\n",
    "dvdq = pd.read_pickle(dvdq).values\n",
    "P = pd.read_excel(P).values\n",
    "V = pd.read_pickle(V).values.T"
   ]
  },
  {
   "cell_type": "code",
   "execution_count": 3,
   "metadata": {},
   "outputs": [
    {
     "data": {
      "text/plain": [
       "(48, 274)"
      ]
     },
     "execution_count": 3,
     "metadata": {},
     "output_type": "execute_result"
    }
   ],
   "source": [
    "V.shape"
   ]
  },
  {
   "cell_type": "code",
   "execution_count": 5,
   "metadata": {},
   "outputs": [
    {
     "data": {
      "text/plain": [
       "(24, 101)"
      ]
     },
     "execution_count": 5,
     "metadata": {},
     "output_type": "execute_result"
    }
   ],
   "source": [
    "def convert_q(P,pf=0.9):\n",
    "    "
   ]
  },
  {
   "cell_type": "code",
   "execution_count": 13,
   "metadata": {},
   "outputs": [
    {
     "data": {
      "text/plain": [
       "48.0"
      ]
     },
     "execution_count": 13,
     "metadata": {},
     "output_type": "execute_result"
    }
   ],
   "source": [
    "N = 274\n",
    "M = 13152/N\n",
    "SPV,SQV = [],[] #SPV and SQV timeseries\n",
    "for t in range(M):\n",
    "    spv_t = "
   ]
  },
  {
   "cell_type": "code",
   "execution_count": null,
   "metadata": {},
   "outputs": [],
   "source": []
  }
 ],
 "metadata": {
  "interpreter": {
   "hash": "e8df16b965d1ffcf685169c56f02fdfc9ba4b29e3b06f13047cdbdd63c9fcb12"
  },
  "kernelspec": {
   "display_name": "Python 3 (ipykernel)",
   "language": "python",
   "name": "python3"
  },
  "language_info": {
   "codemirror_mode": {
    "name": "ipython",
    "version": 3
   },
   "file_extension": ".py",
   "mimetype": "text/x-python",
   "name": "python",
   "nbconvert_exporter": "python",
   "pygments_lexer": "ipython3",
   "version": "3.9.7"
  }
 },
 "nbformat": 4,
 "nbformat_minor": 4
}
