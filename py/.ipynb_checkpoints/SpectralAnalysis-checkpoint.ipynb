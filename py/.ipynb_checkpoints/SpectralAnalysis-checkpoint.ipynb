{
 "cells": [
  {
   "cell_type": "code",
   "execution_count": 7,
   "id": "500a1db8-d31a-43dd-a157-76f8d9ec5fe5",
   "metadata": {
    "tags": []
   },
   "outputs": [],
   "source": [
    "import opendssdirect as dss\n",
    "import seaborn as sns\n",
    "import matplotlib.pyplot as plt\n",
    "import matplotlib\n",
    "import numpy as np\n",
    "from utils import spectral_analysis,make_sens_ts,make_deviations"
   ]
  },
  {
   "cell_type": "code",
   "execution_count": 5,
   "id": "31effbad-8ea7-4871-83b4-a7f4f5323400",
   "metadata": {
    "tags": []
   },
   "outputs": [],
   "source": [
    "sns.set_context(\"paper\")\n",
    "plt.style.use(\"bmh\")\n",
    "matplotlib.rc('text', usetex=True)\n",
    "matplotlib.rc('text.latex', preamble=r'\\usepackage{amsmath,amssymb}')\n",
    "matplotlib.rcParams['font.size'] = 9\n",
    "matplotlib.rcParams['legend.fontsize'] = 7\n",
    "matplotlib.rcParams['lines.linewidth'] = 1"
   ]
  },
  {
   "cell_type": "code",
   "execution_count": 6,
   "id": "ae81fccc-337c-4307-814b-1471d65b8d2a",
   "metadata": {},
   "outputs": [
    {
     "name": "stdout",
     "output_type": "stream",
     "text": [
      "(274, 274) (274, 274) (548, 23) (274, 23)\n"
     ]
    }
   ],
   "source": [
    "path = \"/home/sam/github/PowerSensitivities.jl/data/ieee123_ts/HourlyDemand_DB_fixedPF/\"\n",
    "os.chdir(path)\n",
    "files = \"dvdp.pkl\",\"dvdq.pkl\",'Pnet.pkl','Qnet.pkl','Volts.pkl'\n",
    "dvdp,dvdq,p,q,v = [pd.read_pickle(f).values for f in files]\n",
    "sens = make_sens_ts(dvdp,dvdq)\n",
    "data = make_deviations((p,q,v))\n",
    "(dx,dv) = data\n",
    "svp,svq = sens['svp'],sens['svq']\n",
    "print(svp[0].shape,svq[0].shape,dx.shape,dv.shape)"
   ]
  },
  {
   "cell_type": "code",
   "execution_count": null,
   "id": "06775805-92ab-4e53-89ce-df1b2101fc94",
   "metadata": {},
   "outputs": [],
   "source": [
    "fig,axes = plt.subplots(nrows=2,ncols=3,figsize=(2*3.5,0.75*(3.5/1.61828)),constrained_layout=True,sharex=True,sharey=True)\n",
    "axes[1,0].set_xlabel(\"Singular Value\",fontsize=7,labelpad=0.25)\n",
    "axes[1,1].set_xlabel(\"Singular Value\",fontsize=7,labelpad=0.25)\n",
    "axes[1,2].set_xlabel(\"Singular Value\",fontsize=7,labelpad=0.25)\n",
    "axes[0,0].set_ylabel(\"Value\",fontsize=7,labelpad=0.25)\n",
    "axes[1,0].set_ylabel(\"Value\",fontsize=7,labelpad=0.25)\n",
    "\n",
    "colors = ['crimson','teal','goldenrod']\n",
    "styles = ['o','s']\n",
    "#Spectral analysis by phase and injection typeobservabilityobservability\n",
    "for i,(inj_type,phase_submatrices) in enumerate(submatrices.items()):\n",
    "    for j,(phase,submatrix) in enumerate(phase_submatrices.items()):\n",
    "        cum_sigma,normed_sigma = matcom.spectral_analysis(submatrix)\n",
    "        singular_value_ixs = [i for i in range(len(cum_sigma))]\n",
    "        #Plot styling\n",
    "        style = styles[i]\n",
    "        color= colors[j]\n",
    "        axes[i,j].plot(singular_value_ixs,cum_sigma,':',marker=style,markersize=2,alpha=0.6,color=color,label='Cumulative Normalized',rasterized=True)\n",
    "        axes[i,j].plot(singular_value_ixs,normed_sigma,'-',marker=style,markersize=2,alpha=0.6,color=color,label='Normalized',rasterized=True)\n",
    "        axes[i,j].fill_between(singular_value_ixs, normed_sigma,alpha=0.25,rasterized=True)\n",
    "        axes[i,j].fill_between(singular_value_ixs, cum_sigma,alpha=0.15,rasterized=True)\n",
    "        axes[i,j].set_title(inj_type + ' Sensitivities: ' +'Phase '+phase,fontsize=7)\n",
    "        #axes[i,j].semargins(x=0.25,y=0.25)\n",
    "        #axes[i,j].grid()\n",
    "       # axes[i,j].ticks_on()\n",
    "        axes[i,j].tick_params(axis='both',which='major',pad=0.8)\n",
    "        axes[i,j].minorticks_on()\n",
    "        axes[i,j].legend(fontsize=5,frameon=False)\n",
    "plt.savefig(\"/home/sam/github/jacobian_discovery/Figures/phase_spectral_r4.pdf\",dpi=400)"
   ]
  },
  {
   "cell_type": "code",
   "execution_count": null,
   "id": "1b341708-7a27-4093-a11a-63dc11f9e912",
   "metadata": {},
   "outputs": [],
   "source": []
  }
 ],
 "metadata": {
  "kernelspec": {
   "display_name": "Python 3 (ipykernel)",
   "language": "python",
   "name": "python3"
  },
  "language_info": {
   "codemirror_mode": {
    "name": "ipython",
    "version": 3
   },
   "file_extension": ".py",
   "mimetype": "text/x-python",
   "name": "python",
   "nbconvert_exporter": "python",
   "pygments_lexer": "ipython3",
   "version": "3.9.7"
  }
 },
 "nbformat": 4,
 "nbformat_minor": 5
}
