{
 "cells": [
  {
   "cell_type": "code",
   "execution_count": 5,
   "id": "9779cc9d-c6a1-4e91-9dd0-1e0000bfb2df",
   "metadata": {
    "tags": []
   },
   "outputs": [
    {
     "data": {
      "text/plain": [
       "<module 'matrix_sensitivities' from '/home/sam/github/PowerSensitivities.jl/py/matrix_sensitivities.py'>"
      ]
     },
     "execution_count": 5,
     "metadata": {},
     "output_type": "execute_result"
    }
   ],
   "source": [
    "import os\n",
    "import imp\n",
    "import seaborn as sns\n",
    "import matplotlib.pyplot as plt\n",
    "import matplotlib\n",
    "import pandas as pd\n",
    "import numpy as np\n",
    "import cvxpy as cp\n",
    "from tqdm import tqdm\n",
    "import opendssdirect as dss\n",
    "from utils import spectral_analysis,make_deviations,make_S_0,make_S_tilde,make_sens_ts\n",
    "from measurements import constrained_linear_measurement_operator\n",
    "import matrix_sensitivities as mat_sens\n",
    "import opendssdirect as dss\n",
    "imp.reload(mat_sens)"
   ]
  },
  {
   "cell_type": "code",
   "execution_count": 6,
   "id": "a6d4e403-a47c-4f6a-a6c3-ef82d1e6b251",
   "metadata": {
    "tags": []
   },
   "outputs": [],
   "source": [
    "sns.set_context(\"paper\")\n",
    "plt.style.use(\"bmh\")\n",
    "matplotlib.rc('text', usetex=True)\n",
    "matplotlib.rc('text.latex', preamble=r'\\usepackage{amsmath,amssymb}')\n",
    "matplotlib.rcParams['font.size'] = 9\n",
    "matplotlib.rcParams['legend.fontsize'] = 7\n",
    "matplotlib.rcParams['lines.linewidth'] = 1"
   ]
  },
  {
   "cell_type": "code",
   "execution_count": null,
   "id": "7b7d12ec-ee3d-4b41-9be0-f5a40e03fa08",
   "metadata": {},
   "outputs": [],
   "source": []
  },
  {
   "cell_type": "markdown",
   "id": "7d69e18b-c9d7-4225-9c86-6f1b72913524",
   "metadata": {},
   "source": [
    "# Case 1: Constant 0.9 Nonunity Power Factor\n",
    "## Data Management\n",
    "\n",
    "### Make basic constant power factor data for IEEE 123"
   ]
  },
  {
   "cell_type": "code",
   "execution_count": 183,
   "id": "4ab3ef27-d089-4b1d-b288-3a8ee9695302",
   "metadata": {
    "tags": []
   },
   "outputs": [
    {
     "name": "stdout",
     "output_type": "stream",
     "text": [
      "(274, 274) (274, 274) (190, 23) (95, 23)\n"
     ]
    }
   ],
   "source": [
    "path = \"/home/sam/github/PowerSensitivities.jl/data/ieee123_ts/HourlyDemand_DB_fixedPF/\"\n",
    "os.chdir(path)\n",
    "files = \"dvdp.pkl\",\"dvdq.pkl\",'Pnet.pkl','Qnet.pkl','Volts.pkl'\n",
    "dvdp,dvdq,p,q,v = [pd.read_pickle(f).values for f in files]\n",
    "sens = make_sens_ts(dvdp,dvdq)\n",
    "svp,svq = sens['svp'],sens['svq']\n",
    "\n",
    "print(svp[0].shape,svq[0].shape,dx.shape,dv.shape)"
   ]
  },
  {
   "cell_type": "markdown",
   "id": "08f46646-7d22-4298-b4ed-e8bcec60387b",
   "metadata": {},
   "source": [
    "### Find the relevant controllable PQ buses \n",
    "\n",
    "- Find all buses with 0.9 fixed power factor (loads)\n",
    "- Make truncated $\\tilde{S}$ matrix \n",
    "- Make truncated training data $\\Delta X, \\Delta V$\n",
    "- Make truncated implicit $Q-P$ representation matrix $K$"
   ]
  },
  {
   "cell_type": "code",
   "execution_count": 184,
   "id": "8dabdaeb-6ae9-4c4b-88fc-7b64ec30f9c5",
   "metadata": {},
   "outputs": [
    {
     "name": "stderr",
     "output_type": "stream",
     "text": [
      "/tmp/ipykernel_6916/2676379099.py:2: RuntimeWarning: invalid value encountered in true_divide\n",
      "  pf = np.cos(np.arctan(np.divide(q,p)))\n"
     ]
    }
   ],
   "source": [
    "#Find the buses with loads (controlled buses where 0.9 power factor holds)\n",
    "pf = np.cos(np.arctan(np.divide(q,p)))\n",
    "study_bus = [] #Controlled buses\n",
    "for bus_i,pf_i in enumerate(pf):\n",
    "    if np.isclose(np.mean(pf_i),0.9):\n",
    "        study_bus.append(bus_i)"
   ]
  },
  {
   "cell_type": "code",
   "execution_count": 185,
   "id": "45cd265e-cb09-437b-9e3b-33e13d5e6b13",
   "metadata": {},
   "outputs": [
    {
     "name": "stdout",
     "output_type": "stream",
     "text": [
      "stilde, svp,svq shapes:  (95, 190) (95, 95) (95, 95)\n",
      "K,svq_impl shapes:  (95, 95) (95, 95)\n",
      "Data shapes:  (95, 24) (95, 24) (95, 24)\n",
      "Diff shapes:  (190, 23) (95, 23)\n"
     ]
    }
   ],
   "source": [
    "#Make truncated sensitivities matrices for the studied buses \n",
    "svp0 = [svp_t[np.ix_(study_bus,study_bus)] for svp_t in svp]\n",
    "svq0 = [svq_t[np.ix_(study_bus,study_bus)] for svq_t in svq]\n",
    "S_tilde = [make_S_tilde(svp0_t,svq0_t) for svp0_t,svq0_t in zip(svp0,svq0)]\n",
    "\n",
    "# Make implicit representation for the studied buses\n",
    "imp.reload(mat_sens)\n",
    "pf = 0.9*np.ones(svp0[0].shape[0])\n",
    "K = mat_sens.K(pf)\n",
    "svq_impl = [svq0_t@K for svq0_t in svq0]\n",
    "\n",
    "\n",
    "#Make truncated training data\n",
    "p0,q0,v0 = p[np.ix_(study_bus)],q[np.ix_(study_bus)],v[np.ix_(study_bus)] #Truncated measurement data\n",
    "diff = make_deviations((p0,q0,v0)) #Deviations\n",
    "(dx,dv) = diff #multivariate time series estimation\n",
    "\n",
    "\n",
    "#Print shapes\n",
    "print(\"stilde, svp,svq shapes: \",S_tilde[0].shape,svp0[0].shape,svq0[0].shape)\n",
    "print(\"K,svq_impl shapes: \",K.shape,svq_impl[0].shape)\n",
    "print(\"Data shapes: \",p0.shape,q0.shape,v0.shape)\n",
    "print(\"Diff shapes: \",dx.shape,dv.shape)"
   ]
  },
  {
   "cell_type": "markdown",
   "id": "09da12f2-1261-4470-8d51-e606417695db",
   "metadata": {},
   "source": [
    "## Perform the Implicit P-Q estimation with varying noise levels"
   ]
  },
  {
   "cell_type": "code",
   "execution_count": 186,
   "id": "dd30a76a-ada4-4f60-a4be-1f59c98f0ef1",
   "metadata": {},
   "outputs": [],
   "source": [
    "def make_deviations(data,sigma=0):\n",
    "    \"\"\"\n",
    "    Make finite difference data with noise level sigma\n",
    "    \"\"\"\n",
    "    p,q,v = data\n",
    "    (dp,dq,dv) = [np.diff(x) for x in (p,q,v)]\n",
    "    dx = np.vstack((dp,dq)) \n",
    "    return (\n",
    "        dx + np.random.normal(0,sigma,size=dx.shape),\n",
    "        dv + np.random.normal(0,sigma,size=dv.shape)\n",
    "        )"
   ]
  },
  {
   "cell_type": "code",
   "execution_count": null,
   "id": "0d6cfeeb-68c8-498f-ba9d-aec373700da4",
   "metadata": {},
   "outputs": [],
   "source": []
  },
  {
   "cell_type": "code",
   "execution_count": 315,
   "id": "eea421bd-6762-4adb-9404-8662a0676149",
   "metadata": {},
   "outputs": [],
   "source": [
    "#noise values\n",
    "sigma = np.sqrt(abs(np.mean(dx))*(0.1/100)) #Assume 0.1 pct. error of the AMI sensor for uncertainty quantitification per NIST.\n",
    "noise_seeds = np.arange(2022,2052) #Seeds for resampling noise levels\n",
    "\n",
    "#Make Sdagger matrix\n",
    "S_dag = [(svp0_t + svq_impl_t) for svp0_t,svq_impl_t in zip(svp0,svq_impl)]\n",
    "n,_ = S_dag[0].shape\n",
    "\n",
    "#Results dictionaries\n",
    "results_dicts = []\n",
    "wide_results_dicts =[]\n",
    "\n",
    "#Results matrices\n",
    "results_matrices = []\n",
    "\n",
    "for seed in noise_seeds:\n",
    "\n",
    "    np.random.seed(seed)\n",
    "    #Make deviations at the noise level\n",
    "    diff = make_deviations((p0,q0,v0),sigma=sigma) #Deviations\n",
    "    (dx,dv) = diff #multivariate time series estimation\n",
    "\n",
    "\n",
    "    #Get true dp and dq\n",
    "    dp,dq = dx[:n,:],dx[n:,:]\n",
    "\n",
    "    #Make results matrix for dp and dq\n",
    "    dp_hat,dq_hat = np.zeros_like(dp),np.zeros_like(dq)\n",
    "\n",
    "    #Estimate dp and dq\n",
    "    for t,(S_dag_t,dv_t) in enumerate(zip(S_dag,dv.T)):\n",
    "        dp_hat[:,t] = np.linalg.inv(S_dag_t)@dv_t #Compute the active power estimate\n",
    "        dq_hat[:,t] = K@dp_hat[:,t] #Compute the reactive power estimate\n",
    "\n",
    "        #Save each estimate at each node as a dictionary for plotting\n",
    "        for i,(dp_hat_i_t,dq_hat_i_t) in enumerate(zip(dp_hat[:,t],dq_hat[:,t])):\n",
    "            #Collect injections, injection estimates, and injection types\n",
    "            types,injs,inj_ests = ['P','Q'],[dp[i,t],dq[i,t]],[dp_hat_i_t,dq_hat_i_t]\n",
    "            for type_inj,inj,inj_est in zip(types,injs,inj_ests):\n",
    "                results_dicts.append( #Save results for the true injection\n",
    "                    {\n",
    "                        \"time\":t,\n",
    "                        \"node\":i,\n",
    "                        \"inj\":inj,\n",
    "                        \"series\":r\"$(\\Delta p,\\Delta q)$\",\n",
    "                        \"type\":type_inj,\n",
    "                        \"sigma\":sigma\n",
    "                    }\n",
    "                )\n",
    "                results_dicts.append( #Save estimated injection\n",
    "                    {\n",
    "                        \"time\":t,\n",
    "                        \"node\":i,\n",
    "                        \"inj\":inj_est,\n",
    "                        \"series\":r\"$(\\Delta \\hat{p},\\Delta \\hat{q})$\",\n",
    "                        \"type\":type_inj,\n",
    "                        \"sigma\":sigma\n",
    "                    }\n",
    "                )\n",
    "                wide_results_dicts.append(\n",
    "                    {\n",
    "                        \"time\":t,\n",
    "                        \"node\":i,\n",
    "                        \"dp_hat\":dp_hat_i_t,\n",
    "                        \"dq_hat\":dq_hat_i_t,\n",
    "                        \"dp\":dp[i,t],\n",
    "                        \"dq\":dq[i,t],\n",
    "                        \"sigma\":sigma\n",
    "                    }\n",
    "                )\n",
    "    #Save the results matrices for this noise level\n",
    "    results_matrices.append(\n",
    "        {\n",
    "            'sigma':sigma,\n",
    "            'dp_hat':dp_hat,\n",
    "            'dq_hat':dq_hat\n",
    "        }\n",
    "    )\n",
    "\n",
    "#Make a dataframe from the results dictionaries\n",
    "results_df = pd.DataFrame.from_dict(results_dicts)\n",
    "wide_results_df = pd.DataFrame.from_dict(wide_results_dicts)"
   ]
  },
  {
   "cell_type": "code",
   "execution_count": 316,
   "id": "6da425f4-7902-4ab5-9e62-b167cfadc9af",
   "metadata": {},
   "outputs": [
    {
     "data": {
      "text/plain": [
       "1.2946239999999998"
      ]
     },
     "execution_count": 316,
     "metadata": {},
     "output_type": "execute_result"
    }
   ],
   "source": [
    "#Setup plot variables\n",
    "n_plots = 20\n",
    "plot_width = 7.16 #inches\n",
    "plot_height = 7.16/1.61828 #plot height\n",
    "\n",
    "n_rows = 4\n",
    "n_cols = 5\n",
    "facet_height = plot_height/n_rows\n",
    "facet_width = plot_width/n_cols\n",
    "\n",
    "aspect = facet_width/facet_height #facet_width = aspect*facet_height\n",
    "aspect"
   ]
  },
  {
   "cell_type": "code",
   "execution_count": 326,
   "id": "ed6258c5-99f6-4bdb-9c54-4551f9d6d7bf",
   "metadata": {
    "tags": []
   },
   "outputs": [
    {
     "data": {
      "image/png": "[encoded data removed]",
      "text/plain": [
       "<Figure size 571.772x318.56 with 20 Axes>"
      ]
     },
     "metadata": {
      "needs_background": "light"
     },
     "output_type": "display_data"
    }
   ],
   "source": [
    "#Plot the estimation\n",
    "g = sns.relplot(\n",
    "    data=results_df[results_df[\"node\"].between(50,69)],\n",
    "    x=\"time\",\n",
    "    y=\"inj\",\n",
    "    col=\"node\",\n",
    "    col_wrap=5,\n",
    "    kind='line',\n",
    "    hue='type',\n",
    "    style='series',\n",
    "    palette='Set2',#[cmap.get_under(),cmap.get_over()],\n",
    "    aspect=aspect,\n",
    "    height=facet_height,\n",
    "    facet_kws={\n",
    "        \"sharex\":True,\n",
    "        \"sharey\":False,\n",
    "    },\n",
    "    alpha=0.65,\n",
    "    lw=0.5,\n",
    "    markers=['s','d'],\n",
    "    dashes=[(2,0),(1,1)],\n",
    "    ms=2.5,\n",
    "    mew=0.1\n",
    ")\n",
    "g.set_titles(r\"$i={col_name}$\")\n",
    "g.set_ylabels(r\"$\\Delta p_i,\\Delta q_i$\")\n",
    "g.set_xlabels(r\"$t \\times 15$ m\")\n",
    "g.tight_layout()\n",
    "g.savefig(\"/home/sam/github/PowerSensitivities.jl/figures/spring_22/impl_est_results.pdf\",dpi=300)"
   ]
  },
  {
   "cell_type": "code",
   "execution_count": 327,
   "id": "ad2d3af7-e420-43c4-a788-7146e63fcfca",
   "metadata": {},
   "outputs": [
    {
     "data": {
      "text/plain": [
       "(274, 24)"
      ]
     },
     "execution_count": 327,
     "metadata": {},
     "output_type": "execute_result"
    }
   ],
   "source": [
    "v.shape"
   ]
  },
  {
   "cell_type": "code",
   "execution_count": 230,
   "id": "ddeda46b-61cb-42e1-bd83-4ebc8d1b6df9",
   "metadata": {},
   "outputs": [
    {
     "data": {
      "text/plain": [
       "'/home/sam/github/PowerSensitivities.jl/data/ieee123_ts/HourlyDemand_DB_fixedPF'"
      ]
     },
     "execution_count": 230,
     "metadata": {},
     "output_type": "execute_result"
    }
   ],
   "source": []
  },
  {
   "cell_type": "markdown",
   "id": "2e6bd189-86af-4630-b4f0-95aef1ebfbad",
   "metadata": {},
   "source": [
    "## Plot Results"
   ]
  },
  {
   "cell_type": "code",
   "execution_count": null,
   "id": "e4e750a9-1898-4e39-bf53-ae7d4645158d",
   "metadata": {},
   "outputs": [],
   "source": [
    "\n",
    "#Plot results\n",
    "fig,axes = plt.subplots(nrows=2,ncols=2)\n",
    "\n",
    "\n",
    "#Plot real power estimate\n",
    "plt.plot(dp_hat[:,0],'o')\n",
    "plt.plot(dp[:,0],'o')\n",
    "plt.title(\"$\\Delta \\hat{p}_t$\")\n",
    "\n",
    "#Plot active power estimate\n",
    "plt.figure()\n",
    "plt.plot(dq_hat[:,0],'o')\n",
    "plt.plot(dq[:,0],'o')\n",
    "plt.title(\"$\\Delta \\hat{q}_t$\")\n"
   ]
  },
  {
   "cell_type": "code",
   "execution_count": null,
   "id": "c005922b-b375-4c25-8278-2d865931bc42",
   "metadata": {},
   "outputs": [],
   "source": []
  },
  {
   "cell_type": "code",
   "execution_count": null,
   "id": "034cad60-f970-4df9-9d83-07f7abcd5950",
   "metadata": {},
   "outputs": [],
   "source": []
  },
  {
   "cell_type": "code",
   "execution_count": null,
   "id": "8d70d887-fea5-4483-829d-db31c8241e9b",
   "metadata": {},
   "outputs": [],
   "source": []
  },
  {
   "cell_type": "code",
   "execution_count": null,
   "id": "6753e53a-caef-428f-9409-ae6cced9f378",
   "metadata": {},
   "outputs": [],
   "source": []
  },
  {
   "cell_type": "code",
   "execution_count": null,
   "id": "4ab27371-2d05-4fc8-933e-4ce84516914a",
   "metadata": {},
   "outputs": [],
   "source": []
  },
  {
   "cell_type": "code",
   "execution_count": null,
   "id": "07ec2b16-4281-41d3-acb2-1564c6222442",
   "metadata": {},
   "outputs": [],
   "source": []
  },
  {
   "cell_type": "code",
   "execution_count": null,
   "id": "4c9cdd86-011a-443b-a039-10942dca45e2",
   "metadata": {},
   "outputs": [],
   "source": []
  },
  {
   "cell_type": "code",
   "execution_count": null,
   "id": "b1e1c60f-4ca2-41e1-9774-f3466ea92619",
   "metadata": {},
   "outputs": [],
   "source": []
  },
  {
   "cell_type": "code",
   "execution_count": 460,
   "id": "1973cc2b-d79a-4cd8-9fc5-92dabe479769",
   "metadata": {},
   "outputs": [],
   "source": [
    "dp,dq = dx[:int(len(dx)/2),:],dx[int(len(dx)/2):,:]\n",
    "K_est = np.zeros_like(K)\n",
    "for i,(dp_i,dq_i) in enumerate(zip(dp.T,dq.T)):\n",
    "    DP = np.vstack((dp_i.T,np.ones_like(dp_i).T)).T\n",
    "    lsq = np.linalg.inv(DP.T@DP)@DP.T@dq_i\n",
    "    K_est[i,i] = lsq[0]"
   ]
  },
  {
   "cell_type": "code",
   "execution_count": null,
   "id": "14a1d8d4-b58e-4dd2-8449-8cc258c3f785",
   "metadata": {},
   "outputs": [],
   "source": []
  },
  {
   "cell_type": "markdown",
   "id": "c3e53cbf-e4c7-409a-99e3-2f6d4d8e3082",
   "metadata": {},
   "source": [
    "### Implicit Matrix Recovery Problem"
   ]
  },
  {
   "cell_type": "code",
   "execution_count": null,
   "id": "fe6ece24-a357-4528-961e-88ab0b370a7e",
   "metadata": {},
   "outputs": [],
   "source": []
  },
  {
   "cell_type": "code",
   "execution_count": null,
   "id": "8a2fc772-9ecc-4556-bd3c-3747c57c5e47",
   "metadata": {},
   "outputs": [],
   "source": [
    "imp.reload(mat_sens)\n",
    "lambd_,delta1_,delta2_ = cp.Parameter(),cp.Parameter(),cp.Parameter()\n",
    "lamb_.value,delta1_.value,delta2_.value = 1.25e-1,6e-2,8e-2\n",
    "prob = mat_sens.mat_rec_problem_implicit("
   ]
  },
  {
   "cell_type": "code",
   "execution_count": 458,
   "id": "13d3b7af-2d65-4a4c-8c0c-928b4837bbe4",
   "metadata": {},
   "outputs": [
    {
     "name": "stdout",
     "output_type": "stream",
     "text": [
      "Relative pct. error of the 'true' sensitivity matrix:  1.1973718447073551\n"
     ]
    }
   ],
   "source": [
    "print(\"Relative pct. error of the 'true' sensitivity matrix: \",np.linalg.norm(dv[:,0] - S_tilde@dx[:,0])/np.linalg.norm(dv[:,0])*100)"
   ]
  },
  {
   "cell_type": "code",
   "execution_count": 459,
   "id": "43268a68-ee60-4bc2-9bee-ed8eacc61d06",
   "metadata": {},
   "outputs": [
    {
     "data": {
      "text/plain": [
       "[<matplotlib.lines.Line2D at 0x7f09762caa30>]"
      ]
     },
     "execution_count": 459,
     "metadata": {},
     "output_type": "execute_result"
    },
    {
     "data": {
      "image/png": "[encoded data removed]",
      "text/plain": [
       "<Figure size 432x288 with 1 Axes>"
      ]
     },
     "metadata": {
      "needs_background": "light"
     },
     "output_type": "display_data"
    }
   ],
   "source": [
    "plt.plot(dp[:,0][25:200])\n",
    "plt.plot((np.linalg.inv(svp[0])@dv[:,0])[25:200])"
   ]
  },
  {
   "cell_type": "code",
   "execution_count": 466,
   "id": "14ded161-93cd-4da6-b37b-0a83c475f64e",
   "metadata": {},
   "outputs": [],
   "source": [
    "impl_err = []\n",
    "hat_dq = np.zeros_like(dq)\n",
    "for t,(dx_t,dv_t,svq_t,svp_t,q_t) in enumerate(zip(dx.T,dv.T,svq,svp,q.T)):\n",
    "    #Split out dp_t and dq_t\n",
    "    dp_t,dq_t = dx_t[:int(len(dx_t)/2)],dx_t[int(len(dx_t)/2):]\n",
    "    #get signs of reactive power\n",
    "    #sign_q = np.diag(np.sign(q_t))\n",
    "    #svq_impl_t = svq_t @ (np.multiply(K,-sign_q))\n",
    "    svq_impl_t = svq_t @K\n",
    "    #make S_dagger\n",
    "    S_dag = svp_t + svq_impl_t\n",
    "    #Estimate dv_t,dp_t,dq_t\n",
    "    hat_dv_t = S_dag@dp_t\n",
    "    hat_dp_t = np.linalg.inv(svp_t)@dv_t\n",
    "    hat_dq_t = (np.multiply(K,-sign_q))@dp_t\n",
    "    hat_dq[:,t] = hat_dq_t\n",
    "    #Construct hat_dx_t\n",
    "    hat_dx_t = np.concatenate((hat_dp_t,hat_dq_t))\n",
    "    impl_err.append({\n",
    "        'dv_rel_err':utils.calc_vector_rel_err(v_est=hat_dv_t,v_true=dv_t)*100,\n",
    "        'dp_rel_err':utils.calc_vector_rel_err(v_est=hat_dp_t,v_true=dp_t)*100,\n",
    "        'dq_rel_err':utils.calc_vector_rel_err(v_est=hat_dq_t,v_true=dq_t)*100,\n",
    "        'dx_rel_err':utils.calc_vector_rel_err(v_est=hat_dx_t,v_true=dx_t)*100\n",
    "    })\n",
    "\n",
    "import pandas as pd\n",
    "df = pd.DataFrame.from_dict(impl_err)"
   ]
  }
 ],
 "metadata": {
  "kernelspec": {
   "display_name": "Python 3 (ipykernel)",
   "language": "python",
   "name": "python3"
  },
  "language_info": {
   "codemirror_mode": {
    "name": "ipython",
    "version": 3
   },
   "file_extension": ".py",
   "mimetype": "text/x-python",
   "name": "python",
   "nbconvert_exporter": "python",
   "pygments_lexer": "ipython3",
   "version": "3.9.7"
  }
 },
 "nbformat": 4,
 "nbformat_minor": 5
}
