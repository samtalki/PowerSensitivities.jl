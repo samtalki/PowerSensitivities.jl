{
 "cells": [
  {
   "cell_type": "code",
   "execution_count": 1,
   "id": "9779cc9d-c6a1-4e91-9dd0-1e0000bfb2df",
   "metadata": {
    "tags": []
   },
   "outputs": [
    {
     "data": {
      "text/plain": [
       "<module 'matrix_sensitivities' from '/home/sam/github/PowerSensitivities.jl/py/matrix_sensitivities.py'>"
      ]
     },
     "execution_count": 1,
     "metadata": {},
     "output_type": "execute_result"
    }
   ],
   "source": [
    "import os\n",
    "import imp\n",
    "import seaborn as sns\n",
    "import matplotlib.pyplot as plt\n",
    "import matplotlib\n",
    "import pandas as pd\n",
    "import numpy as np\n",
    "import cvxpy as cp\n",
    "from tqdm import tqdm\n",
    "import opendssdirect as dss\n",
    "from utils import spectral_analysis,make_deviations,make_S_0,make_S_tilde,make_sens_ts\n",
    "from measurements import constrained_linear_measurement_operator\n",
    "import matrix_sensitivities as mat_sens\n",
    "import opendssdirect as dss\n",
    "imp.reload(mat_sens)"
   ]
  },
  {
   "cell_type": "code",
   "execution_count": 2,
   "id": "a6d4e403-a47c-4f6a-a6c3-ef82d1e6b251",
   "metadata": {
    "tags": []
   },
   "outputs": [],
   "source": [
    "sns.set_context(\"paper\")\n",
    "plt.style.use(\"bmh\")\n",
    "matplotlib.rc('text', usetex=True)\n",
    "matplotlib.rc('text.latex', preamble=r'\\usepackage{amsmath,amssymb}')\n",
    "matplotlib.rcParams['font.size'] = 9\n",
    "matplotlib.rcParams['legend.fontsize'] = 7\n",
    "matplotlib.rcParams['lines.linewidth'] = 1"
   ]
  },
  {
   "cell_type": "markdown",
   "id": "64450dff-bec0-4dce-a0be-ea7e239457c6",
   "metadata": {},
   "source": [
    "#### Misc. Experiment utils"
   ]
  },
  {
   "cell_type": "code",
   "execution_count": 153,
   "id": "dd30a76a-ada4-4f60-a4be-1f59c98f0ef1",
   "metadata": {},
   "outputs": [],
   "source": [
    "#Function to make finite difference data with varying noise levels\n",
    "def make_deviations(data,sigma=0):\n",
    "    \"\"\"\n",
    "    Make finite difference data with noise level sigma\n",
    "    \"\"\"\n",
    "    p,q,v = data\n",
    "    (dp,dq,dv) = [np.diff(x) for x in (p,q,v)]\n",
    "    dx = np.vstack((dp,dq)) \n",
    "    return (\n",
    "        dx + np.random.normal(0,sigma,size=dx.shape),\n",
    "        dv + np.random.normal(0,sigma,size=dv.shape)\n",
    "        )\n",
    "\n",
    "#Dictionary of P/Q time series RMSE error dataframes for each experiment.\n",
    "rmse_dfs = {}"
   ]
  },
  {
   "cell_type": "markdown",
   "id": "7d69e18b-c9d7-4225-9c86-6f1b72913524",
   "metadata": {},
   "source": [
    "# Case 1: Constant 0.9 Nonunity Power Factor\n",
    "## Data Management\n",
    "\n",
    "### Make basic constant power factor data for IEEE 123"
   ]
  },
  {
   "cell_type": "code",
   "execution_count": 91,
   "id": "4ab3ef27-d089-4b1d-b288-3a8ee9695302",
   "metadata": {
    "tags": []
   },
   "outputs": [
    {
     "name": "stdout",
     "output_type": "stream",
     "text": [
      "(274, 274) (274, 274) (548, 23) (274, 23)\n"
     ]
    }
   ],
   "source": [
    "path = \"/home/sam/github/PowerSensitivities.jl/data/ieee123_ts/HourlyDemand_DB_fixedPF/\"\n",
    "os.chdir(path)\n",
    "files = \"dvdp.pkl\",\"dvdq.pkl\",'Pnet.pkl','Qnet.pkl','Volts.pkl'\n",
    "dvdp,dvdq,p,q,v = [pd.read_pickle(f).values for f in files]\n",
    "(dx,dv) = make_deviations((p,q,v))\n",
    "sens = make_sens_ts(dvdp,dvdq)\n",
    "svp,svq = sens['svp'],sens['svq']\n",
    "\n",
    "print(svp[0].shape,svq[0].shape,dx.shape,dv.shape)"
   ]
  },
  {
   "cell_type": "markdown",
   "id": "08f46646-7d22-4298-b4ed-e8bcec60387b",
   "metadata": {},
   "source": [
    "### Find the relevant controllable PQ buses \n",
    "\n",
    "- Find all buses with 0.9 fixed power factor (loads)\n",
    "- Make truncated $\\tilde{S}$ matrix \n",
    "- Make truncated training data $\\Delta X, \\Delta V$\n",
    "- Make truncated implicit $Q-P$ representation matrix $K$"
   ]
  },
  {
   "cell_type": "code",
   "execution_count": 92,
   "id": "8dabdaeb-6ae9-4c4b-88fc-7b64ec30f9c5",
   "metadata": {},
   "outputs": [
    {
     "name": "stderr",
     "output_type": "stream",
     "text": [
      "/tmp/ipykernel_2735/2676379099.py:2: RuntimeWarning: invalid value encountered in true_divide\n",
      "  pf = np.cos(np.arctan(np.divide(q,p)))\n"
     ]
    }
   ],
   "source": [
    "#Find the buses with loads (controlled buses where 0.9 power factor holds)\n",
    "pf = np.cos(np.arctan(np.divide(q,p)))\n",
    "study_bus = [] #Controlled buses\n",
    "for bus_i,pf_i in enumerate(pf):\n",
    "    if np.isclose(np.mean(pf_i),0.9):\n",
    "        study_bus.append(bus_i)"
   ]
  },
  {
   "cell_type": "markdown",
   "id": "6644bad4-f648-4cae-8eae-05a8bbe3d8e6",
   "metadata": {},
   "source": [
    "### Make truncated slices of the data for the studied PQ buses"
   ]
  },
  {
   "cell_type": "code",
   "execution_count": 154,
   "id": "45cd265e-cb09-437b-9e3b-33e13d5e6b13",
   "metadata": {},
   "outputs": [
    {
     "name": "stdout",
     "output_type": "stream",
     "text": [
      "stilde, svp,svq shapes:  (95, 190) (95, 95) (95, 95)\n",
      "K,svq_impl shapes:  (95, 95) (95, 95)\n",
      "Data shapes:  (95, 24) (95, 24) (95, 24)\n",
      "Diff shapes:  (190, 23) (95, 23)\n"
     ]
    }
   ],
   "source": [
    "#Make truncated sensitivities matrices for the studied buses \n",
    "svp0 = [svp_t[np.ix_(study_bus,study_bus)] for svp_t in svp]\n",
    "svq0 = [svq_t[np.ix_(study_bus,study_bus)] for svq_t in svq]\n",
    "S_tilde = [make_S_tilde(svp0_t,svq0_t) for svp0_t,svq0_t in zip(svp0,svq0)]\n",
    "\n",
    "# Make implicit representation for the studied buses\n",
    "imp.reload(mat_sens)\n",
    "pf = 0.9*np.ones(svp0[0].shape[0])\n",
    "K = mat_sens.K(pf)\n",
    "svq_impl = [svq0_t@K for svq0_t in svq0]\n",
    "\n",
    "\n",
    "#Make truncated training data\n",
    "p0,q0,v0 = p[np.ix_(study_bus)],q[np.ix_(study_bus)],v[np.ix_(study_bus)] #Truncated measurement data\n",
    "diff = make_deviations((p0,q0,v0)) #Deviations\n",
    "(dx,dv) = diff #Truncated multivariate time series\n",
    "\n",
    "\n",
    "#Print shapes\n",
    "print(\"stilde, svp,svq shapes: \",S_tilde[0].shape,svp0[0].shape,svq0[0].shape)\n",
    "print(\"K,svq_impl shapes: \",K.shape,svq_impl[0].shape)\n",
    "print(\"Data shapes: \",p0.shape,q0.shape,v0.shape)\n",
    "print(\"Diff shapes: \",dx.shape,dv.shape)"
   ]
  },
  {
   "cell_type": "markdown",
   "id": "09da12f2-1261-4470-8d51-e606417695db",
   "metadata": {},
   "source": [
    "## Perform the Implicit P-Q estimation with varying noise levels"
   ]
  },
  {
   "cell_type": "code",
   "execution_count": null,
   "id": "0d6cfeeb-68c8-498f-ba9d-aec373700da4",
   "metadata": {},
   "outputs": [],
   "source": []
  },
  {
   "cell_type": "code",
   "execution_count": 155,
   "id": "eea421bd-6762-4adb-9404-8662a0676149",
   "metadata": {},
   "outputs": [],
   "source": [
    "#varying noise values\n",
    "#sigma = np.sqrt(abs(np.mean(dx))*(0.1/100)) #Assume 0.1 pct. error of the AMI sensor for uncertainty quantitification per NIST.\n",
    "#noise_seeds = np.arange(2022,2052) #Seeds for resampling noise levels\n",
    "#Constant noise value\n",
    "sigma=0\n",
    "noise_seeds = [2022]\n",
    "\n",
    "\n",
    "#Make Sdagger matrix\n",
    "S_dag = [(svp0_t + svq_impl_t) for svp0_t,svq_impl_t in zip(svp0,svq_impl)]\n",
    "n,_ = S_dag[0].shape\n",
    "\n",
    "#Results dictionaries\n",
    "results_dicts = []\n",
    "wide_results_dicts =[]\n",
    "\n",
    "#Results matrices\n",
    "results_matrices = []\n",
    "\n",
    "for seed in noise_seeds:\n",
    "\n",
    "    np.random.seed(seed)\n",
    "    #Make deviations at the noise level\n",
    "    diff = make_deviations((p0,q0,v0),sigma=sigma) #Deviations\n",
    "    (dx,dv) = diff #multivariate time series estimation\n",
    "\n",
    "\n",
    "    #Get true dp and dq\n",
    "    dp,dq = dx[:n,:],dx[n:,:]\n",
    "\n",
    "    #Make results matrix for dp and dq\n",
    "    dp_hat,dq_hat = np.zeros_like(dp),np.zeros_like(dq)\n",
    "\n",
    "    #Estimate dp and dq\n",
    "    for t,(S_dag_t,dv_t) in enumerate(zip(S_dag,dv.T)):\n",
    "        dp_hat[:,t] = np.linalg.inv(S_dag_t)@dv_t #Compute the active power estimate\n",
    "        dq_hat[:,t] = K@dp_hat[:,t] #Compute the reactive power estimate\n",
    "\n",
    "        #Save each estimate at each node as a dictionary for plotting\n",
    "        for i,(dp_hat_i_t,dq_hat_i_t) in enumerate(zip(dp_hat[:,t],dq_hat[:,t])):\n",
    "            #Collect injections, injection estimates, and injection types\n",
    "            types,injs,inj_ests = ['P','Q'],[dp[i,t],dq[i,t]],[dp_hat_i_t,dq_hat_i_t]\n",
    "            for type_inj,inj,inj_est in zip(types,injs,inj_ests):\n",
    "                results_dicts.append( #Save results for the true injection\n",
    "                    {\n",
    "                        \"time\":t,\n",
    "                        \"node\":i,\n",
    "                        \"inj\":inj,\n",
    "                        \"series\":r\"$(\\Delta p,\\Delta q)$\",\n",
    "                        \"type\":type_inj,\n",
    "                        \"sq_err\":abs(inj-inj_est)**2,\n",
    "                        \"sigma\":sigma\n",
    "                    }\n",
    "                )\n",
    "                results_dicts.append( #Save estimated injection\n",
    "                    {\n",
    "                        \"time\":t,\n",
    "                        \"node\":i,\n",
    "                        \"inj\":inj_est,\n",
    "                        \"series\":r\"$(\\Delta \\hat{p},\\Delta \\hat{q})$\",\n",
    "                        \"sq_err\":abs(inj-inj_est)**2,\n",
    "                        \"type\":type_inj,\n",
    "                        \"sigma\":sigma\n",
    "                    }\n",
    "                )\n",
    "                wide_results_dicts.append(\n",
    "                    {\n",
    "                        \"time\":t,\n",
    "                        \"node\":i,\n",
    "                        \"dp_hat\":dp_hat_i_t,\n",
    "                        \"dq_hat\":dq_hat_i_t,\n",
    "                        \"dp\":dp[i,t],\n",
    "                        \"dq\":dq[i,t],\n",
    "                        \"dp_sq_err\":abs(dp_hat_i_t-dp[i,t])**2,\n",
    "                        \"dq_sq_err\":abs(dq_hat_i_t-dq[i,t])**2,\n",
    "                        \"sigma\":sigma\n",
    "                    }\n",
    "                )\n",
    "    #Save the results matrices for this noise level\n",
    "    results_matrices.append(\n",
    "        {\n",
    "            'sigma':sigma,\n",
    "            'dp_hat':dp_hat,\n",
    "            'dq_hat':dq_hat\n",
    "        }\n",
    "    )\n",
    "\n",
    "#Make a dataframe from the results dictionaries\n",
    "results_df = pd.DataFrame.from_dict(results_dicts)\n",
    "wide_results_df = pd.DataFrame.from_dict(wide_results_dicts)"
   ]
  },
  {
   "cell_type": "code",
   "execution_count": null,
   "id": "a5b25904-1c51-4b14-9277-db04eeb40c50",
   "metadata": {},
   "outputs": [],
   "source": []
  },
  {
   "cell_type": "markdown",
   "id": "ff763d50-5010-4630-84cd-8095ff5b3c60",
   "metadata": {},
   "source": [
    "## Save the RMSE results for each node and each injection type"
   ]
  },
  {
   "cell_type": "code",
   "execution_count": 156,
   "id": "4d226333-60bd-4dd0-9174-0e47860f3a37",
   "metadata": {},
   "outputs": [],
   "source": [
    "rmse_dicts = [] #List of dicts to store rmses\n",
    "est_results_df = results_df[results_df[\"series\"]!=r\"$(\\Delta p,\\Delta q)$\"] #Results dataframe without observations of the true signal\n",
    "for node_idx in est_results_df[\"node\"].unique():\n",
    "    node_df = est_results_df[est_results_df[\"node\"]==node_idx] #Get the observations for this node\n",
    "    p_node_df,q_node_df = node_df[node_df[\"type\"]==\"P\"],node_df[node_df[\"type\"]==\"Q\"] #Get the P and Q observations for this node\n",
    "    assert len(p_node_df) == len(q_node_df) == 23 #Check dimensions are as expcted\n",
    "    \n",
    "    #Compute the P and Q rmse for this node\n",
    "    p_rmse = np.sqrt((1/len(p_node_df))*np.sum(p_node_df[\"sq_err\"])) \n",
    "    q_rmse = np.sqrt((1/len(q_node_df))*np.sum(q_node_df[\"sq_err\"]))\n",
    "    \n",
    "    #Save as dictionaries\n",
    "    rmse_dicts.append({\n",
    "        \"node\":node_idx,\n",
    "        \"type\":\"P\",\n",
    "        \"rmse\":p_rmse,\n",
    "    })\n",
    "    rmse_dicts.append({\n",
    "        \"node\":node_idx,\n",
    "        \"type\":\"Q\",\n",
    "        \"rmse\":q_rmse\n",
    "    })\n",
    "    \n",
    "rmse_df = pd.DataFrame.from_dict(rmse_dicts)\n",
    "rmse_dfs[\"constant\"] = rmse_df"
   ]
  },
  {
   "cell_type": "markdown",
   "id": "adbe69f2-b513-4345-b921-7468e033e5b8",
   "metadata": {},
   "source": [
    "### Plot summary for multiple buses"
   ]
  },
  {
   "cell_type": "code",
   "execution_count": 69,
   "id": "6da425f4-7902-4ab5-9e62-b167cfadc9af",
   "metadata": {},
   "outputs": [
    {
     "data": {
      "text/plain": [
       "1.2946239999999998"
      ]
     },
     "execution_count": 69,
     "metadata": {},
     "output_type": "execute_result"
    }
   ],
   "source": [
    "#Setup plot variables\n",
    "n_plots = 10\n",
    "plot_width = 7.16 #inches\n",
    "plot_height = (7.16/1.61828)/2 #plot height\n",
    "\n",
    "n_rows = 2\n",
    "n_cols = 5\n",
    "facet_height = plot_height/n_rows\n",
    "facet_width = plot_width/n_cols\n",
    "\n",
    "aspect = facet_width/facet_height #facet_width = aspect*facet_height\n",
    "aspect"
   ]
  },
  {
   "cell_type": "code",
   "execution_count": 76,
   "id": "ed6258c5-99f6-4bdb-9c54-4551f9d6d7bf",
   "metadata": {
    "tags": []
   },
   "outputs": [
    {
     "data": {
      "image/png": "[encoded data removed]",
      "text/plain": [
       "<Figure size 571.772x159.28 with 10 Axes>"
      ]
     },
     "metadata": {
      "needs_background": "light"
     },
     "output_type": "display_data"
    }
   ],
   "source": [
    "#Plot the estimation\n",
    "g = sns.relplot(\n",
    "    data=results_df[results_df[\"node\"].between(55,64)],\n",
    "    x=\"time\",\n",
    "    y=\"inj\",\n",
    "    col=\"node\",\n",
    "    col_wrap=5,\n",
    "    kind='line',\n",
    "    hue='type',\n",
    "    style='series',\n",
    "    palette='Set2',#[cmap.get_under(),cmap.get_over()],\n",
    "    aspect=aspect,\n",
    "    height=facet_height,\n",
    "    facet_kws={\n",
    "        \"sharex\":True,\n",
    "        \"sharey\":False,\n",
    "    },\n",
    "    alpha=0.65,\n",
    "    lw=0.5,\n",
    "    markers=['s','d'],\n",
    "    dashes=[(2,0),(1,1)],\n",
    "    ms=2.5,\n",
    "    mew=0.1\n",
    ")\n",
    "g.set_titles(r\"$i={col_name}$\")\n",
    "g.set_ylabels(r\"$\\Delta p_i,\\Delta q_i$\")\n",
    "g.set_xlabels(r\"Time $t$ (hrs)\")\n",
    "g.fig.suptitle(r\"Constant Power Factor at all Buses ($\\alpha_i = 0.9 $), Actual AMI Active Power Demands\")\n",
    "g.tight_layout()\n",
    "g.savefig(\"/home/sam/github/PowerSensitivities.jl/figures/spring_22/10bus_constant_pf_impl_est_results.pdf\",dpi=300)"
   ]
  },
  {
   "cell_type": "markdown",
   "id": "97497054-e34c-47d9-a4c2-305fa395e2b8",
   "metadata": {},
   "source": [
    "#### Old dot plot"
   ]
  },
  {
   "cell_type": "code",
   "execution_count": 128,
   "id": "ddeda46b-61cb-42e1-bd83-4ebc8d1b6df9",
   "metadata": {
    "collapsed": true,
    "jupyter": {
     "outputs_hidden": true,
     "source_hidden": true
    },
    "tags": []
   },
   "outputs": [
    {
     "data": {
      "text/plain": [
       "Text(0.5, 1.0, '$\\\\Delta \\\\hat{q}_t$')"
      ]
     },
     "execution_count": 128,
     "metadata": {},
     "output_type": "execute_result"
    },
    {
     "data": {
      "image/png": "[encoded data removed]",
      "text/plain": [
       "<Figure size 432x288 with 4 Axes>"
      ]
     },
     "metadata": {
      "needs_background": "light"
     },
     "output_type": "display_data"
    },
    {
     "data": {
      "image/png": "[encoded data removed]",
      "text/plain": [
       "<Figure size 432x288 with 1 Axes>"
      ]
     },
     "metadata": {
      "needs_background": "light"
     },
     "output_type": "display_data"
    }
   ],
   "source": [
    "\n",
    "#Plot results\n",
    "fig,axes = plt.subplots(nrows=2,ncols=2)\n",
    "\n",
    "\n",
    "#Plot real power estimate\n",
    "plt.plot(dp_hat[:,0],'o')\n",
    "plt.plot(dp[:,0],'o')\n",
    "plt.title(\"$\\Delta \\hat{p}_t$\")\n",
    "\n",
    "#Plot active power estimate\n",
    "plt.figure()\n",
    "plt.plot(dq_hat[:,0],'o')\n",
    "plt.plot(dq[:,0],'o')\n",
    "plt.title(\"$\\Delta \\hat{q}_t$\")\n"
   ]
  },
  {
   "cell_type": "markdown",
   "id": "2e6bd189-86af-4630-b4f0-95aef1ebfbad",
   "metadata": {},
   "source": [
    "# 2. Case 2: Time Varying Power Factor\n",
    "\n",
    "- Now allows the power factors to freely vary\n",
    "- Assume that we know the implicit representation matrix $\\mathbf{K}_t$ across time.\n",
    "\n",
    "## 2.1 Data Loading"
   ]
  },
  {
   "cell_type": "code",
   "execution_count": 158,
   "id": "e4e750a9-1898-4e39-bf53-ae7d4645158d",
   "metadata": {},
   "outputs": [
    {
     "name": "stdout",
     "output_type": "stream",
     "text": [
      "(274, 274) (274, 274) (548, 23) (274, 23)\n"
     ]
    }
   ],
   "source": [
    "path = \"/home/sam/github/PowerSensitivities.jl/data/ieee123_ts/Synthetic_DB/\"\n",
    "os.chdir(path)\n",
    "files = \"dvdp.pkl\",\"dvdq.pkl\",'Pnet.pkl','Qnet.pkl','Volts.pkl'\n",
    "dvdp,dvdq,p,q,v = [pd.read_pickle(f).values for f in files]\n",
    "sens = make_sens_ts(dvdp,dvdq)\n",
    "data = make_deviations((p,q,v))\n",
    "(dx,dv) = data\n",
    "svp,svq = sens['svp'],sens['svq']\n",
    "print(svp[0].shape,svq[0].shape,dx.shape,dv.shape)"
   ]
  },
  {
   "cell_type": "code",
   "execution_count": null,
   "id": "00dcc6c4-116a-4fb1-b0b3-e42f376226ff",
   "metadata": {},
   "outputs": [],
   "source": []
  },
  {
   "cell_type": "markdown",
   "id": "fd24b739-541a-4537-983d-f7dbc4c2e948",
   "metadata": {},
   "source": [
    "## 2.2 Make truncated data\n",
    "\n",
    "### 2.2.1 Truncated sensitivities and time series data\n",
    "### 2.2.2 Truncated $\\mathbf{K}_t$ matrix for each time step"
   ]
  },
  {
   "cell_type": "code",
   "execution_count": 159,
   "id": "c005922b-b375-4c25-8278-2d865931bc42",
   "metadata": {},
   "outputs": [],
   "source": [
    "#Make truncated sensitivities matrices for the studied buses \n",
    "svp0 = [svp_t[np.ix_(study_bus,study_bus)] for svp_t in svp]\n",
    "svq0 = [svq_t[np.ix_(study_bus,study_bus)] for svq_t in svq]\n",
    "S_tilde = [make_S_tilde(svp0_t,svq0_t) for svp0_t,svq0_t in zip(svp0,svq0)]\n",
    "\n",
    "#Make truncated training data\n",
    "p0,q0,v0 = p[np.ix_(study_bus)],q[np.ix_(study_bus)],v[np.ix_(study_bus)] #Truncated measurement data\n",
    "diff = make_deviations((p0,q0,v0)) #Deviations\n",
    "(dx,dv) = diff #Truncated multivariate time series\n",
    "\n",
    "#Make power factor timeseries, K matrix time series, and svq_impl time series.\n",
    "pf0 = np.cos(np.arctan(np.divide(q0,p0)))\n",
    "K = [mat_sens.K(pf_t) for pf_t in pf0.T]\n",
    "svq_impl = [svq0_t@K_t for (svq0_t,K_t) in zip(svq0,K)]"
   ]
  },
  {
   "cell_type": "code",
   "execution_count": 160,
   "id": "d7393998-81e5-4fd6-ae57-4c91cdc5e100",
   "metadata": {},
   "outputs": [
    {
     "name": "stdout",
     "output_type": "stream",
     "text": [
      "Max bus power factor: 0.9061831399952655, Min bus power factor: 0.7954317200324987\n"
     ]
    }
   ],
   "source": [
    "#Print the bus power factors observed for reference\n",
    "pf_min,pf_max = np.min(pf0),np.max(pf0)\n",
    "print(\"Max bus power factor: {pf_max}, Min bus power factor: {pf_min}\".format(pf_max=pf_max,pf_min=pf_min))"
   ]
  },
  {
   "cell_type": "markdown",
   "id": "c6c405a5-55ec-4a3e-a4e8-db4ac3f0092d",
   "metadata": {},
   "source": [
    "## 2.3 Perform time varying estimation with varying noise levels"
   ]
  },
  {
   "cell_type": "code",
   "execution_count": 161,
   "id": "8d70d887-fea5-4483-829d-db31c8241e9b",
   "metadata": {},
   "outputs": [],
   "source": [
    "#varying noise values\n",
    "#sigma = np.sqrt(abs(np.mean(dx))*(0.1/100)) #Assume 0.1 pct. error of the AMI sensor for uncertainty quantitification per NIST.\n",
    "#noise_seeds = np.arange(2022,2052) #Seeds for resampling noise levels\n",
    "#Constant noise value\n",
    "sigma=0\n",
    "noise_seeds = [2022]\n",
    "\n",
    "#Make Sdagger matrix\n",
    "S_dag = [(svp0_t + svq_impl_t) for svp0_t,svq_impl_t in zip(svp0,svq_impl)]\n",
    "n,_ = S_dag[0].shape\n",
    "\n",
    "#Results dictionaries\n",
    "results_dicts = []\n",
    "wide_results_dicts =[]\n",
    "\n",
    "#Results matrices\n",
    "results_matrices = []\n",
    "\n",
    "for seed in noise_seeds:\n",
    "\n",
    "    np.random.seed(seed)\n",
    "    #Make deviations at the noise level\n",
    "    diff = make_deviations((p0,q0,v0),sigma=sigma) #Deviations\n",
    "    (dx,dv) = diff #multivariate time series estimation\n",
    "\n",
    "\n",
    "    #Get true dp and dq\n",
    "    dp,dq = dx[:n,:],dx[n:,:]\n",
    "\n",
    "    #Make results matrix for dp and dq\n",
    "    dp_hat,dq_hat = np.zeros_like(dp),np.zeros_like(dq)\n",
    "\n",
    "    #Estimate dp and dq\n",
    "    for t,(K_t,S_dag_t,dv_t) in enumerate(zip(K,S_dag,dv.T)):\n",
    "        dp_hat[:,t] = np.linalg.inv(S_dag_t)@dv_t #Compute the active power estimate\n",
    "        dq_hat[:,t] = K_t@dp_hat[:,t] #Compute the reactive power estimate\n",
    "\n",
    "        #Save each estimate at each node as a dictionary for plotting\n",
    "        for i,(dp_hat_i_t,dq_hat_i_t) in enumerate(zip(dp_hat[:,t],dq_hat[:,t])):\n",
    "            #Collect injections, injection estimates, and injection types\n",
    "            types,injs,inj_ests = ['P','Q'],[dp[i,t],dq[i,t]],[dp_hat_i_t,dq_hat_i_t]\n",
    "            for type_inj,inj,inj_est in zip(types,injs,inj_ests):\n",
    "                results_dicts.append( #Save results for the true injection\n",
    "                    {\n",
    "                        \"time\":t,\n",
    "                        \"node\":i,\n",
    "                        \"inj\":inj,\n",
    "                        \"series\":r\"$(\\Delta p,\\Delta q)$\",\n",
    "                        \"type\":type_inj,\n",
    "                        \"sq_err\":abs(inj-inj_est)**2,\n",
    "                        \"sigma\":sigma\n",
    "                    }\n",
    "                )\n",
    "                results_dicts.append( #Save estimated injection\n",
    "                    {\n",
    "                        \"time\":t,\n",
    "                        \"node\":i,\n",
    "                        \"inj\":inj_est,\n",
    "                        \"series\":r\"$(\\Delta \\hat{p},\\Delta \\hat{q})$\",\n",
    "                        \"type\":type_inj,\n",
    "                        \"sq_err\":abs(inj-inj_est)**2,\n",
    "                        \"sigma\":sigma\n",
    "                    }\n",
    "                )\n",
    "                wide_results_dicts.append(\n",
    "                    {\n",
    "                        \"time\":t,\n",
    "                        \"node\":i,\n",
    "                        \"dp_hat\":dp_hat_i_t,\n",
    "                        \"dq_hat\":dq_hat_i_t,\n",
    "                        \"dp\":dp[i,t],\n",
    "                        \"dq\":dq[i,t],\n",
    "                        \"dp_sq_err\":abs(dp_hat_i_t-dp[i,t])**2,\n",
    "                        \"dq_sq_err\":abs(dq_hat_i_t-dq[i,t])**2,\n",
    "                        \"sigma\":sigma\n",
    "                    }\n",
    "                )\n",
    "    #Save the results matrices for this noise level\n",
    "    results_matrices.append(\n",
    "        {\n",
    "            'sigma':sigma,\n",
    "            'dp_hat':dp_hat,\n",
    "            'dq_hat':dq_hat\n",
    "        }\n",
    "    )\n",
    "\n",
    "#Make a dataframe from the results dictionaries\n",
    "results_df = pd.DataFrame.from_dict(results_dicts)\n",
    "wide_results_df = pd.DataFrame.from_dict(wide_results_dicts)"
   ]
  },
  {
   "cell_type": "markdown",
   "id": "b03b74ca-7be8-4451-8e46-145db75ef59a",
   "metadata": {},
   "source": [
    "## 2.4 Plot summary of time varying pf estimation for multiple buses"
   ]
  },
  {
   "cell_type": "code",
   "execution_count": 162,
   "id": "0fa769b3-301a-4dbd-bb58-1edc53a3f9a9",
   "metadata": {},
   "outputs": [
    {
     "data": {
      "text/plain": [
       "1.2946239999999998"
      ]
     },
     "execution_count": 162,
     "metadata": {},
     "output_type": "execute_result"
    }
   ],
   "source": [
    "#Setup plot variables\n",
    "n_plots = 10\n",
    "plot_width = 7.16 #inches\n",
    "plot_height = (7.16/1.61828)/2 #plot height\n",
    "\n",
    "n_rows = 2\n",
    "n_cols = 5\n",
    "facet_height = plot_height/n_rows\n",
    "facet_width = plot_width/n_cols\n",
    "\n",
    "aspect = facet_width/facet_height #facet_width = aspect*facet_height\n",
    "aspect"
   ]
  },
  {
   "cell_type": "code",
   "execution_count": 163,
   "id": "8fc9179a-06dd-4252-ab5d-b3195d4b7b7c",
   "metadata": {
    "tags": []
   },
   "outputs": [
    {
     "data": {
      "image/png": "[encoded data removed]",
      "text/plain": [
       "<Figure size 571.772x159.28 with 10 Axes>"
      ]
     },
     "metadata": {
      "needs_background": "light"
     },
     "output_type": "display_data"
    }
   ],
   "source": [
    "#Plot the estimation\n",
    "g = sns.relplot(\n",
    "    data=results_df[results_df[\"node\"].between(55,64)],\n",
    "    x=\"time\",\n",
    "    y=\"inj\",\n",
    "    col=\"node\",\n",
    "    col_wrap=5,\n",
    "    kind='line',\n",
    "    hue='type',\n",
    "    style='series',\n",
    "    palette='Set2',#[cmap.get_under(),cmap.get_over()],\n",
    "    aspect=aspect,\n",
    "    height=facet_height,\n",
    "    facet_kws={\n",
    "        \"sharex\":True,\n",
    "        \"sharey\":False,\n",
    "    },\n",
    "    alpha=0.65,\n",
    "    lw=0.5,\n",
    "    markers=['s','d'],\n",
    "    dashes=[(2,0),(1,1)],\n",
    "    ms=2.5,\n",
    "    mew=0.1\n",
    ")\n",
    "g.set_titles(r\"$i={col_name}$\")\n",
    "g.set_ylabels(r\"$\\Delta p_i,\\Delta q_i$\")\n",
    "g.set_xlabels(r\"Time $t$ (hrs)\")\n",
    "g.fig.suptitle(r\"Varying Power Factors Between Buses ($\\alpha_i \\in [0.8,0.9]$), Synthetic Active Power Demands\")\n",
    "g.tight_layout()\n",
    "g.savefig(\"/home/sam/github/PowerSensitivities.jl/figures/spring_22/10bus_vary_pf_impl_est_results.pdf\",dpi=300)"
   ]
  },
  {
   "cell_type": "markdown",
   "id": "652e2549-0bce-468e-a8a7-bd7fcb48acf1",
   "metadata": {},
   "source": [
    "## Save the RMSE results for each node and each injection type"
   ]
  },
  {
   "cell_type": "code",
   "execution_count": 164,
   "id": "341fcdfd-6220-4868-a1c9-4e11c0ca311c",
   "metadata": {},
   "outputs": [],
   "source": [
    "rmse_dicts = [] #List of dicts to store rmses\n",
    "est_results_df = results_df[results_df[\"series\"]!=r\"$(\\Delta p,\\Delta q)$\"] #Results dataframe without observations of the true signal\n",
    "for node_idx in est_results_df[\"node\"].unique():\n",
    "    node_df = est_results_df[est_results_df[\"node\"]==node_idx] #Get the observations for this node\n",
    "    p_node_df,q_node_df = node_df[node_df[\"type\"]==\"P\"],node_df[node_df[\"type\"]==\"Q\"] #Get the P and Q observations for this node\n",
    "    assert len(p_node_df) == len(q_node_df) == 23 #Check dimensions are as expcted\n",
    "    \n",
    "    #Compute the P and Q rmse for this node\n",
    "    p_rmse = np.sqrt((1/len(p_node_df))*np.sum(p_node_df[\"sq_err\"])) \n",
    "    q_rmse = np.sqrt((1/len(q_node_df))*np.sum(q_node_df[\"sq_err\"]))\n",
    "    \n",
    "    #Save as dictionaries\n",
    "    rmse_dicts.append({\n",
    "        \"node\":node_idx,\n",
    "        \"type\":\"P\",\n",
    "        \"rmse\":p_rmse,\n",
    "    })\n",
    "    rmse_dicts.append({\n",
    "        \"node\":node_idx,\n",
    "        \"type\":\"Q\",\n",
    "        \"rmse\":q_rmse\n",
    "    })\n",
    "    \n",
    "rmse_df = pd.DataFrame.from_dict(rmse_dicts)\n",
    "rmse_dfs[\"varying\"] = rmse_df"
   ]
  },
  {
   "cell_type": "markdown",
   "id": "bc889e45-4bbd-4415-a6e3-a97d6841f85f",
   "metadata": {},
   "source": [
    "# Plot the Meta-Summary RMSE for the case of 0 noise"
   ]
  },
  {
   "cell_type": "code",
   "execution_count": 184,
   "id": "cc200b8f-e39a-41a7-9d9b-6d91380cd0e4",
   "metadata": {
    "tags": []
   },
   "outputs": [
    {
     "data": {
      "image/png": "[encoded data removed]",
      "text/plain": [
       "<Figure size 252x155.721 with 2 Axes>"
      ]
     },
     "metadata": {
      "needs_background": "light"
     },
     "output_type": "display_data"
    }
   ],
   "source": [
    "#Plot the relative error per node\n",
    "# Plot the orbital period with horizontal boxes\n",
    "# Initialize the figure with a logarithmic x axis\n",
    "f, axes = plt.subplots(\n",
    "    figsize=(3.5, 3.5/1.61828),\n",
    "    sharex=True,\n",
    "    constrained_layout=True,\n",
    "    nrows=2\n",
    ")\n",
    "axes[0].set_xscale(\"log\")\n",
    "axes[1].set_xscale(\"log\")\n",
    "\n",
    "sns.boxplot(x=\"rmse\", y=\"type\", data=rmse_dfs[\"constant\"],\n",
    "            whis=[0, 100], width=.6, palette=\"Set2\",ax=axes[0])\n",
    "\n",
    "# Add in points to show each observation\n",
    "sns.stripplot(x=\"rmse\", y=\"type\", data=rmse_dfs[\"constant\"],\n",
    "              size=4, color=\".3\", linewidth=0,ax=axes[0])\n",
    "\n",
    "sns.boxplot(x=\"rmse\", y=\"type\", data=rmse_dfs[\"varying\"],\n",
    "            whis=[0, 100], width=.6, palette=\"Set2\",ax=axes[1])\n",
    "\n",
    "# Add in points to show each observation\n",
    "sns.stripplot(x=\"rmse\", y=\"type\", data=rmse_dfs[\"varying\"],\n",
    "              size=4, color=\".3\", linewidth=0,ax=axes[1],alpha=0.5)\n",
    "\n",
    "# Tweak the visual presentation\n",
    "axes[0].xaxis.grid(True)\n",
    "axes[0].set(ylabel=\"Type\",xlabel=\"\",title=r\"Constant Bus Power Factors $\\alpha_i = 0.9$\")\n",
    "axes[1].xaxis.grid(True)\n",
    "axes[1].set(ylabel=\"Type\",xlabel=\"RMSE (kW or kVAR)\",title=r\"Varying Bus Power Factors $\\alpha_i \\in [0.8,0.9]$\")\n",
    "sns.despine(trim=True, left=True)\n",
    "plt.savefig(\"/home/sam/github/PowerSensitivities.jl/figures/spring_22/rmse_by_bus_rmse.pdf\",dpi=300)"
   ]
  },
  {
   "cell_type": "code",
   "execution_count": null,
   "id": "07ec2b16-4281-41d3-acb2-1564c6222442",
   "metadata": {},
   "outputs": [],
   "source": []
  },
  {
   "cell_type": "code",
   "execution_count": null,
   "id": "4c9cdd86-011a-443b-a039-10942dca45e2",
   "metadata": {},
   "outputs": [],
   "source": []
  },
  {
   "cell_type": "code",
   "execution_count": null,
   "id": "b1e1c60f-4ca2-41e1-9774-f3466ea92619",
   "metadata": {},
   "outputs": [],
   "source": []
  },
  {
   "cell_type": "code",
   "execution_count": null,
   "id": "1973cc2b-d79a-4cd8-9fc5-92dabe479769",
   "metadata": {},
   "outputs": [],
   "source": []
  },
  {
   "cell_type": "code",
   "execution_count": null,
   "id": "14a1d8d4-b58e-4dd2-8449-8cc258c3f785",
   "metadata": {},
   "outputs": [],
   "source": []
  },
  {
   "cell_type": "code",
   "execution_count": null,
   "id": "2683c7b3-de11-4938-86fa-a35bd9fcf902",
   "metadata": {},
   "outputs": [],
   "source": []
  },
  {
   "cell_type": "code",
   "execution_count": null,
   "id": "38e8e85a-dd62-4ae5-ac7c-5057e3d64fb8",
   "metadata": {},
   "outputs": [],
   "source": []
  },
  {
   "cell_type": "code",
   "execution_count": null,
   "id": "ead6a23d-87e6-4b8a-bf75-7618a6378706",
   "metadata": {},
   "outputs": [],
   "source": []
  },
  {
   "cell_type": "code",
   "execution_count": null,
   "id": "e39cd6c3-017d-4186-9b4c-e7ea529b989d",
   "metadata": {},
   "outputs": [],
   "source": []
  },
  {
   "cell_type": "code",
   "execution_count": null,
   "id": "2a581f38-d359-4fd2-8b12-417211f75cca",
   "metadata": {},
   "outputs": [],
   "source": []
  },
  {
   "cell_type": "code",
   "execution_count": null,
   "id": "4789fc4a-8523-4395-888d-c995a64cacaa",
   "metadata": {},
   "outputs": [],
   "source": []
  },
  {
   "cell_type": "code",
   "execution_count": 459,
   "id": "43268a68-ee60-4bc2-9bee-ed8eacc61d06",
   "metadata": {},
   "outputs": [
    {
     "data": {
      "text/plain": [
       "[<matplotlib.lines.Line2D at 0x7f09762caa30>]"
      ]
     },
     "execution_count": 459,
     "metadata": {},
     "output_type": "execute_result"
    },
    {
     "data": {
      "image/png": "[encoded data removed]",
      "text/plain": [
       "<Figure size 432x288 with 1 Axes>"
      ]
     },
     "metadata": {
      "needs_background": "light"
     },
     "output_type": "display_data"
    }
   ],
   "source": [
    "plt.plot(dp[:,0][25:200])\n",
    "plt.plot((np.linalg.inv(svp[0])@dv[:,0])[25:200])"
   ]
  },
  {
   "cell_type": "code",
   "execution_count": 466,
   "id": "14ded161-93cd-4da6-b37b-0a83c475f64e",
   "metadata": {},
   "outputs": [],
   "source": [
    "impl_err = []\n",
    "hat_dq = np.zeros_like(dq)\n",
    "for t,(dx_t,dv_t,svq_t,svp_t,q_t) in enumerate(zip(dx.T,dv.T,svq,svp,q.T)):\n",
    "    #Split out dp_t and dq_t\n",
    "    dp_t,dq_t = dx_t[:int(len(dx_t)/2)],dx_t[int(len(dx_t)/2):]\n",
    "    #get signs of reactive power\n",
    "    #sign_q = np.diag(np.sign(q_t))\n",
    "    #svq_impl_t = svq_t @ (np.multiply(K,-sign_q))\n",
    "    svq_impl_t = svq_t @K\n",
    "    #make S_dagger\n",
    "    S_dag = svp_t + svq_impl_t\n",
    "    #Estimate dv_t,dp_t,dq_t\n",
    "    hat_dv_t = S_dag@dp_t\n",
    "    hat_dp_t = np.linalg.inv(svp_t)@dv_t\n",
    "    hat_dq_t = (np.multiply(K,-sign_q))@dp_t\n",
    "    hat_dq[:,t] = hat_dq_t\n",
    "    #Construct hat_dx_t\n",
    "    hat_dx_t = np.concatenate((hat_dp_t,hat_dq_t))\n",
    "    impl_err.append({\n",
    "        'dv_rel_err':utils.calc_vector_rel_err(v_est=hat_dv_t,v_true=dv_t)*100,\n",
    "        'dp_rel_err':utils.calc_vector_rel_err(v_est=hat_dp_t,v_true=dp_t)*100,\n",
    "        'dq_rel_err':utils.calc_vector_rel_err(v_est=hat_dq_t,v_true=dq_t)*100,\n",
    "        'dx_rel_err':utils.calc_vector_rel_err(v_est=hat_dx_t,v_true=dx_t)*100\n",
    "    })\n",
    "\n",
    "import pandas as pd\n",
    "df = pd.DataFrame.from_dict(impl_err)"
   ]
  }
 ],
 "metadata": {
  "kernelspec": {
   "display_name": "Python 3 (ipykernel)",
   "language": "python",
   "name": "python3"
  },
  "language_info": {
   "codemirror_mode": {
    "name": "ipython",
    "version": 3
   },
   "file_extension": ".py",
   "mimetype": "text/x-python",
   "name": "python",
   "nbconvert_exporter": "python",
   "pygments_lexer": "ipython3",
   "version": "3.9.7"
  }
 },
 "nbformat": 4,
 "nbformat_minor": 5
}
